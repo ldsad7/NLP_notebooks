{
  "nbformat": 4,
  "nbformat_minor": 0,
  "metadata": {
    "colab": {
      "name": "Sem_emb_lm.ipynb",
      "version": "0.3.2",
      "provenance": [],
      "toc_visible": true
    },
    "language_info": {
      "codemirror_mode": {
        "name": "ipython",
        "version": 3
      },
      "file_extension": ".py",
      "mimetype": "text/x-python",
      "name": "python",
      "nbconvert_exporter": "python",
      "pygments_lexer": "ipython3",
      "version": "3.5.2"
    },
    "kernelspec": {
      "display_name": "Python [conda root]",
      "language": "python",
      "name": "conda-root-py"
    },
    "accelerator": "GPU"
  },
  "cells": [
    {
      "cell_type": "markdown",
      "metadata": {
        "id": "HFfT8pdhUeu9",
        "colab_type": "text"
      },
      "source": [
        "## Векторная модель текста в NLTK\n",
        "### Задание 1\n",
        "Возьмем файл alice.txt с прошлого семинара. Мы уже научились разбивать его на токены и удалять стоп-слова.\n",
        "Используя nltk.FreqDist, выведите 20 самых часто встречающихся слов в тексте (не удаляя стоп символы).\n",
        "\n",
        "Ответьте на вопросы:\n",
        "\n",
        "    Какое слово стоит на 1 месте?\n",
        "    Сколько раз встречается слово, стоящее на 20 месте?\n",
        "    Сколько не стоп-слов среди первых десяти?\n",
        "    Сколько раз встречается слово \"крокет\"? (понятно, что оно не входит в top20)\n"
      ]
    },
    {
      "cell_type": "code",
      "metadata": {
        "id": "sM9ircB2UnQg",
        "colab_type": "code",
        "colab": {
          "base_uri": "https://localhost:8080/",
          "height": 137
        },
        "outputId": "4ffe587d-d457-4d9a-8b52-bdcff6ad4d52"
      },
      "source": [
        "from google.colab import drive\n",
        "drive.mount('/content/drive', force_remount=True)"
      ],
      "execution_count": 2,
      "outputs": [
        {
          "output_type": "stream",
          "text": [
            "Go to this URL in a browser: https://accounts.google.com/o/oauth2/auth?client_id=947318989803-6bn6qk8qdgf4n4g3pfee6491hc0brc4i.apps.googleusercontent.com&redirect_uri=urn%3Aietf%3Awg%3Aoauth%3A2.0%3Aoob&scope=email%20https%3A%2F%2Fwww.googleapis.com%2Fauth%2Fdocs.test%20https%3A%2F%2Fwww.googleapis.com%2Fauth%2Fdrive%20https%3A%2F%2Fwww.googleapis.com%2Fauth%2Fdrive.photos.readonly%20https%3A%2F%2Fwww.googleapis.com%2Fauth%2Fpeopleapi.readonly&response_type=code\n",
            "\n",
            "Enter your authorization code:\n",
            "··········\n",
            "Mounted at /content/drive\n",
            "Mounted at /content/drive\n"
          ],
          "name": "stdout"
        }
      ]
    },
    {
      "cell_type": "code",
      "metadata": {
        "id": "_WmbnHELUevC",
        "colab_type": "code",
        "colab": {
          "base_uri": "https://localhost:8080/",
          "height": 84
        },
        "outputId": "7a47d506-c0fa-4e1c-993f-1bfca8fc7e1e"
      },
      "source": [
        "import nltk\n",
        "nltk.download('punkt')\n",
        "from nltk.corpus import stopwords\n",
        "nltk.download('stopwords')\n",
        "from nltk.tokenize import word_tokenize"
      ],
      "execution_count": 17,
      "outputs": [
        {
          "output_type": "stream",
          "text": [
            "[nltk_data] Downloading package punkt to /root/nltk_data...\n",
            "[nltk_data]   Package punkt is already up-to-date!\n",
            "[nltk_data] Downloading package stopwords to /root/nltk_data...\n",
            "[nltk_data]   Unzipping corpora/stopwords.zip.\n"
          ],
          "name": "stdout"
        }
      ]
    },
    {
      "cell_type": "code",
      "metadata": {
        "id": "36ECl_QIVc9G",
        "colab_type": "code",
        "colab": {}
      },
      "source": [
        "with open('alice.txt', 'r', encoding='utf-8') as f:\n",
        "    text = f.read()"
      ],
      "execution_count": 0,
      "outputs": []
    },
    {
      "cell_type": "code",
      "metadata": {
        "id": "h94jEeHxVdD-",
        "colab_type": "code",
        "colab": {}
      },
      "source": [
        "words = word_tokenize(text)"
      ],
      "execution_count": 0,
      "outputs": []
    },
    {
      "cell_type": "code",
      "metadata": {
        "id": "T1edQjhgVdHZ",
        "colab_type": "code",
        "colab": {}
      },
      "source": [
        "dct = nltk.FreqDist(words)"
      ],
      "execution_count": 0,
      "outputs": []
    },
    {
      "cell_type": "code",
      "metadata": {
        "id": "__psimSqVzUK",
        "colab_type": "code",
        "colab": {
          "base_uri": "https://localhost:8080/",
          "height": 351
        },
        "outputId": "0f74d47e-0211-496c-ee95-b478c8044841"
      },
      "source": [
        "[elem[0] for elem in dct.most_common(20)]"
      ],
      "execution_count": 53,
      "outputs": [
        {
          "output_type": "execute_result",
          "data": {
            "text/plain": [
              "[',',\n",
              " '–',\n",
              " '.',\n",
              " 'и',\n",
              " '!',\n",
              " 'не',\n",
              " 'Алиса',\n",
              " 'в',\n",
              " 'что',\n",
              " 'она',\n",
              " 'на',\n",
              " '?',\n",
              " 'с',\n",
              " 'я',\n",
              " ':',\n",
              " 'как',\n",
              " 'все',\n",
              " 'это',\n",
              " 'А',\n",
              " 'сказала']"
            ]
          },
          "metadata": {
            "tags": []
          },
          "execution_count": 53
        }
      ]
    },
    {
      "cell_type": "code",
      "metadata": {
        "id": "nH-0whd8V0QG",
        "colab_type": "code",
        "colab": {
          "base_uri": "https://localhost:8080/",
          "height": 33
        },
        "outputId": "f23e0601-e689-47bd-ae0c-4d6930d6a0ae"
      },
      "source": [
        "dct.most_common(1)[0][0]"
      ],
      "execution_count": 54,
      "outputs": [
        {
          "output_type": "execute_result",
          "data": {
            "text/plain": [
              "','"
            ]
          },
          "metadata": {
            "tags": []
          },
          "execution_count": 54
        }
      ]
    },
    {
      "cell_type": "code",
      "metadata": {
        "id": "UKPbg4SyWIAV",
        "colab_type": "code",
        "colab": {
          "base_uri": "https://localhost:8080/",
          "height": 33
        },
        "outputId": "118a7aa8-c599-4c3e-fc4d-02da7eb919f9"
      },
      "source": [
        "dct.most_common(20)[-1][1]"
      ],
      "execution_count": 55,
      "outputs": [
        {
          "output_type": "execute_result",
          "data": {
            "text/plain": [
              "123"
            ]
          },
          "metadata": {
            "tags": []
          },
          "execution_count": 55
        }
      ]
    },
    {
      "cell_type": "code",
      "metadata": {
        "id": "T5dRcpbMWZwc",
        "colab_type": "code",
        "colab": {}
      },
      "source": [
        "rus_stopwords = stopwords.words('russian')"
      ],
      "execution_count": 0,
      "outputs": []
    },
    {
      "cell_type": "code",
      "metadata": {
        "id": "GxAa78wFV0Tb",
        "colab_type": "code",
        "colab": {
          "base_uri": "https://localhost:8080/",
          "height": 33
        },
        "outputId": "cdac6e0e-5b28-4652-c111-725df4ebe878"
      },
      "source": [
        "not_stopwords = [elem[0] for elem in dct.most_common(10) if elem[0] not in rus_stopwords]\n",
        "print(not_stopwords, len(not_stopwords))"
      ],
      "execution_count": 57,
      "outputs": [
        {
          "output_type": "stream",
          "text": [
            "[',', '–', '.', '!', 'Алиса'] 5\n"
          ],
          "name": "stdout"
        }
      ]
    },
    {
      "cell_type": "code",
      "metadata": {
        "id": "5hPP5-4JW3af",
        "colab_type": "code",
        "colab": {
          "base_uri": "https://localhost:8080/",
          "height": 33
        },
        "outputId": "22b907f0-49f8-4abc-bf11-8a8b0325297b"
      },
      "source": [
        "word = 'крокет'\n",
        "dct[word], dct.freq(word)"
      ],
      "execution_count": 58,
      "outputs": [
        {
          "output_type": "execute_result",
          "data": {
            "text/plain": [
              "(6, 0.000219514872132587)"
            ]
          },
          "metadata": {
            "tags": []
          },
          "execution_count": 58
        }
      ]
    },
    {
      "cell_type": "markdown",
      "metadata": {
        "id": "KBumllJ2UevK",
        "colab_type": "text"
      },
      "source": [
        "### Задание 2\n",
        "Избавьтесь от стоп-слов с помощью списка stopwords из nltk.corpus. Используйте pymorphy2 или Mystem, чтобы привести слова к нормальной форме. Ответьте на вопросы:\n",
        "\n",
        "    Какое слово стоит на 1 месте?\n",
        "    Сколько раз встречается слово, стоящее на 20 месте?\n",
        "    Остались ли какие-то стоп-слова среди первых 10? 20?\n",
        "    Сколько раз встречается слово \"крокет\"? Почему результат изменился?\n"
      ]
    },
    {
      "cell_type": "code",
      "metadata": {
        "id": "opB3MPYtXBvl",
        "colab_type": "code",
        "colab": {
          "base_uri": "https://localhost:8080/",
          "height": 104
        },
        "outputId": "ede4d679-d29b-4a9f-850d-33050793ad89"
      },
      "source": [
        "!pip install pymorphy2\n",
        "import pymorphy2\n",
        "from string import punctuation\n",
        "morph = pymorphy2.MorphAnalyzer()\n",
        "l3 = [morph.parse(token)[0].normal_form for token in words if morph.parse(token)[0].normal_form not in (rus_stopwords + list(punctuation))]"
      ],
      "execution_count": 59,
      "outputs": [
        {
          "output_type": "stream",
          "text": [
            "Requirement already satisfied: pymorphy2 in /usr/local/lib/python3.6/dist-packages (0.8)\n",
            "Requirement already satisfied: docopt>=0.6 in /usr/local/lib/python3.6/dist-packages (from pymorphy2) (0.6.2)\n",
            "Requirement already satisfied: dawg-python>=0.7 in /usr/local/lib/python3.6/dist-packages (from pymorphy2) (0.7.2)\n",
            "Requirement already satisfied: pymorphy2-dicts<3.0,>=2.4 in /usr/local/lib/python3.6/dist-packages (from pymorphy2) (2.4.393442.3710985)\n"
          ],
          "name": "stdout"
        }
      ]
    },
    {
      "cell_type": "code",
      "metadata": {
        "id": "tzzfnL-5UevL",
        "colab_type": "code",
        "colab": {}
      },
      "source": [
        "dct = nltk.FreqDist(l3)"
      ],
      "execution_count": 0,
      "outputs": []
    },
    {
      "cell_type": "code",
      "metadata": {
        "id": "tn_VthpOXy5x",
        "colab_type": "code",
        "colab": {
          "base_uri": "https://localhost:8080/",
          "height": 33
        },
        "outputId": "ae07f3a4-ce54-4554-9b4a-3dbfd9492424"
      },
      "source": [
        "dct.most_common(1)[0][0]"
      ],
      "execution_count": 61,
      "outputs": [
        {
          "output_type": "execute_result",
          "data": {
            "text/plain": [
              "'–'"
            ]
          },
          "metadata": {
            "tags": []
          },
          "execution_count": 61
        }
      ]
    },
    {
      "cell_type": "code",
      "metadata": {
        "id": "CTlX5x2oX2Yg",
        "colab_type": "code",
        "colab": {
          "base_uri": "https://localhost:8080/",
          "height": 33
        },
        "outputId": "d2f95d0d-a69f-43f6-e464-938d4cdeb277"
      },
      "source": [
        "dct.most_common(20)[-1][1]"
      ],
      "execution_count": 62,
      "outputs": [
        {
          "output_type": "execute_result",
          "data": {
            "text/plain": [
              "51"
            ]
          },
          "metadata": {
            "tags": []
          },
          "execution_count": 62
        }
      ]
    },
    {
      "cell_type": "code",
      "metadata": {
        "id": "3SkOKFc9X_1Y",
        "colab_type": "code",
        "colab": {
          "base_uri": "https://localhost:8080/",
          "height": 351
        },
        "outputId": "786efd25-8cae-47f2-a7dc-a4754e16dac7"
      },
      "source": [
        "dct.most_common(20)"
      ],
      "execution_count": 63,
      "outputs": [
        {
          "output_type": "execute_result",
          "data": {
            "text/plain": [
              "[('–', 1936),\n",
              " ('алиса', 417),\n",
              " ('сказать', 257),\n",
              " ('это', 231),\n",
              " ('весь', 222),\n",
              " ('мочь', 89),\n",
              " ('спросить', 78),\n",
              " ('«', 76),\n",
              " ('»', 76),\n",
              " ('королева', 75),\n",
              " ('подумать', 73),\n",
              " ('свой', 68),\n",
              " ('король', 65),\n",
              " ('очень', 64),\n",
              " ('болванщик', 60),\n",
              " ('голова', 58),\n",
              " ('грифон', 57),\n",
              " ('квази', 53),\n",
              " ('рука', 51),\n",
              " ('кролик', 51)]"
            ]
          },
          "metadata": {
            "tags": []
          },
          "execution_count": 63
        }
      ]
    },
    {
      "cell_type": "code",
      "metadata": {
        "id": "zor47QsNYEcv",
        "colab_type": "code",
        "colab": {
          "base_uri": "https://localhost:8080/",
          "height": 33
        },
        "outputId": "509d1c31-f65d-4c67-d3b2-3d2cc0b96e3d"
      },
      "source": [
        "word = 'крокет'\n",
        "dct[word], dct.freq(word)"
      ],
      "execution_count": 64,
      "outputs": [
        {
          "output_type": "execute_result",
          "data": {
            "text/plain": [
              "(8, 0.0005683836589698046)"
            ]
          },
          "metadata": {
            "tags": []
          },
          "execution_count": 64
        }
      ]
    },
    {
      "cell_type": "markdown",
      "metadata": {
        "id": "kPD6jTBGUevP",
        "colab_type": "text"
      },
      "source": [
        "Давайте пострим кумулятивный график частот слов. Как он выглядит и почему так? Попробуйте поменять количество слов, какие тенденции вы видите?\n"
      ]
    },
    {
      "cell_type": "code",
      "metadata": {
        "id": "KwkD1HMyUevR",
        "colab_type": "code",
        "colab": {
          "base_uri": "https://localhost:8080/",
          "height": 321
        },
        "outputId": "45218428-7eff-47cd-e41b-a19429e7d729"
      },
      "source": [
        "dct.plot(10, cumulative=True)"
      ],
      "execution_count": 65,
      "outputs": [
        {
          "output_type": "display_data",
          "data": {
            "image/png": "[encoded data removed]",
            "text/plain": [
              "<Figure size 432x288 with 1 Axes>"
            ]
          },
          "metadata": {
            "tags": []
          }
        }
      ]
    },
    {
      "cell_type": "markdown",
      "metadata": {
        "id": "iXrb_cbdUevW",
        "colab_type": "text"
      },
      "source": [
        "### Задание 3\n",
        "\n",
        "Найдите распределение длин слов в тексте, выведите top5 и ответьте на вопросы:\n",
        "\n",
        "    Сколько всего в данном тексте вариантов длин слов (вместе со стоп-словами)?\n",
        "    Слов какой длины в тексте больше всего?\n",
        "    Какую долю занимают слова этой длины?\n",
        "    Сколько слов длины 1?\n",
        "\n",
        "Выведите в алфавитном поредке длинные слова (длиннее 15 символов).\n",
        "\n",
        "    Сколько их?"
      ]
    },
    {
      "cell_type": "code",
      "metadata": {
        "id": "vMyTE6sbbBoe",
        "colab_type": "code",
        "colab": {}
      },
      "source": [
        "from collections import Counter\n",
        "cntr = Counter([len(word) for word in l3])"
      ],
      "execution_count": 0,
      "outputs": []
    },
    {
      "cell_type": "code",
      "metadata": {
        "id": "R-xoYRUdbMeT",
        "colab_type": "code",
        "colab": {
          "base_uri": "https://localhost:8080/",
          "height": 33
        },
        "outputId": "650f9cd5-ce6f-4ef2-8aeb-45a32f609b63"
      },
      "source": [
        "cntr.most_common(5)"
      ],
      "execution_count": 70,
      "outputs": [
        {
          "output_type": "execute_result",
          "data": {
            "text/plain": [
              "[(1, 2119), (5, 2101), (6, 1952), (7, 1764), (8, 1461)]"
            ]
          },
          "metadata": {
            "tags": []
          },
          "execution_count": 70
        }
      ]
    },
    {
      "cell_type": "code",
      "metadata": {
        "id": "mcODZAJZbReA",
        "colab_type": "code",
        "colab": {
          "base_uri": "https://localhost:8080/",
          "height": 33
        },
        "outputId": "19af4f0a-f4ac-474e-84b0-8e56f62d9b5e"
      },
      "source": [
        "len(cntr)"
      ],
      "execution_count": 71,
      "outputs": [
        {
          "output_type": "execute_result",
          "data": {
            "text/plain": [
              "17"
            ]
          },
          "metadata": {
            "tags": []
          },
          "execution_count": 71
        }
      ]
    },
    {
      "cell_type": "code",
      "metadata": {
        "id": "Bf1mUO09bTVP",
        "colab_type": "code",
        "colab": {
          "base_uri": "https://localhost:8080/",
          "height": 33
        },
        "outputId": "d6d820d2-4e10-4b5a-b5e1-3c33e7d13a14"
      },
      "source": [
        "cntr.most_common(1)[0][0]"
      ],
      "execution_count": 73,
      "outputs": [
        {
          "output_type": "execute_result",
          "data": {
            "text/plain": [
              "1"
            ]
          },
          "metadata": {
            "tags": []
          },
          "execution_count": 73
        }
      ]
    },
    {
      "cell_type": "code",
      "metadata": {
        "id": "nVLfmHmXbY7A",
        "colab_type": "code",
        "colab": {
          "base_uri": "https://localhost:8080/",
          "height": 33
        },
        "outputId": "59560f5a-02d8-4180-c1ba-2d7f551784a3"
      },
      "source": [
        "fdist = nltk.FreqDist(len(w) for w in l3)\n",
        "print(fdist)"
      ],
      "execution_count": 75,
      "outputs": [
        {
          "output_type": "stream",
          "text": [
            "<FreqDist with 17 samples and 14075 outcomes>\n"
          ],
          "name": "stdout"
        }
      ]
    },
    {
      "cell_type": "code",
      "metadata": {
        "id": "tRXYtUbYbqDo",
        "colab_type": "code",
        "colab": {
          "base_uri": "https://localhost:8080/",
          "height": 84
        },
        "outputId": "c1828474-227b-40cb-932a-0f8ba4603c4b"
      },
      "source": [
        "fdist.most_common(5), fdist.max(), fdist.most_common(1)[0][1], fdist.freq(fdist.max())"
      ],
      "execution_count": 81,
      "outputs": [
        {
          "output_type": "execute_result",
          "data": {
            "text/plain": [
              "([(1, 2119), (5, 2101), (6, 1952), (7, 1764), (8, 1461)],\n",
              " 1,\n",
              " 2119,\n",
              " 0.150550621669627)"
            ]
          },
          "metadata": {
            "tags": []
          },
          "execution_count": 81
        }
      ]
    },
    {
      "cell_type": "code",
      "metadata": {
        "id": "HH1c2ESHUevX",
        "colab_type": "code",
        "colab": {
          "base_uri": "https://localhost:8080/",
          "height": 33
        },
        "outputId": "cf2911ea-d8c2-43ef-8c36-70841a0e9c81"
      },
      "source": [
        "long_words = [w for w in l3 if len(w) > 15]\n",
        "sorted(long_words), len(long_words)"
      ],
      "execution_count": 86,
      "outputs": [
        {
          "output_type": "execute_result",
          "data": {
            "text/plain": [
              "(['многозначительно', 'несправедливости…', 'поинтересоваться'], 3)"
            ]
          },
          "metadata": {
            "tags": []
          },
          "execution_count": 86
        }
      ]
    },
    {
      "cell_type": "markdown",
      "metadata": {
        "id": "bleGkqA3Uevc",
        "colab_type": "text"
      },
      "source": [
        "### Задание 4\n",
        "\n",
        "Превратите строку в NLTK-текст и проверьте, как работают спецфункции, на собственных примерах.\n"
      ]
    },
    {
      "cell_type": "code",
      "metadata": {
        "id": "J7M9A3nPUevd",
        "colab_type": "code",
        "colab": {
          "base_uri": "https://localhost:8080/",
          "height": 385
        },
        "outputId": "ef51dee4-cdc0-474c-e3bf-84e85b5dffdc"
      },
      "source": [
        "text = nltk.Text(l3)\n",
        "print(text.concordance(\"алиса\", 79, 20))"
      ],
      "execution_count": 94,
      "outputs": [
        {
          "output_type": "stream",
          "text": [
            "Displaying 20 of 417 matches:\n",
            "вечерний луч смягчить дневный краска алиса сказка детский день хранить седина т\n",
            "ка разговор – толк книжка – подумать алиса – картинка разговор сидеть размышлят\n",
            "й карман взглянуть помчаться далёкий алиса вскочить нога осенить ранний видеть \n",
            "ь заметить юркнуть нора изгородь миг алиса юркнуть следом думать выбираться обр\n",
            "ннель круто обрываться вниз 6 успеть алиса глаз моргнуть начало падать словно г\n",
            " апельсиновый » увы оказаться пустой алиса побояться бросить банка вниз – убить\n",
            "каф 7 – это упасть упасть – подумать алиса – упасть лестница пара пустяк наш ре\n",
            "сно сколько миля пролететь – сказать алиса вслух – верно приближаться центр зем\n",
            "коло четыре тысяча миля вниз… видеть алиса выучить кое-что это род урок классны\n",
            " удержаться – верно оно – продолжать алиса – интересно широта долгота сказать п\n",
            "ать падать делать нечего – помолчать алиса снова заговорить – дин сегодня весь \n",
            "ошка отбавлять интересно кошка мошка алиса почувствовать глаз нея слипаться сон\n",
            "ошка нея получаться – мошка кошка 15 алиса знать ответ вопрос весь равно задать\n",
            "ибудь мошка раздаться страшный треск алиса упасть куча валежник сухой лист ничу\n",
            "мелькнуть белый кролик терять минута алиса помчаться следом слышать исчезать по\n",
            "ик ах ушко опаздывать повернуть угол алиса ожидать увидеть кролик нигде очутить\n",
            "ал множество весь оказаться запереть алиса попробовать открыть – сначала сторон\n",
            "ничто кроме крошечный золотой ключик алиса решить это ключ дверь увы – замочный\n",
            "нький подойти стараться пройтись зал алиса увидеть занавеска который заметить р\n",
            "енький дверца дюйм пятнадцать вышина алиса вставить ключик замочный скважина – \n",
            "None\n"
          ],
          "name": "stdout"
        }
      ]
    },
    {
      "cell_type": "code",
      "metadata": {
        "id": "L-jlVoKkcvCb",
        "colab_type": "code",
        "colab": {
          "base_uri": "https://localhost:8080/",
          "height": 50
        },
        "outputId": "821c297c-fbce-4eec-dc1e-2f4e8e45ba4d"
      },
      "source": [
        "print(text.similar('ожидать'))"
      ],
      "execution_count": 99,
      "outputs": [
        {
          "output_type": "stream",
          "text": [
            "хватать\n",
            "None\n"
          ],
          "name": "stdout"
        }
      ]
    },
    {
      "cell_type": "code",
      "metadata": {
        "id": "Hajgx_Lzc1mY",
        "colab_type": "code",
        "colab": {
          "base_uri": "https://localhost:8080/",
          "height": 50
        },
        "outputId": "89f72680-de1f-4d6e-fb6e-318d0d92f6aa"
      },
      "source": [
        "print(text.common_contexts([\"зал\", \"ключик\"]))"
      ],
      "execution_count": 110,
      "outputs": [
        {
          "output_type": "stream",
          "text": [
            "No common contexts were found\n",
            "None\n"
          ],
          "name": "stdout"
        }
      ]
    },
    {
      "cell_type": "code",
      "metadata": {
        "id": "WZkRBtlgc1pr",
        "colab_type": "code",
        "colab": {
          "base_uri": "https://localhost:8080/",
          "height": 150
        },
        "outputId": "b57183f8-bfc7-43a4-ae7d-624f749b5bef"
      },
      "source": [
        "print(text.collocations(30))"
      ],
      "execution_count": 106,
      "outputs": [
        {
          "output_type": "stream",
          "text": [
            "черепаха квази; мартовский заяц; белый кролик; весь равно; подумать\n",
            "алиса; ваш величество; сказать алиса; никак мочь; всякий случай;\n",
            "немного спустя; сказать король; спросить алиса; мораль отсюда; отсюда\n",
            "таков; блаженная еда; блаже-э-нный е-да-; еда вечерний; отвечать\n",
            "алиса; подзорный труба; стеклянный столик; гав гав; скрестить грудь;\n",
            "золотой ключик; убить время; позволение ваш; ходить школа; папа\n",
            "вильям; робин гусь; надеть очки; отрубить голова\n",
            "None\n"
          ],
          "name": "stdout"
        }
      ]
    },
    {
      "cell_type": "markdown",
      "metadata": {
        "id": "Q-TSsi94Uevj",
        "colab_type": "text"
      },
      "source": [
        "## Эмбеддинги\n"
      ]
    },
    {
      "cell_type": "code",
      "metadata": {
        "id": "ecARkTHwUevl",
        "colab_type": "code",
        "colab": {}
      },
      "source": [
        "import pandas as pd\n",
        "import matplotlib.pyplot as plt\n",
        "import seaborn as sns\n",
        "import random\n",
        "import numpy as np\n",
        "from sklearn.metrics import *\n",
        "from sklearn.feature_extraction.text import *\n",
        "from sklearn.model_selection import train_test_split\n",
        "from collections import Counter, defaultdict\n",
        "import warnings\n",
        "warnings.filterwarnings('ignore')\n",
        "random.seed(1228)\n",
        "\n",
        "%matplotlib inline"
      ],
      "execution_count": 0,
      "outputs": []
    },
    {
      "cell_type": "markdown",
      "metadata": {
        "id": "GezZRDNmUevq",
        "colab_type": "text"
      },
      "source": [
        "Скачиваем куски датасета твитов ([источник](http://study.mokoron.com/)): [положительные](https://www.dropbox.com/s/fnpq3z4bcnoktiv/positive.csv?dl=0), [отрицательные](https://www.dropbox.com/s/ilkte35m35l38mr/negative.sql)."
      ]
    },
    {
      "cell_type": "code",
      "metadata": {
        "id": "GgiOL8wjUevt",
        "colab_type": "code",
        "colab": {
          "base_uri": "https://localhost:8080/",
          "height": 371
        },
        "outputId": "ddab7cbf-1249-4d7c-98f3-0bc72fc17779"
      },
      "source": [
        "!wget https://www.dropbox.com/s/fnpq3z4bcnoktiv/positive.csv?dl=0"
      ],
      "execution_count": 112,
      "outputs": [
        {
          "output_type": "stream",
          "text": [
            "--2019-05-29 16:49:38--  https://www.dropbox.com/s/fnpq3z4bcnoktiv/positive.csv?dl=0\n",
            "Resolving www.dropbox.com (www.dropbox.com)... 162.125.65.1, 2620:100:6021:1::a27d:4101\n",
            "Connecting to www.dropbox.com (www.dropbox.com)|162.125.65.1|:443... connected.\n",
            "HTTP request sent, awaiting response... 301 Moved Permanently\n",
            "Location: /s/raw/fnpq3z4bcnoktiv/positive.csv [following]\n",
            "--2019-05-29 16:49:39--  https://www.dropbox.com/s/raw/fnpq3z4bcnoktiv/positive.csv\n",
            "Reusing existing connection to www.dropbox.com:443.\n",
            "HTTP request sent, awaiting response... 302 Found\n",
            "Location: https://ucfeb9ec0081b1da36dc3468d270.dl.dropboxusercontent.com/cd/0/inline/Ah2kp6T0mGlG1m8bCFABEq3MXD3GBsqNLW-KrMSgx3zyHZI79eI4NWrb7_FxGHcapQbTiW90qZ_U-vNKEhbxqw-c58nStXdrmrLE5EP5OXtYIQ/file# [following]\n",
            "--2019-05-29 16:49:39--  https://ucfeb9ec0081b1da36dc3468d270.dl.dropboxusercontent.com/cd/0/inline/Ah2kp6T0mGlG1m8bCFABEq3MXD3GBsqNLW-KrMSgx3zyHZI79eI4NWrb7_FxGHcapQbTiW90qZ_U-vNKEhbxqw-c58nStXdrmrLE5EP5OXtYIQ/file\n",
            "Resolving ucfeb9ec0081b1da36dc3468d270.dl.dropboxusercontent.com (ucfeb9ec0081b1da36dc3468d270.dl.dropboxusercontent.com)... 162.125.65.6, 2620:100:6021:6::a27d:4106\n",
            "Connecting to ucfeb9ec0081b1da36dc3468d270.dl.dropboxusercontent.com (ucfeb9ec0081b1da36dc3468d270.dl.dropboxusercontent.com)|162.125.65.6|:443... connected.\n",
            "HTTP request sent, awaiting response... 200 OK\n",
            "Length: 26233379 (25M) [text/plain]\n",
            "Saving to: ‘positive.csv?dl=0’\n",
            "\n",
            "positive.csv?dl=0   100%[===================>]  25.02M  56.9MB/s    in 0.4s    \n",
            "\n",
            "2019-05-29 16:49:40 (56.9 MB/s) - ‘positive.csv?dl=0’ saved [26233379/26233379]\n",
            "\n"
          ],
          "name": "stdout"
        }
      ]
    },
    {
      "cell_type": "code",
      "metadata": {
        "id": "eag6RWuJUev_",
        "colab_type": "code",
        "colab": {
          "base_uri": "https://localhost:8080/",
          "height": 371
        },
        "outputId": "15337963-3a82-40fa-f7d6-d7991ff0370b"
      },
      "source": [
        "!wget https://www.dropbox.com/s/r6u59ljhhjdg6j0/negative.csv?dl=0"
      ],
      "execution_count": 113,
      "outputs": [
        {
          "output_type": "stream",
          "text": [
            "--2019-05-29 16:49:43--  https://www.dropbox.com/s/r6u59ljhhjdg6j0/negative.csv?dl=0\n",
            "Resolving www.dropbox.com (www.dropbox.com)... 162.125.65.1, 2620:100:6021:1::a27d:4101\n",
            "Connecting to www.dropbox.com (www.dropbox.com)|162.125.65.1|:443... connected.\n",
            "HTTP request sent, awaiting response... 301 Moved Permanently\n",
            "Location: /s/raw/r6u59ljhhjdg6j0/negative.csv [following]\n",
            "--2019-05-29 16:49:44--  https://www.dropbox.com/s/raw/r6u59ljhhjdg6j0/negative.csv\n",
            "Reusing existing connection to www.dropbox.com:443.\n",
            "HTTP request sent, awaiting response... 302 Found\n",
            "Location: https://ucf5b60869e02c57c840520f4184.dl.dropboxusercontent.com/cd/0/inline/Ah3yNrQITgrkkaS-GwgpZaiFBe4s_LERvK93NjXy9lyjHN93pMG2kSLhm4NUWo8zv_uD59p_VKggnM_UqbtEK15of68-KgMm5Hoat1jYOTqbVQ/file# [following]\n",
            "--2019-05-29 16:49:44--  https://ucf5b60869e02c57c840520f4184.dl.dropboxusercontent.com/cd/0/inline/Ah3yNrQITgrkkaS-GwgpZaiFBe4s_LERvK93NjXy9lyjHN93pMG2kSLhm4NUWo8zv_uD59p_VKggnM_UqbtEK15of68-KgMm5Hoat1jYOTqbVQ/file\n",
            "Resolving ucf5b60869e02c57c840520f4184.dl.dropboxusercontent.com (ucf5b60869e02c57c840520f4184.dl.dropboxusercontent.com)... 162.125.65.6, 2620:100:6021:6::a27d:4106\n",
            "Connecting to ucf5b60869e02c57c840520f4184.dl.dropboxusercontent.com (ucf5b60869e02c57c840520f4184.dl.dropboxusercontent.com)|162.125.65.6|:443... connected.\n",
            "HTTP request sent, awaiting response... 200 OK\n",
            "Length: 24450101 (23M) [text/plain]\n",
            "Saving to: ‘negative.csv?dl=0’\n",
            "\n",
            "negative.csv?dl=0   100%[===================>]  23.32M  38.2MB/s    in 0.6s    \n",
            "\n",
            "2019-05-29 16:49:45 (38.2 MB/s) - ‘negative.csv?dl=0’ saved [24450101/24450101]\n",
            "\n"
          ],
          "name": "stdout"
        }
      ]
    },
    {
      "cell_type": "markdown",
      "metadata": {
        "id": "Nggp7R3xUewL",
        "colab_type": "text"
      },
      "source": [
        "Загружаем лемматизированные статьи без стоп-слов и создаем массив текстов"
      ]
    },
    {
      "cell_type": "code",
      "metadata": {
        "id": "7OP8Ar9cUewN",
        "colab_type": "code",
        "colab": {}
      },
      "source": [
        "from pymystem3 import Mystem\n",
        "import re\n",
        "\n",
        "m = Mystem()\n",
        "\n",
        "regex = re.compile(\"[А-Яа-я:=!\\)\\()A-z\\_\\%/|]+\")\n",
        "\n",
        "def words_only(text, regex=regex):\n",
        "    try:\n",
        "        return \" \".join(regex.findall(text))\n",
        "    except:\n",
        "        return \"\"\n",
        "\n",
        "def lemmatize(text, mystem=m):\n",
        "    try:\n",
        "        return \"\".join(m.lemmatize(text)).strip()  \n",
        "    except:\n",
        "        return \" \""
      ],
      "execution_count": 0,
      "outputs": []
    },
    {
      "cell_type": "code",
      "metadata": {
        "id": "1M6zeV6pUewQ",
        "colab_type": "code",
        "colab": {
          "base_uri": "https://localhost:8080/",
          "height": 84
        },
        "outputId": "1a1165e3-4b9d-467b-a428-9aa1694a1d4c"
      },
      "source": [
        "df_neg = pd.read_csv(\"negative.csv?dl=0\", sep=';', header = None, usecols = [3])\n",
        "df_pos = pd.read_csv(\"positive.csv?dl=0\", sep=';', header = None, usecols = [3])\n",
        "df_neg['sent'] = 'neg'\n",
        "df_pos['sent'] = 'pos'\n",
        "df_pos['text'] = df_pos[3]\n",
        "df_neg['text'] = df_neg[3]\n",
        "df = pd.concat([df_neg, df_pos])\n",
        "df = df[['text', 'sent']]\n",
        "%time df.text = df.text.apply(words_only)\n",
        "%time df.text = df.text.apply(lemmatize)"
      ],
      "execution_count": 120,
      "outputs": [
        {
          "output_type": "stream",
          "text": [
            "CPU times: user 1.06 s, sys: 22.1 ms, total: 1.09 s\n",
            "Wall time: 1.09 s\n",
            "CPU times: user 1min 8s, sys: 48.1 s, total: 1min 56s\n",
            "Wall time: 1min 57s\n"
          ],
          "name": "stdout"
        }
      ]
    },
    {
      "cell_type": "code",
      "metadata": {
        "id": "kCBKtsRwUewX",
        "colab_type": "code",
        "colab": {}
      },
      "source": [
        "print(df.shape)\n",
        "df.head()"
      ],
      "execution_count": 0,
      "outputs": []
    },
    {
      "cell_type": "code",
      "metadata": {
        "id": "k_SwSDDXUewc",
        "colab_type": "code",
        "colab": {}
      },
      "source": [
        "df.tail()"
      ],
      "execution_count": 0,
      "outputs": []
    },
    {
      "cell_type": "code",
      "metadata": {
        "id": "XSmi23hPUewf",
        "colab_type": "code",
        "colab": {}
      },
      "source": [
        "texts = [df.text.iloc[i].split() for i in range(len(df))]"
      ],
      "execution_count": 0,
      "outputs": []
    },
    {
      "cell_type": "markdown",
      "metadata": {
        "id": "U_UWTNOJUewm",
        "colab_type": "text"
      },
      "source": [
        "### Обучение модели в gensim"
      ]
    },
    {
      "cell_type": "code",
      "metadata": {
        "id": "4IIHyjYxUewn",
        "colab_type": "code",
        "colab": {}
      },
      "source": [
        "texts[0]"
      ],
      "execution_count": 0,
      "outputs": []
    },
    {
      "cell_type": "code",
      "metadata": {
        "id": "yoXDTy4GUeww",
        "colab_type": "code",
        "colab": {}
      },
      "source": [
        "%%time\n",
        "from gensim.models import Word2Vec\n",
        "model = Word2Vec(texts, size=100, window=5, min_count=5, workers=4)\n",
        "model.save(\"word2v.model\")"
      ],
      "execution_count": 0,
      "outputs": []
    },
    {
      "cell_type": "code",
      "metadata": {
        "id": "2IdQbNgNUew2",
        "colab_type": "code",
        "colab": {}
      },
      "source": [
        "# здесь можно посмотреть все слова, к которым мы имеем вектора\n",
        "# model.vocab"
      ],
      "execution_count": 0,
      "outputs": []
    },
    {
      "cell_type": "markdown",
      "metadata": {
        "id": "u4G8AGa7UexB",
        "colab_type": "text"
      },
      "source": [
        "Загружаем обученную модель (для скорости):"
      ]
    },
    {
      "cell_type": "code",
      "metadata": {
        "id": "rqzktz7SUexC",
        "colab_type": "code",
        "colab": {}
      },
      "source": [
        "# from gensim.models import Word2Vec\n",
        "# model = Word2Vec.load(\"sent_w2v.model\")"
      ],
      "execution_count": 0,
      "outputs": []
    },
    {
      "cell_type": "markdown",
      "metadata": {
        "id": "aHN1DkiTUexG",
        "colab_type": "text"
      },
      "source": [
        "Теперь можно воспользjваться функциями поиска похожих / непохожих слов на данное\n",
        "\n",
        "    model.most_similar\n",
        "    model.doesnt_match\n",
        "    etc"
      ]
    },
    {
      "cell_type": "code",
      "metadata": {
        "id": "ZfbHHMZ5UexH",
        "colab_type": "code",
        "colab": {}
      },
      "source": [
        "model.most_similar(\"корпоратив\")"
      ],
      "execution_count": 0,
      "outputs": []
    },
    {
      "cell_type": "code",
      "metadata": {
        "id": "KBaXvvF9UexK",
        "colab_type": "code",
        "colab": {}
      },
      "source": [
        "model.most_similar(positive=[\"король\",\"добрый\"], negative=[\"хороший\"])"
      ],
      "execution_count": 0,
      "outputs": []
    },
    {
      "cell_type": "code",
      "metadata": {
        "id": "1ghbMUEgUexM",
        "colab_type": "code",
        "colab": {}
      },
      "source": [
        "model.doesnt_match(\"борщ сметана макароны пирожок котлета\".split())"
      ],
      "execution_count": 0,
      "outputs": []
    },
    {
      "cell_type": "markdown",
      "metadata": {
        "id": "WYNEfLGCUexR",
        "colab_type": "text"
      },
      "source": [
        "### Задание 5\n",
        "Выделите top 100 самых частотных слов и получите для них только что обученные вектора"
      ]
    },
    {
      "cell_type": "code",
      "metadata": {
        "id": "J7K2Tds0UexS",
        "colab_type": "code",
        "colab": {}
      },
      "source": [
        "from nltk import FreqDist\n",
        "\n",
        "fd = FreqDist()\n",
        "# your code is hear\n",
        "\n",
        "top_words = # your code is hear"
      ],
      "execution_count": 0,
      "outputs": []
    },
    {
      "cell_type": "code",
      "metadata": {
        "id": "JDYLahVnUexY",
        "colab_type": "code",
        "colab": {}
      },
      "source": [
        "model['рабочий']"
      ],
      "execution_count": 0,
      "outputs": []
    },
    {
      "cell_type": "code",
      "metadata": {
        "id": "-bUEe0TvUexd",
        "colab_type": "code",
        "colab": {}
      },
      "source": [
        "top_words_vec = # your code is hear"
      ],
      "execution_count": 0,
      "outputs": []
    },
    {
      "cell_type": "markdown",
      "metadata": {
        "id": "wBJOc2MtUexh",
        "colab_type": "text"
      },
      "source": [
        "Визуализируем вектора. Для этого воспользуемся методом снижения размерности t-sne"
      ]
    },
    {
      "cell_type": "code",
      "metadata": {
        "id": "W2AAzdnCUexi",
        "colab_type": "code",
        "colab": {}
      },
      "source": [
        "from sklearn.manifold import TSNE\n",
        "tsne = TSNE(n_components=2, random_state=0)\n",
        "top_words_tsne = tsne.fit_transform(top_words_vec)"
      ],
      "execution_count": 0,
      "outputs": []
    },
    {
      "cell_type": "code",
      "metadata": {
        "id": "aCRcMtfVUexk",
        "colab_type": "code",
        "colab": {}
      },
      "source": [
        "from bokeh.models import ColumnDataSource, LabelSet\n",
        "from bokeh.plotting import figure, show, output_file\n",
        "from bokeh.io import output_notebook\n",
        "output_notebook()\n",
        "\n",
        "p = figure(tools=\"pan,wheel_zoom,reset,save\",\n",
        "           toolbar_location=\"above\",\n",
        "           title=\"word2vec T-SNE for most common words\")\n",
        "\n",
        "source = ColumnDataSource(data=dict(x1=top_words_tsne[:,0],\n",
        "                                    x2=top_words_tsne[:,1],\n",
        "                                    names=top_words))\n",
        "\n",
        "p.scatter(x=\"x1\", y=\"x2\", size=8, source=source)\n",
        "\n",
        "labels = LabelSet(x=\"x1\", y=\"x2\", text=\"names\", y_offset=6,\n",
        "                  text_font_size=\"8pt\", text_color=\"#555555\",\n",
        "                  source=source, text_align='center')\n",
        "p.add_layout(labels)\n",
        "\n",
        "show(p)"
      ],
      "execution_count": 0,
      "outputs": []
    },
    {
      "cell_type": "markdown",
      "metadata": {
        "id": "JHibHrvTUexo",
        "colab_type": "text"
      },
      "source": [
        "Теперь нарисуем облако слов"
      ]
    },
    {
      "cell_type": "code",
      "metadata": {
        "id": "7vzdVHBwUexp",
        "colab_type": "code",
        "colab": {}
      },
      "source": [
        "from wordcloud import *\n",
        "word_freq = [i for i in fd.most_common(100)]\n",
        "wd = WordCloud(background_color = 'white')\n",
        "wd.generate_from_frequencies(dict(word_freq))\n",
        "plt.figure()\n",
        "plt.imshow(wd, interpolation = 'bilinear')\n",
        "plt.axis('off')\n",
        "plt.show()"
      ],
      "execution_count": 0,
      "outputs": []
    },
    {
      "cell_type": "markdown",
      "metadata": {
        "id": "BJTZjQ0xUexr",
        "colab_type": "text"
      },
      "source": [
        "### Кластеризация слов"
      ]
    },
    {
      "cell_type": "code",
      "metadata": {
        "id": "zMJ2F6p-Uexs",
        "colab_type": "code",
        "colab": {}
      },
      "source": [
        "from sklearn.metrics.pairwise import cosine_similarity\n",
        "dist = 1 - cosine_similarity(top_words_vec)"
      ],
      "execution_count": 0,
      "outputs": []
    },
    {
      "cell_type": "code",
      "metadata": {
        "id": "VKmF3k_XUexw",
        "colab_type": "code",
        "colab": {}
      },
      "source": [
        "from scipy.cluster.hierarchy import  ward, dendrogram\n",
        "\n",
        "linkage_matrix = ward(dist) \n",
        "\n",
        "fig, ax = plt.subplots(figsize=(10, 100)) \n",
        "ax = dendrogram(linkage_matrix, orientation=\"right\", labels=top_words);\n",
        "\n",
        "plt.tick_params(\\\n",
        "    axis= 'x',          # changes apply to the x-axis\n",
        "    which='both',      # both major and minor ticks are affected\n",
        "    bottom='off',      # ticks along the bottom edge are off\n",
        "    top='off',         # ticks along the top edge are off\n",
        "    labelbottom='off')\n",
        "\n",
        "plt.tight_layout() \n",
        "\n",
        "plt.savefig('w2v_cluster.png', dpi=200) #save figure as ward_clusters"
      ],
      "execution_count": 0,
      "outputs": []
    },
    {
      "cell_type": "markdown",
      "metadata": {
        "id": "6CbpvUD3Uex1",
        "colab_type": "text"
      },
      "source": [
        "## Языковые модели"
      ]
    },
    {
      "cell_type": "markdown",
      "metadata": {
        "id": "hIlZUNy8Uex3",
        "colab_type": "text"
      },
      "source": [
        "### Модели биграм в NLTK"
      ]
    },
    {
      "cell_type": "code",
      "metadata": {
        "id": "pw7bsMjUUex4",
        "colab_type": "code",
        "colab": {}
      },
      "source": [
        "import nltk"
      ],
      "execution_count": 0,
      "outputs": []
    },
    {
      "cell_type": "code",
      "metadata": {
        "id": "occAyPciUeyB",
        "colab_type": "code",
        "colab": {
          "base_uri": "https://localhost:8080/",
          "height": 53
        },
        "outputId": "7ddf63c6-01ce-4eba-fda4-84ff2774b127"
      },
      "source": [
        "names = [name.strip().lower() for name in open('dinos.txt').readlines()]\n",
        "print(names[:10])"
      ],
      "execution_count": 125,
      "outputs": [
        {
          "output_type": "stream",
          "text": [
            "['aachenosaurus', 'aardonyx', 'abdallahsaurus', 'abelisaurus', 'abrictosaurus', 'abrosaurus', 'abydosaurus', 'acanthopholis', 'achelousaurus', 'acheroraptor']\n"
          ],
          "name": "stdout"
        }
      ]
    },
    {
      "cell_type": "code",
      "metadata": {
        "id": "3UxmB6IxUeyF",
        "colab_type": "code",
        "colab": {
          "base_uri": "https://localhost:8080/",
          "height": 53
        },
        "outputId": "9282fabf-7bb4-421d-ed6d-2d82f4436978"
      },
      "source": [
        "chars = [char for name in names for char in name]\n",
        "freq = nltk.FreqDist(chars)\n",
        "\n",
        "print(list(freq.keys()))"
      ],
      "execution_count": 126,
      "outputs": [
        {
          "output_type": "stream",
          "text": [
            "['a', 'c', 'h', 'e', 'n', 'o', 's', 'u', 'r', 'd', 'y', 'x', 'b', 'l', 'i', 't', 'p', 'v', 'm', 'g', 'f', 'j', 'k', 'w', 'z', 'q']\n"
          ],
          "name": "stdout"
        }
      ]
    },
    {
      "cell_type": "code",
      "metadata": {
        "id": "Ar9ARbXqUeyH",
        "colab_type": "code",
        "colab": {
          "base_uri": "https://localhost:8080/",
          "height": 33
        },
        "outputId": "1357dfbd-3281-4ce5-847b-7e83d526ef21"
      },
      "source": [
        "cfreq = nltk.ConditionalFreqDist(nltk.bigrams(chars))\n",
        "print(cfreq['a'])"
      ],
      "execution_count": 128,
      "outputs": [
        {
          "output_type": "stream",
          "text": [
            "<FreqDist with 26 samples and 2487 outcomes>\n"
          ],
          "name": "stdout"
        }
      ]
    },
    {
      "cell_type": "code",
      "metadata": {
        "id": "No5kvYAMUeyO",
        "colab_type": "code",
        "colab": {
          "base_uri": "https://localhost:8080/",
          "height": 67
        },
        "outputId": "d0e0cfd8-7278-4086-c24b-d0ebdec7cb8e"
      },
      "source": [
        "cprob = nltk.ConditionalProbDist(cfreq, nltk.MLEProbDist)\n",
        "print('p(a a) = %1.4f' %cprob['a'].prob('a'))\n",
        "print('p(a b) = %1.4f' %cprob['a'].prob('b'))\n",
        "print('p(a u) = %1.4f' %cprob['a'].prob('u'))"
      ],
      "execution_count": 129,
      "outputs": [
        {
          "output_type": "stream",
          "text": [
            "p(a a) = 0.0105\n",
            "p(a b) = 0.0129\n",
            "p(a u) = 0.3185\n"
          ],
          "name": "stdout"
        }
      ]
    },
    {
      "cell_type": "code",
      "metadata": {
        "id": "j61VQd5nUeyR",
        "colab_type": "code",
        "colab": {
          "base_uri": "https://localhost:8080/",
          "height": 33
        },
        "outputId": "40debe0a-2565-4e9d-a8c3-98b2999ffcc4"
      },
      "source": [
        "l = sum([freq[char] for char in freq])\n",
        "def unigram_prob(char):\n",
        "    return freq[char] / l\n",
        "print('p(a) = %1.4f' %unigram_prob('a'))"
      ],
      "execution_count": 130,
      "outputs": [
        {
          "output_type": "stream",
          "text": [
            "p(a) = 0.1354\n"
          ],
          "name": "stdout"
        }
      ]
    },
    {
      "cell_type": "code",
      "metadata": {
        "id": "NivHw18bUeyW",
        "colab_type": "code",
        "colab": {
          "base_uri": "https://localhost:8080/",
          "height": 33
        },
        "outputId": "4470ad80-8f4f-439d-d9a0-299471a002b0"
      },
      "source": [
        "# можно порождать случайные символы с учётом предыдущих \n",
        "cprob['a'].generate()"
      ],
      "execution_count": 131,
      "outputs": [
        {
          "output_type": "execute_result",
          "data": {
            "text/plain": [
              "'u'"
            ]
          },
          "metadata": {
            "tags": []
          },
          "execution_count": 131
        }
      ]
    },
    {
      "cell_type": "markdown",
      "metadata": {
        "id": "QBWz1r09Ueyk",
        "colab_type": "text"
      },
      "source": [
        "### Рекуррентные нейронные языковые модели"
      ]
    },
    {
      "cell_type": "code",
      "metadata": {
        "id": "_p7Sc70gUeyl",
        "colab_type": "code",
        "colab": {}
      },
      "source": [
        "import numpy as np\n",
        "import random\n",
        "import torch\n",
        "import torch.nn as nn\n",
        "import torch.optim as optim\n",
        "import pdb\n",
        "from torch.utils.data import Dataset, DataLoader\n",
        "\n",
        "%load_ext autoreload\n",
        "%autoreload 2\n",
        "\n",
        "torch.set_printoptions(linewidth=200)"
      ],
      "execution_count": 0,
      "outputs": []
    },
    {
      "cell_type": "code",
      "metadata": {
        "id": "VLe8SC5EUeys",
        "colab_type": "code",
        "colab": {}
      },
      "source": [
        "device = torch.device(\"cuda:0\" if torch.cuda.is_available() else \"cpu\")\n",
        "hidden_size = 50"
      ],
      "execution_count": 0,
      "outputs": []
    },
    {
      "cell_type": "code",
      "metadata": {
        "id": "puuHKnDKUeyy",
        "colab_type": "code",
        "colab": {}
      },
      "source": [
        "class DinosDataset(Dataset):\n",
        "    def __init__(self):\n",
        "        super().__init__()\n",
        "        with open('dinos.txt') as f:\n",
        "            content = f.read().lower()\n",
        "            self.vocab = sorted(set(content))\n",
        "            self.vocab_size = len(self.vocab)\n",
        "            self.lines = content.splitlines()\n",
        "        self.ch_to_idx = {c:i for i, c in enumerate(self.vocab)}\n",
        "        self.idx_to_ch = {i:c for i, c in enumerate(self.vocab)}\n",
        "    \n",
        "    def __getitem__(self, index):\n",
        "        line = self.lines[index]\n",
        "        # teacher forcing\n",
        "        x_str = line\n",
        "        y_str = line[1:] + '\\n'\n",
        "        x = torch.zeros([len(x_str), self.vocab_size], dtype=torch.float)\n",
        "        y = torch.empty(len(x_str), dtype=torch.long)\n",
        "        for i, (x_ch, y_ch) in enumerate(zip(x_str, y_str)):\n",
        "            x[i][self.ch_to_idx[x_ch]] = 1\n",
        "            y[i] = self.ch_to_idx[y_ch]\n",
        "        \n",
        "        return x, y\n",
        "    \n",
        "    def __len__(self):\n",
        "        return len(self.lines)"
      ],
      "execution_count": 0,
      "outputs": []
    },
    {
      "cell_type": "code",
      "metadata": {
        "id": "egHfdolsUey1",
        "colab_type": "code",
        "colab": {}
      },
      "source": [
        "trn_ds = DinosDataset()\n",
        "trn_dl = DataLoader(trn_ds, shuffle=True)"
      ],
      "execution_count": 0,
      "outputs": []
    },
    {
      "cell_type": "code",
      "metadata": {
        "id": "3a5Bc63-Uey5",
        "colab_type": "code",
        "colab": {
          "base_uri": "https://localhost:8080/",
          "height": 33
        },
        "outputId": "fe48957d-4ea1-4dc7-94de-7ca2a5db4a62"
      },
      "source": [
        "print(trn_ds.lines[1])"
      ],
      "execution_count": 136,
      "outputs": [
        {
          "output_type": "stream",
          "text": [
            "aardonyx\n"
          ],
          "name": "stdout"
        }
      ]
    },
    {
      "cell_type": "code",
      "metadata": {
        "id": "oGbCcKmMUey_",
        "colab_type": "code",
        "colab": {
          "base_uri": "https://localhost:8080/",
          "height": 53
        },
        "outputId": "e0e3e919-de48-49e4-cdb7-7407caa2ee0c"
      },
      "source": [
        "print(trn_ds.ch_to_idx)"
      ],
      "execution_count": 137,
      "outputs": [
        {
          "output_type": "stream",
          "text": [
            "{'\\n': 0, 'a': 1, 'b': 2, 'c': 3, 'd': 4, 'e': 5, 'f': 6, 'g': 7, 'h': 8, 'i': 9, 'j': 10, 'k': 11, 'l': 12, 'm': 13, 'n': 14, 'o': 15, 'p': 16, 'q': 17, 'r': 18, 's': 19, 't': 20, 'u': 21, 'v': 22, 'w': 23, 'x': 24, 'y': 25, 'z': 26}\n"
          ],
          "name": "stdout"
        }
      ]
    },
    {
      "cell_type": "code",
      "metadata": {
        "id": "GbD0OsDOUezC",
        "colab_type": "code",
        "colab": {
          "base_uri": "https://localhost:8080/",
          "height": 167
        },
        "outputId": "4dfbf8ed-fb87-44c0-df64-ae996472ea84"
      },
      "source": [
        "x, y = trn_ds[1]\n",
        "print(x)\n",
        "print(y)"
      ],
      "execution_count": 138,
      "outputs": [
        {
          "output_type": "stream",
          "text": [
            "tensor([[0., 1., 0., 0., 0., 0., 0., 0., 0., 0., 0., 0., 0., 0., 0., 0., 0., 0., 0., 0., 0., 0., 0., 0., 0., 0., 0.],\n",
            "        [0., 1., 0., 0., 0., 0., 0., 0., 0., 0., 0., 0., 0., 0., 0., 0., 0., 0., 0., 0., 0., 0., 0., 0., 0., 0., 0.],\n",
            "        [0., 0., 0., 0., 0., 0., 0., 0., 0., 0., 0., 0., 0., 0., 0., 0., 0., 0., 1., 0., 0., 0., 0., 0., 0., 0., 0.],\n",
            "        [0., 0., 0., 0., 1., 0., 0., 0., 0., 0., 0., 0., 0., 0., 0., 0., 0., 0., 0., 0., 0., 0., 0., 0., 0., 0., 0.],\n",
            "        [0., 0., 0., 0., 0., 0., 0., 0., 0., 0., 0., 0., 0., 0., 0., 1., 0., 0., 0., 0., 0., 0., 0., 0., 0., 0., 0.],\n",
            "        [0., 0., 0., 0., 0., 0., 0., 0., 0., 0., 0., 0., 0., 0., 1., 0., 0., 0., 0., 0., 0., 0., 0., 0., 0., 0., 0.],\n",
            "        [0., 0., 0., 0., 0., 0., 0., 0., 0., 0., 0., 0., 0., 0., 0., 0., 0., 0., 0., 0., 0., 0., 0., 0., 0., 1., 0.],\n",
            "        [0., 0., 0., 0., 0., 0., 0., 0., 0., 0., 0., 0., 0., 0., 0., 0., 0., 0., 0., 0., 0., 0., 0., 0., 1., 0., 0.]])\n",
            "tensor([ 1, 18,  4, 15, 14, 25, 24,  0])\n"
          ],
          "name": "stdout"
        }
      ]
    },
    {
      "cell_type": "code",
      "metadata": {
        "id": "4LpWiF_xUezH",
        "colab_type": "code",
        "colab": {}
      },
      "source": [
        "class RNN(nn.Module):\n",
        "    def __init__(self, input_size, hidden_size, output_size):\n",
        "        super().__init__()\n",
        "        self.i2h = nn.Linear(input_size + hidden_size, hidden_size)\n",
        "        self.dropout = nn.Dropout(0.3)\n",
        "        self.i2o = nn.Linear(input_size + hidden_size, output_size)\n",
        "\n",
        "    def forward(self, h_prev, x):\n",
        "        combined = torch.cat([h_prev, x], dim = 1) # конкатенируем вектора состояния и входа\n",
        "        h = torch.tanh(self.dropout(self.i2h(combined)))\n",
        "        y = self.i2o(combined)\n",
        "        return h, y"
      ],
      "execution_count": 0,
      "outputs": []
    },
    {
      "cell_type": "code",
      "metadata": {
        "id": "snfGDQeMUezS",
        "colab_type": "code",
        "colab": {}
      },
      "source": [
        "model = RNN(trn_ds.vocab_size, hidden_size, trn_ds.vocab_size).to(device)\n",
        "loss_fn = nn.CrossEntropyLoss()\n",
        "optimizer = optim.SGD(model.parameters(), lr=1e-2)"
      ],
      "execution_count": 0,
      "outputs": []
    },
    {
      "cell_type": "code",
      "metadata": {
        "id": "TgAO-ctbUezX",
        "colab_type": "code",
        "colab": {}
      },
      "source": [
        "def print_sample(sample_idxs):\n",
        "    [print(trn_ds.idx_to_ch[x], end='') for x in sample_idxs]"
      ],
      "execution_count": 0,
      "outputs": []
    },
    {
      "cell_type": "code",
      "metadata": {
        "id": "p49Xtkg_Uezc",
        "colab_type": "code",
        "colab": {}
      },
      "source": [
        "def sample(model):\n",
        "    model.eval()\n",
        "    word_size=0\n",
        "    newline_idx = trn_ds.ch_to_idx['\\n']\n",
        "    with torch.no_grad():\n",
        "        h_prev = torch.zeros([1, hidden_size], dtype=torch.float, device=device)\n",
        "        x = h_prev.new_zeros([1, trn_ds.vocab_size])\n",
        "        start_char_idx = random.randint(1, trn_ds.vocab_size-1)\n",
        "        indices = [start_char_idx]\n",
        "        x[0, start_char_idx] = 1\n",
        "        predicted_char_idx = start_char_idx\n",
        "        \n",
        "        while predicted_char_idx != newline_idx and word_size != 50:\n",
        "            h_prev, y_pred = model(h_prev, x)\n",
        "            y_softmax_scores = torch.softmax(y_pred, dim=1)\n",
        "\n",
        "            np.random.seed(np.random.randint(1, 5000))\n",
        "            idx = np.random.choice(np.arange(trn_ds.vocab_size), p=y_softmax_scores.cpu().numpy().ravel())\n",
        "            indices.append(idx)\n",
        "\n",
        "            x = (y_pred == y_pred.max(1)[0]).float()\n",
        "            predicted_char_idx = idx\n",
        "            \n",
        "            word_size += 1\n",
        "        \n",
        "        if word_size == 50:\n",
        "            indices.append(newline_idx)\n",
        "    return indices"
      ],
      "execution_count": 0,
      "outputs": []
    },
    {
      "cell_type": "code",
      "metadata": {
        "id": "trIGjnKaUezh",
        "colab_type": "code",
        "colab": {}
      },
      "source": [
        "def train_one_epoch(model, loss_fn, optimizer):\n",
        "    model.train()\n",
        "    for line_num, (x, y) in enumerate(trn_dl):\n",
        "        loss = 0\n",
        "        optimizer.zero_grad()\n",
        "        h_prev = torch.zeros([1, hidden_size], dtype=torch.float, device=device)\n",
        "        x, y = x.to(device), y.to(device)\n",
        "        for i in range(x.shape[1]):\n",
        "            h_prev, y_pred = model(h_prev, x[:, i])\n",
        "            loss += loss_fn(y_pred, y[:, i])\n",
        "            \n",
        "        if (line_num+1) % 100 == 0:\n",
        "            print_sample(sample(model))\n",
        "        loss.backward()\n",
        "        optimizer.step()"
      ],
      "execution_count": 0,
      "outputs": []
    },
    {
      "cell_type": "code",
      "metadata": {
        "id": "MNvb4xSsUezo",
        "colab_type": "code",
        "colab": {}
      },
      "source": [
        "def train(model, loss_fn, optimizer, dataset='dinos', epochs=1):\n",
        "    for e in range(1, epochs+1):\n",
        "        print('Epoch:{}'.format(e))\n",
        "        train_one_epoch(model, loss_fn, optimizer)\n",
        "        print()"
      ],
      "execution_count": 0,
      "outputs": []
    },
    {
      "cell_type": "code",
      "metadata": {
        "id": "jzgx02oHUezt",
        "colab_type": "code",
        "colab": {
          "base_uri": "https://localhost:8080/",
          "height": 1438
        },
        "outputId": "2249583c-8eed-4df6-de09-37903445e7ed"
      },
      "source": [
        "train(model, loss_fn, optimizer, epochs=5)"
      ],
      "execution_count": 148,
      "outputs": [
        {
          "output_type": "stream",
          "text": [
            "Epoch:1\n",
            "zrtansaurus\n",
            "itacoraurus\n",
            "fasaruuros\n",
            "vonbtopysnus\n",
            "dangananrus\n",
            "qariahnaurus\n",
            "zhuoudoosaurus\n",
            "oseptoi\n",
            "kicgtaurus\n",
            "fupapdsaurus\n",
            "munuashurus\n",
            "qiynishurus\n",
            "penaperapop\n",
            "fleungchurus\n",
            "cerpthesiusus\n",
            "\n",
            "Epoch:2\n",
            "notanasrus\n",
            "pgsaeos\n",
            "salrnparaatmur\n",
            "souioseurus\n",
            "osobsol\n",
            "kucomo\n",
            "lariaraurus\n",
            "ocextoroxors\n",
            "topytosaulus\n",
            "marcono\n",
            "batibaurus\n",
            "yuaitnsasiurus\n",
            "dmvsiporaaurus\n",
            "mojtaasoaaurus\n",
            "ruchyrshtor\n",
            "\n",
            "Epoch:3\n",
            "qernkvkurus\n",
            "beralodaurus\n",
            "apaolnrrls\n",
            "antus\n",
            "ruttolosaurus\n",
            "vraipauros\n",
            "yuabsobaurus\n",
            "ruchysiurus\n",
            "xinonyurus\n",
            "zangaes\n",
            "yulyagaulus\n",
            "xigbsansurus\n",
            "eridosaurus\n",
            "us\n",
            "nimanhnrus\n",
            "\n",
            "Epoch:4\n",
            "nasacrus\n",
            "qiasaitit\n",
            "xoropaurus\n",
            "opostar\n",
            "haltasgtbaurds\n",
            "ushl\n",
            "quanvosaurus\n",
            "atrivthsaurus\n",
            "haraoataasagrus\n",
            "becscktaurus\n",
            "ligkonturus\n",
            "sanrapirrus\n",
            "cercbonaurps\n",
            "meuoueosaurus\n",
            "suuksourus\n",
            "\n",
            "Epoch:5\n",
            "qirbsnkgrus\n",
            "chlonocherus\n",
            "hapsqneosaurus\n",
            "yuagodaurus\n",
            "iagonaaurus\n",
            "trcgyrpurus\n",
            "alrusuurus\n",
            "tapcchsaurus\n",
            "vinaresaurus\n",
            "iunsauturus\n",
            "xiyskshurus\n",
            "ulsaoniurus\n",
            "nicoenargaurus\n",
            "qurnesossurus\n",
            "xagnchsaurus\n",
            "\n"
          ],
          "name": "stdout"
        }
      ]
    },
    {
      "cell_type": "markdown",
      "metadata": {
        "id": "D33KQW2oUez0",
        "colab_type": "text"
      },
      "source": [
        "### Использование LSTM нейронов"
      ]
    },
    {
      "cell_type": "code",
      "metadata": {
        "id": "G_PO_LwQUez1",
        "colab_type": "code",
        "colab": {}
      },
      "source": [
        "class LSTM(nn.Module):\n",
        "    def __init__(self, input_size, hidden_size, output_size):\n",
        "        super(LSTM, self).__init__()\n",
        "        self.linear_f = nn.Linear(input_size + hidden_size, hidden_size)\n",
        "        self.linear_u = nn.Linear(input_size + hidden_size, hidden_size)\n",
        "        self.linear_c = nn.Linear(input_size + hidden_size, hidden_size)\n",
        "        self.linear_o = nn.Linear(input_size + hidden_size, hidden_size)\n",
        "        \n",
        "        self.i2o = nn.Linear(hidden_size, output_size)\n",
        "        \n",
        "    def forward(self, c_prev, h_prev, x):\n",
        "        combined = torch.cat([x, h_prev], 1)\n",
        "        f = torch.sigmoid(self.linear_f(combined))\n",
        "        u = torch.sigmoid(self.linear_u(combined))\n",
        "        c_tilde = torch.tanh(self.linear_c(combined))\n",
        "        c = f*c_prev + u*c_tilde\n",
        "        o = torch.sigmoid(self.linear_o(combined))\n",
        "        h = o*torch.tanh(c)\n",
        "        y = self.i2o(h)\n",
        "\n",
        "        return c, h, y"
      ],
      "execution_count": 0,
      "outputs": []
    },
    {
      "cell_type": "code",
      "metadata": {
        "id": "qI33ZkBwUez5",
        "colab_type": "code",
        "colab": {}
      },
      "source": [
        "model = LSTM(trn_ds.vocab_size, hidden_size, trn_ds.vocab_size).to(device)\n",
        "optimizer = optim.Adam(model.parameters(), lr=1e-2)"
      ],
      "execution_count": 0,
      "outputs": []
    },
    {
      "cell_type": "code",
      "metadata": {
        "id": "R25olGGNUe0B",
        "colab_type": "code",
        "colab": {}
      },
      "source": [
        "def sample(model):\n",
        "    model.eval()\n",
        "    with torch.no_grad():\n",
        "        c_prev = torch.zeros([1, hidden_size], dtype=torch.float, device=device)\n",
        "        h_prev = torch.zeros_like(c_prev)\n",
        "        idx = random.randint(1, 26)\n",
        "        x = c_prev.new_zeros([1, trn_ds.vocab_size])\n",
        "        x[0, idx] = 1\n",
        "        sampled_indexes = [idx]\n",
        "        n_chars = 1\n",
        "        newline_char_idx = trn_ds.ch_to_idx['\\n']\n",
        "        while n_chars != 50 and idx != newline_char_idx:\n",
        "            c_prev, h_prev, y_pred = model(c_prev, h_prev, x)\n",
        "            \n",
        "            np.random.seed(np.random.randint(1, 5000))\n",
        "            idx = np.random.choice(np.arange(trn_ds.vocab_size), p=torch.softmax(y_pred, 1).cpu().numpy().ravel())\n",
        "            sampled_indexes.append(idx)\n",
        "            \n",
        "            x = (y_pred == y_pred.max(1)[0]).float()\n",
        "            \n",
        "            n_chars += 1\n",
        "            \n",
        "            if n_chars == 50:\n",
        "                sampled_indexes.append(newline_char_idx)\n",
        "                \n",
        "    model.train()\n",
        "    return sampled_indexes"
      ],
      "execution_count": 0,
      "outputs": []
    },
    {
      "cell_type": "code",
      "metadata": {
        "id": "TQswGGZ9Ue0G",
        "colab_type": "code",
        "colab": {}
      },
      "source": [
        "def train_one_epoch(model, loss_fn, optimizer):\n",
        "    model.train()\n",
        "    for line_num, (x, y) in enumerate(trn_dl):\n",
        "        loss = 0\n",
        "        optimizer.zero_grad()\n",
        "        c_prev = torch.zeros([1, hidden_size], dtype=torch.float, device=device)\n",
        "        h_prev = torch.zeros_like(c_prev)\n",
        "        x, y = x.to(device), y.to(device)\n",
        "        for i in range(x.shape[1]):\n",
        "            c_prev, h_prev, y_pred = model(c_prev, h_prev, x[:, i])\n",
        "            loss += loss_fn(y_pred, y[:, i])\n",
        "            \n",
        "        if (line_num+1) % 100 == 0:\n",
        "            print_sample(sample(model))\n",
        "        loss.backward()\n",
        "        optimizer.step()"
      ],
      "execution_count": 0,
      "outputs": []
    },
    {
      "cell_type": "code",
      "metadata": {
        "id": "PW9ScciXUe0J",
        "colab_type": "code",
        "colab": {
          "base_uri": "https://localhost:8080/",
          "height": 1438
        },
        "outputId": "ffc29bee-dea3-4bbf-ca12-9ddf5964b510"
      },
      "source": [
        "train(model, loss_fn, optimizer, epochs=5)"
      ],
      "execution_count": 153,
      "outputs": [
        {
          "output_type": "stream",
          "text": [
            "Epoch:1\n",
            "srrarrgrr\n",
            "jtciuot\n",
            "bstsraurus\n",
            "xisrtaurus\n",
            "latgucauris\n",
            "uscnasaurus\n",
            "motsmlaurus\n",
            "wlstanacrus\n",
            "sbudesadrus\n",
            "cectbitaurus\n",
            "enesaurus\n",
            "stubonanaurus\n",
            "ofpucus\n",
            "kelasaurus\n",
            "osssaurus\n",
            "\n",
            "Epoch:2\n",
            "humopsaurus\n",
            "ocmurus\n",
            "pianesmaurus\n",
            "kotaptsaurus\n",
            "rtlorsaisaurus\n",
            "bubaoo\n",
            "eoathrathpturus\n",
            "esklssaurus\n",
            "xpaglano\n",
            "kultalsaurus\n",
            "ilasaurus\n",
            "eusopaurus\n",
            "diroyairaurus\n",
            "mtbcsasrus\n",
            "qiarapturus\n",
            "\n",
            "Epoch:3\n",
            "noogqunysaurus\n",
            "xiagscauros\n",
            "klaibsia\n",
            "isarturas\n",
            "yungrsaurus\n",
            "nuagjanocaurus\n",
            "we\n",
            "plotonaurus\n",
            "juanssraurus\n",
            "antrsaptir\n",
            "gareuedaurus\n",
            "belataurus\n",
            "brtrnhsaurus\n",
            "eutaoaurus\n",
            "retahsactor\n",
            "\n",
            "Epoch:4\n",
            "tectaosaurus\n",
            "migssaurus\n",
            "braenanaurus\n",
            "icplbaurus\n",
            "eucmtthosaurus\n",
            "miutosaurus\n",
            "maraomu\n",
            "kasiaaurus\n",
            "euchysuurus\n",
            "larolvaurus\n",
            "henchsaurus\n",
            "yunaonaurus\n",
            "peuougrsaurus\n",
            "dysisiurus\n",
            "dasathucaurus\n",
            "\n",
            "Epoch:5\n",
            "zuindsdaurus\n",
            "virkdaurus\n",
            "huruajhrrus\n",
            "tesacaurus\n",
            "algasaurus\n",
            "astrrattor\n",
            "girpsaaurus\n",
            "yuatagaurus\n",
            "rhcaucotaurus\n",
            "zhangkxaurus\n",
            "jickguasaurus\n",
            "wangtnaurus\n",
            "ersespurus\n",
            "pewofospurus\n",
            "ziangycauras\n",
            "\n"
          ],
          "name": "stdout"
        }
      ]
    },
    {
      "cell_type": "markdown",
      "metadata": {
        "id": "pPRO-07NUe0P",
        "colab_type": "text"
      },
      "source": [
        "### Задание 8"
      ]
    },
    {
      "cell_type": "markdown",
      "metadata": {
        "id": "MLCpiLs2Ue0P",
        "colab_type": "text"
      },
      "source": [
        "Написать функцию get_prob(), оценивающую веростность порождения одной строки (из файла) и найти самую вероятную строку, порождаемую каждой из трех языковых моделей."
      ]
    },
    {
      "cell_type": "markdown",
      "metadata": {
        "id": "tKnx75aLUe0Q",
        "colab_type": "text"
      },
      "source": [
        "### Задание 9"
      ]
    },
    {
      "cell_type": "markdown",
      "metadata": {
        "id": "TY-ZqfpRUe0Q",
        "colab_type": "text"
      },
      "source": [
        "Используя функцию get_prob(), написать функцию perplexety, оценивающую перплексию каждой из трех языковых моделей."
      ]
    },
    {
      "cell_type": "markdown",
      "metadata": {
        "id": "nlPw_5UYUe0R",
        "colab_type": "text"
      },
      "source": [
        "### Задание 10"
      ]
    },
    {
      "cell_type": "markdown",
      "metadata": {
        "id": "BdksZRMGUe0S",
        "colab_type": "text"
      },
      "source": [
        "Добавить в функцию сэмплирования возможность использовать т.н. температуру. Сейчас сэмплирование следующего символа осуществляется с использованием np.random.choice, где вероятность каждого символа получена на выходе из softmax:\n",
        "\n",
        "p=torch.softmax(y_pred, 1).cpu().numpy().ravel().\n",
        "\n",
        "Температура сэмплирования определяется параметром $T$ и преобразует вероятности следующим образом: $p_i = \\frac{p_i^{1/T}}{\\sum_j p_j^{1/T}}$ .\n",
        "\n",
        "Проведите эксперименты с разными значениями $T \\in [0.5, 1, 2]$. Как разные значения $T$ влияют на генерируемые строки?"
      ]
    },
    {
      "cell_type": "markdown",
      "metadata": {
        "id": "NMwOwltjUe0T",
        "colab_type": "text"
      },
      "source": [
        "### Задание 11"
      ]
    },
    {
      "cell_type": "markdown",
      "metadata": {
        "id": "tyESjqCrUe0T",
        "colab_type": "text"
      },
      "source": [
        "Реализуйте beam search для генерации строк."
      ]
    },
    {
      "cell_type": "code",
      "metadata": {
        "id": "mucU168lUe0U",
        "colab_type": "code",
        "colab": {}
      },
      "source": [
        ""
      ],
      "execution_count": 0,
      "outputs": []
    }
  ]
}