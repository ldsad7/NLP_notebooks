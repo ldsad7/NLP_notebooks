{
  "nbformat": 4,
  "nbformat_minor": 0,
  "metadata": {
    "colab": {
      "name": "PROJECT (ML)",
      "version": "0.3.2",
      "provenance": [],
      "collapsed_sections": [
        "E7ME-ag0hoDA",
        "e2EnN-U7MemU",
        "9yCVYfbpNhXd",
        "22tJKQnaOjie",
        "I4m1rDQ3PAqO",
        "7vVPaaVwPVwg",
        "cdakRHahQp-l",
        "uyVQ5Gm7Qzcz",
        "QU3M3osxRd1l",
        "FE9Cc9WDRd1l",
        "yyGUuiJuRd1m"
      ],
      "toc_visible": true
    },
    "language_info": {
      "codemirror_mode": {
        "name": "ipython",
        "version": 3
      },
      "file_extension": ".py",
      "mimetype": "text/x-python",
      "name": "python",
      "nbconvert_exporter": "python",
      "pygments_lexer": "ipython3",
      "version": "3.6.5"
    },
    "kernelspec": {
      "name": "python3",
      "display_name": "Python 3"
    },
    "accelerator": "GPU"
  },
  "cells": [
    {
      "cell_type": "markdown",
      "metadata": {
        "colab_type": "text",
        "id": "E7ME-ag0hoDA"
      },
      "source": [
        "# Данные"
      ]
    },
    {
      "cell_type": "markdown",
      "metadata": {
        "id": "EarZZP-D68c4",
        "colab_type": "text"
      },
      "source": [
        "Сайт **http://www.selpravda.ru/** - газета Мокшанского района Пензенской области (полностью селский район, центр района - поселок). Более 7к текстов с датой, заголовками и разделом, к которому была отнесена статья"
      ]
    },
    {
      "cell_type": "code",
      "metadata": {
        "id": "pXrBPzt0ge9w",
        "colab_type": "code",
        "outputId": "a6c6a855-d01a-4451-d4b1-ff338181b895",
        "colab": {
          "base_uri": "https://localhost:8080/",
          "height": 54
        }
      },
      "source": [
        "# drive\n",
        "from google.colab import drive\n",
        "drive.mount(\"/content/drive\")"
      ],
      "execution_count": 577,
      "outputs": [
        {
          "output_type": "stream",
          "text": [
            "Drive already mounted at /content/drive; to attempt to forcibly remount, call drive.mount(\"/content/drive\", force_remount=True).\n"
          ],
          "name": "stdout"
        }
      ]
    },
    {
      "cell_type": "code",
      "metadata": {
        "id": "kedLFmE1gyYW",
        "colab_type": "code",
        "colab": {}
      },
      "source": [
        "# unzipping\n",
        "import zipfile\n",
        "\n",
        "path = \"/content/drive/My Drive/gazeta.zip\"\n",
        "\n",
        "zip_ref = zipfile.ZipFile(path, 'r')\n",
        "zip_ref.extractall(\"unzipped_files\")\n",
        "zip_ref.close()"
      ],
      "execution_count": 0,
      "outputs": []
    },
    {
      "cell_type": "code",
      "metadata": {
        "id": "y7DEhSg9hkEm",
        "colab_type": "code",
        "colab": {}
      },
      "source": [
        "import os\n",
        "\n",
        "DIR = \"/content/unzipped_files/gazeta\"\n",
        "\n",
        "files = os.listdir(DIR)"
      ],
      "execution_count": 0,
      "outputs": []
    },
    {
      "cell_type": "code",
      "metadata": {
        "id": "el9vzOGoiQVV",
        "colab_type": "code",
        "outputId": "5cf20e6b-e5b2-437a-a376-95faa9f25a40",
        "colab": {
          "base_uri": "https://localhost:8080/",
          "height": 292
        }
      },
      "source": [
        "import re\n",
        "texts = []\n",
        "topics = []\n",
        "for filename in files:\n",
        "    with open(os.path.join(DIR, filename), \"r\", encoding='utf-8') as f:\n",
        "        text = f.read()\n",
        "        m = re.search('(.+)topic (.+)\\n(.+)', text)\n",
        "        if m:\n",
        "            if m.group(3).strip():\n",
        "                texts.append(m.group(3).strip())\n",
        "                topics.append(m.group(2).strip())\n",
        "        else:\n",
        "            print(text)"
      ],
      "execution_count": 580,
      "outputs": [
        {
          "output_type": "stream",
          "text": [
            "@au Noname\n",
            "@ti Социальная направленность\n",
            "@da 09.03.2011\n",
            "@topic Политика\n",
            "\n",
            "@au Noname\n",
            "@ti Дела и проблемы сельской администрации\n",
            "@da 21.11.2012\n",
            "@topic Власть и общество\n",
            "\n",
            "@au Noname\n",
            "@ti Внимание! Пропал ребенок!\n",
            "@da 22.09.2016\n",
            "@topic Власть и общество\n",
            "\n"
          ],
          "name": "stdout"
        }
      ]
    },
    {
      "cell_type": "code",
      "metadata": {
        "colab_type": "code",
        "id": "qxZMU8CBK664",
        "colab": {}
      },
      "source": [
        "import pandas as pd\n",
        "\n",
        "df = pd.DataFrame({'text': texts, 'source': topics})"
      ],
      "execution_count": 0,
      "outputs": []
    },
    {
      "cell_type": "code",
      "metadata": {
        "id": "aBbStpqR5lwJ",
        "colab_type": "code",
        "outputId": "fa4a6ae3-8cdb-4ca2-f64f-3a92bc0967db",
        "colab": {
          "base_uri": "https://localhost:8080/",
          "height": 513
        }
      },
      "source": [
        "df.head()"
      ],
      "execution_count": 582,
      "outputs": [
        {
          "output_type": "execute_result",
          "data": {
            "text/html": [
              "<div>\n",
              "<style scoped>\n",
              "    .dataframe tbody tr th:only-of-type {\n",
              "        vertical-align: middle;\n",
              "    }\n",
              "\n",
              "    .dataframe tbody tr th {\n",
              "        vertical-align: top;\n",
              "    }\n",
              "\n",
              "    .dataframe thead th {\n",
              "        text-align: right;\n",
              "    }\n",
              "</style>\n",
              "<table border=\"1\" class=\"dataframe\">\n",
              "  <thead>\n",
              "    <tr style=\"text-align: right;\">\n",
              "      <th></th>\n",
              "      <th>text</th>\n",
              "      <th>source</th>\n",
              "    </tr>\n",
              "  </thead>\n",
              "  <tbody>\n",
              "    <tr>\n",
              "      <th>0</th>\n",
              "      <td>С сентября в нашем детском саду \"Солнышко\" ста...</td>\n",
              "      <td>Образование</td>\n",
              "    </tr>\n",
              "    <tr>\n",
              "      <th>1</th>\n",
              "      <td>Выполняя Указ Президента Российской Федерации ...</td>\n",
              "      <td>Политика</td>\n",
              "    </tr>\n",
              "    <tr>\n",
              "      <th>2</th>\n",
              "      <td>Общий объем финансирования составит  -  816 ты...</td>\n",
              "      <td>Социальная сфера</td>\n",
              "    </tr>\n",
              "    <tr>\n",
              "      <th>3</th>\n",
              "      <td>При анализе уголовных, дел возбужденных в ОМВД...</td>\n",
              "      <td>Происшествия и Безопасность</td>\n",
              "    </tr>\n",
              "    <tr>\n",
              "      <th>4</th>\n",
              "      <td>На вопрос, почему стихийные свалки возникают с...</td>\n",
              "      <td>Благоустройство и ЖКХ</td>\n",
              "    </tr>\n",
              "  </tbody>\n",
              "</table>\n",
              "</div>"
            ],
            "text/plain": [
              "                                                text                       source\n",
              "0  С сентября в нашем детском саду \"Солнышко\" ста...                  Образование\n",
              "1  Выполняя Указ Президента Российской Федерации ...                     Политика\n",
              "2  Общий объем финансирования составит  -  816 ты...             Социальная сфера\n",
              "3  При анализе уголовных, дел возбужденных в ОМВД...  Происшествия и Безопасность\n",
              "4  На вопрос, почему стихийные свалки возникают с...        Благоустройство и ЖКХ"
            ]
          },
          "metadata": {
            "tags": []
          },
          "execution_count": 582
        }
      ]
    },
    {
      "cell_type": "code",
      "metadata": {
        "id": "CPbdJuAj6QHX",
        "colab_type": "code",
        "outputId": "da6ee99f-1e0c-4f44-da91-e9cd015c162b",
        "colab": {
          "base_uri": "https://localhost:8080/",
          "height": 343
        }
      },
      "source": [
        "df['source'].value_counts()"
      ],
      "execution_count": 583,
      "outputs": [
        {
          "output_type": "execute_result",
          "data": {
            "text/plain": [
              "Социальная сфера               1650\n",
              "Общество                       1063\n",
              "Спорт                          1013\n",
              "Образование                     717\n",
              "Власть и общество               677\n",
              "Сельское хозяйство района       462\n",
              "Благоустройство и ЖКХ           428\n",
              "Политика                        333\n",
              "Происшествия и Безопасность     247\n",
              "Регион-центр                    177\n",
              "Здравоохранение                 115\n",
              "Культура                         58\n",
              "Экономика                        56\n",
              "Человек и Закон                  13\n",
              "Предпринимательство               3\n",
              "Люди села                         2\n",
              "Музей Журналистики                2\n",
              "Name: source, dtype: int64"
            ]
          },
          "metadata": {
            "tags": []
          },
          "execution_count": 583
        }
      ]
    },
    {
      "cell_type": "code",
      "metadata": {
        "id": "kz1LFvXp7rxa",
        "colab_type": "code",
        "colab": {}
      },
      "source": [
        "# merge-им \"власть и общество\" и \"политику\"\n",
        "# texts = []\n",
        "# topics = []\n",
        "# for filename in files:\n",
        "#     with open(os.path.join(DIR, filename), \"r\", encoding='utf-8') as f:\n",
        "#         text = f.read()\n",
        "#         m = re.search('(.+?)topic (.+?)\\n(.+)', text)\n",
        "#         if m:\n",
        "#             if m.group(2).strip() == 'Власть и общество':\n",
        "#                 topics.append('Политика')\n",
        "#             else:\n",
        "#                 topics.append(m.group(2).strip())\n",
        "#             texts.append(m.group(3).strip())\n",
        "\n",
        "# df = pd.DataFrame({'text': texts, 'source': topics})\n",
        "\n",
        "# можно было сделать это же следующим образом:\n",
        "df.source.replace(['Власть и общество'], ['Политика'], inplace=True)"
      ],
      "execution_count": 0,
      "outputs": []
    },
    {
      "cell_type": "code",
      "metadata": {
        "id": "14DqY9n686gN",
        "colab_type": "code",
        "outputId": "07b6dda3-3e06-4f54-ebce-7db6049f1398",
        "colab": {
          "base_uri": "https://localhost:8080/",
          "height": 326
        }
      },
      "source": [
        "df['source'].value_counts()"
      ],
      "execution_count": 585,
      "outputs": [
        {
          "output_type": "execute_result",
          "data": {
            "text/plain": [
              "Социальная сфера               1650\n",
              "Общество                       1063\n",
              "Спорт                          1013\n",
              "Политика                       1010\n",
              "Образование                     717\n",
              "Сельское хозяйство района       462\n",
              "Благоустройство и ЖКХ           428\n",
              "Происшествия и Безопасность     247\n",
              "Регион-центр                    177\n",
              "Здравоохранение                 115\n",
              "Культура                         58\n",
              "Экономика                        56\n",
              "Человек и Закон                  13\n",
              "Предпринимательство               3\n",
              "Музей Журналистики                2\n",
              "Люди села                         2\n",
              "Name: source, dtype: int64"
            ]
          },
          "metadata": {
            "tags": []
          },
          "execution_count": 585
        }
      ]
    },
    {
      "cell_type": "markdown",
      "metadata": {
        "id": "T0TeFvEvnF4W",
        "colab_type": "text"
      },
      "source": [
        "Возьмём первые четыре темы и из каждой темы возьмём по 1000 примеров случаным образом, чтобы получить равномерную выборку."
      ]
    },
    {
      "cell_type": "code",
      "metadata": {
        "id": "KgbHqOlsk_ex",
        "colab_type": "code",
        "colab": {}
      },
      "source": [
        "soc_sphere = df[df['source'] == 'Социальная сфера'].sample(n=1000)\n",
        "society_sphere = df[df['source'] == 'Общество'].sample(n=1000)\n",
        "sport_sphere = df[df['source'] == 'Спорт'].sample(n=1000)\n",
        "politics_sphere = df[df['source'] == 'Политика'].sample(n=1000)"
      ],
      "execution_count": 0,
      "outputs": []
    },
    {
      "cell_type": "code",
      "metadata": {
        "id": "2T9l_kYUpbUL",
        "colab_type": "code",
        "colab": {}
      },
      "source": [
        "# Конкатенируем полученные датафреймы в один датафрейм\n",
        "df = pd.concat([soc_sphere, society_sphere, sport_sphere, politics_sphere])"
      ],
      "execution_count": 0,
      "outputs": []
    },
    {
      "cell_type": "code",
      "metadata": {
        "id": "ubyqvEU_pbW3",
        "colab_type": "code",
        "outputId": "eacf8f20-fa8f-483d-9de1-708a31ad6854",
        "colab": {
          "base_uri": "https://localhost:8080/",
          "height": 496
        }
      },
      "source": [
        "df.head()"
      ],
      "execution_count": 588,
      "outputs": [
        {
          "output_type": "execute_result",
          "data": {
            "text/html": [
              "<div>\n",
              "<style scoped>\n",
              "    .dataframe tbody tr th:only-of-type {\n",
              "        vertical-align: middle;\n",
              "    }\n",
              "\n",
              "    .dataframe tbody tr th {\n",
              "        vertical-align: top;\n",
              "    }\n",
              "\n",
              "    .dataframe thead th {\n",
              "        text-align: right;\n",
              "    }\n",
              "</style>\n",
              "<table border=\"1\" class=\"dataframe\">\n",
              "  <thead>\n",
              "    <tr style=\"text-align: right;\">\n",
              "      <th></th>\n",
              "      <th>text</th>\n",
              "      <th>source</th>\n",
              "    </tr>\n",
              "  </thead>\n",
              "  <tbody>\n",
              "    <tr>\n",
              "      <th>5071</th>\n",
              "      <td>Депутатами Собрания представителей внесены изм...</td>\n",
              "      <td>Социальная сфера</td>\n",
              "    </tr>\n",
              "    <tr>\n",
              "      <th>3101</th>\n",
              "      <td>Торжественное мероприятие, посвященное 70-лети...</td>\n",
              "      <td>Социальная сфера</td>\n",
              "    </tr>\n",
              "    <tr>\n",
              "      <th>4855</th>\n",
              "      <td>В 2015 году 23 семьи улучшили свои жилищные ус...</td>\n",
              "      <td>Социальная сфера</td>\n",
              "    </tr>\n",
              "    <tr>\n",
              "      <th>1373</th>\n",
              "      <td>Этого человека знают все жители района старшег...</td>\n",
              "      <td>Социальная сфера</td>\n",
              "    </tr>\n",
              "    <tr>\n",
              "      <th>1954</th>\n",
              "      <td>По сравнению с предыдущим годом в Мокшанском р...</td>\n",
              "      <td>Социальная сфера</td>\n",
              "    </tr>\n",
              "  </tbody>\n",
              "</table>\n",
              "</div>"
            ],
            "text/plain": [
              "                                                   text            source\n",
              "5071  Депутатами Собрания представителей внесены изм...  Социальная сфера\n",
              "3101  Торжественное мероприятие, посвященное 70-лети...  Социальная сфера\n",
              "4855  В 2015 году 23 семьи улучшили свои жилищные ус...  Социальная сфера\n",
              "1373  Этого человека знают все жители района старшег...  Социальная сфера\n",
              "1954  По сравнению с предыдущим годом в Мокшанском р...  Социальная сфера"
            ]
          },
          "metadata": {
            "tags": []
          },
          "execution_count": 588
        }
      ]
    },
    {
      "cell_type": "code",
      "metadata": {
        "id": "aP73ampCpbaW",
        "colab_type": "code",
        "outputId": "bae917cd-3fdc-4e5a-8d32-87638bdfc04a",
        "colab": {
          "base_uri": "https://localhost:8080/",
          "height": 564
        }
      },
      "source": [
        "df.tail()"
      ],
      "execution_count": 589,
      "outputs": [
        {
          "output_type": "execute_result",
          "data": {
            "text/html": [
              "<div>\n",
              "<style scoped>\n",
              "    .dataframe tbody tr th:only-of-type {\n",
              "        vertical-align: middle;\n",
              "    }\n",
              "\n",
              "    .dataframe tbody tr th {\n",
              "        vertical-align: top;\n",
              "    }\n",
              "\n",
              "    .dataframe thead th {\n",
              "        text-align: right;\n",
              "    }\n",
              "</style>\n",
              "<table border=\"1\" class=\"dataframe\">\n",
              "  <thead>\n",
              "    <tr style=\"text-align: right;\">\n",
              "      <th></th>\n",
              "      <th>text</th>\n",
              "      <th>source</th>\n",
              "    </tr>\n",
              "  </thead>\n",
              "  <tbody>\n",
              "    <tr>\n",
              "      <th>4628</th>\n",
              "      <td>Участники семинара-совещания познакомились с р...</td>\n",
              "      <td>Политика</td>\n",
              "    </tr>\n",
              "    <tr>\n",
              "      <th>1621</th>\n",
              "      <td>На комиссии были рассмотрены вопросы профилакт...</td>\n",
              "      <td>Политика</td>\n",
              "    </tr>\n",
              "    <tr>\n",
              "      <th>1773</th>\n",
              "      <td>За прошедшую неделю, согласно мониторингу цен ...</td>\n",
              "      <td>Политика</td>\n",
              "    </tr>\n",
              "    <tr>\n",
              "      <th>705</th>\n",
              "      <td>Началась пресс-конференция с минуты молчания в...</td>\n",
              "      <td>Политика</td>\n",
              "    </tr>\n",
              "    <tr>\n",
              "      <th>5887</th>\n",
              "      <td>В администрации Мокшанского района проведено с...</td>\n",
              "      <td>Политика</td>\n",
              "    </tr>\n",
              "  </tbody>\n",
              "</table>\n",
              "</div>"
            ],
            "text/plain": [
              "                                                   text    source\n",
              "4628  Участники семинара-совещания познакомились с р...  Политика\n",
              "1621  На комиссии были рассмотрены вопросы профилакт...  Политика\n",
              "1773  За прошедшую неделю, согласно мониторингу цен ...  Политика\n",
              "705   Началась пресс-конференция с минуты молчания в...  Политика\n",
              "5887  В администрации Мокшанского района проведено с...  Политика"
            ]
          },
          "metadata": {
            "tags": []
          },
          "execution_count": 589
        }
      ]
    },
    {
      "cell_type": "markdown",
      "metadata": {
        "colab_type": "text",
        "id": "dYNCAr17MFA3"
      },
      "source": [
        "# Задача\n",
        "\n",
        "Будем решать задачу тематической классификации. Формально задача заключается в следующем: по тексту ($d$) определить, какой он тематики, то есть, к какому классу $c$ (\"Социальная сфера\" / \"Общество\" / \"Спорт\" / \"Политика\") он принадлежит. "
      ]
    },
    {
      "cell_type": "markdown",
      "metadata": {
        "colab_type": "text",
        "id": "e2EnN-U7MemU"
      },
      "source": [
        "## Описательные статистики\n",
        "TODO:\n",
        "* лемматизируем текст и удалим пунктуацию и стоп-слова из текстов (с помощью nltk)\n",
        "* посчитаем количество слов (без лемматизации и с лемматизацией) в коллекции\n",
        "* найдём среднюю длину текста в словах и символах\n",
        "* найдём 10 самых частых существительных в текстах каждого паблика "
      ]
    },
    {
      "cell_type": "code",
      "metadata": {
        "id": "nekIoNBkYU3X",
        "colab_type": "code",
        "colab": {}
      },
      "source": [
        "# удалим nan-значения, если таковые в датафрейме есть\n",
        "df = df.dropna(how='any')\n",
        "# сбросим индекс (после конкатенация строки занумерованы не по порядку)\n",
        "df = df.reset_index(drop=True)"
      ],
      "execution_count": 0,
      "outputs": []
    },
    {
      "cell_type": "code",
      "metadata": {
        "id": "YuDxb6oQvL6N",
        "colab_type": "code",
        "outputId": "36baa3a1-cc00-4e59-810b-f85a1cfb3f9a",
        "colab": {
          "base_uri": "https://localhost:8080/",
          "height": 54
        }
      },
      "source": [
        "df.shape"
      ],
      "execution_count": 591,
      "outputs": [
        {
          "output_type": "execute_result",
          "data": {
            "text/plain": [
              "(4000, 2)"
            ]
          },
          "metadata": {
            "tags": []
          },
          "execution_count": 591
        }
      ]
    },
    {
      "cell_type": "code",
      "metadata": {
        "id": "ZwfdHC_rSDus",
        "colab_type": "code",
        "outputId": "8e2a532e-db26-4744-b849-af05b6f8828d",
        "colab": {
          "base_uri": "https://localhost:8080/",
          "height": 54
        }
      },
      "source": [
        "# количество текстов\n",
        "print(\"Количество текстов:\", df.shape[0])"
      ],
      "execution_count": 592,
      "outputs": [
        {
          "output_type": "stream",
          "text": [
            "Количество текстов: 4000\n"
          ],
          "name": "stdout"
        }
      ]
    },
    {
      "cell_type": "code",
      "metadata": {
        "id": "J50vUcJESHfL",
        "colab_type": "code",
        "outputId": "1253eb33-4db1-4b8b-81d5-ffc2620713e4",
        "colab": {
          "base_uri": "https://localhost:8080/",
          "height": 54
        }
      },
      "source": [
        "# количество классов\n",
        "print(\"Количество классов:\", len(pd.unique(df[:][\"source\"])))"
      ],
      "execution_count": 593,
      "outputs": [
        {
          "output_type": "stream",
          "text": [
            "Количество классов: 4\n"
          ],
          "name": "stdout"
        }
      ]
    },
    {
      "cell_type": "code",
      "metadata": {
        "id": "R_T9Vv98SHhk",
        "colab_type": "code",
        "outputId": "7849bff1-789a-4a6d-bac1-21158cf0d90e",
        "colab": {
          "base_uri": "https://localhost:8080/",
          "height": 190
        }
      },
      "source": [
        "# подключаем необходимые библиотеки\n",
        "\n",
        "import nltk\n",
        "nltk.download('punkt')\n",
        "nltk.download('stopwords')\n",
        "from nltk.corpus import stopwords\n",
        "from nltk.tokenize import word_tokenize\n",
        "!pip install pymorphy2[fast]\n",
        "import pymorphy2\n",
        "from pymorphy2 import MorphAnalyzer\n",
        "pymorphy2_analyzer = MorphAnalyzer()\n",
        "from string import punctuation"
      ],
      "execution_count": 594,
      "outputs": [
        {
          "output_type": "stream",
          "text": [
            "[nltk_data] Downloading package punkt to /root/nltk_data...\n",
            "[nltk_data]   Package punkt is already up-to-date!\n",
            "[nltk_data] Downloading package stopwords to /root/nltk_data...\n",
            "[nltk_data]   Package stopwords is already up-to-date!\n",
            "Requirement already satisfied: pymorphy2[fast] in /usr/local/lib/python3.6/dist-packages (0.8)\n",
            "Requirement already satisfied: dawg-python>=0.7 in /usr/local/lib/python3.6/dist-packages (from pymorphy2[fast]) (0.7.2)\n",
            "Requirement already satisfied: pymorphy2-dicts<3.0,>=2.4 in /usr/local/lib/python3.6/dist-packages (from pymorphy2[fast]) (2.4.393442.3710985)\n",
            "Requirement already satisfied: docopt>=0.6 in /usr/local/lib/python3.6/dist-packages (from pymorphy2[fast]) (0.6.2)\n",
            "Requirement already satisfied: DAWG>=0.7.3; extra == \"fast\" in /usr/local/lib/python3.6/dist-packages (from pymorphy2[fast]) (0.7.8)\n"
          ],
          "name": "stdout"
        }
      ]
    },
    {
      "cell_type": "code",
      "metadata": {
        "id": "jMO7zCAbwLX0",
        "colab_type": "code",
        "colab": {}
      },
      "source": [
        "noise = stopwords.words('russian') + list(punctuation)"
      ],
      "execution_count": 0,
      "outputs": []
    },
    {
      "cell_type": "code",
      "metadata": {
        "id": "RHpMPTxxb_n4",
        "colab_type": "code",
        "colab": {}
      },
      "source": [
        "# приводим к нижнему регистру и удаляем стоп-слова и знаки пунктуации\n",
        "df['lowered_words'] = df['text'].apply(lambda text: [word.strip(punctuation) for word in word_tokenize(text.lower()) if word not in noise and word.strip(punctuation)])c"
      ],
      "execution_count": 0,
      "outputs": []
    },
    {
      "cell_type": "code",
      "metadata": {
        "id": "2hT9FcC_df2M",
        "colab_type": "code",
        "colab": {}
      },
      "source": [
        "# сохраняем всю грамматическую информацию о словах в каждом тексте (берём самый вероятный вариант из предлагаемых pymorphy)\n",
        "df['Parse'] = df['lowered_words'].apply(lambda words: [pymorphy2_analyzer.parse(word)[0] for word in words])"
      ],
      "execution_count": 0,
      "outputs": []
    },
    {
      "cell_type": "code",
      "metadata": {
        "id": "gZge_AeWhxe6",
        "colab_type": "code",
        "colab": {}
      },
      "source": [
        "# берём лемму у каждого слова и получаем массив слов для каждого документа\n",
        "df['lemmatized_words'] = df['Parse'].apply(lambda parse_words: [word.normal_form if word.normal_form else word.word for word in parse_words])"
      ],
      "execution_count": 0,
      "outputs": []
    },
    {
      "cell_type": "code",
      "metadata": {
        "id": "ms5iPi-lTMi7",
        "colab_type": "code",
        "colab": {}
      },
      "source": [
        "words = set()\n",
        "for i in range(df.shape[0]):\n",
        "    words.update(set(df.iloc[i][\"lowered_words\"]))"
      ],
      "execution_count": 0,
      "outputs": []
    },
    {
      "cell_type": "code",
      "metadata": {
        "id": "UDskHP7jUXab",
        "colab_type": "code",
        "outputId": "57c605a5-362a-4db7-99b2-3568fa32048c",
        "colab": {
          "base_uri": "https://localhost:8080/",
          "height": 54
        }
      },
      "source": [
        "# количество слов без лемматизации в коллекции\n",
        "print(\"Количество слов без лемматизации:\", len(words))"
      ],
      "execution_count": 600,
      "outputs": [
        {
          "output_type": "stream",
          "text": [
            "Количество слов без лемматизации: 81716\n"
          ],
          "name": "stdout"
        }
      ]
    },
    {
      "cell_type": "code",
      "metadata": {
        "id": "Bw6fc2-uWDDB",
        "colab_type": "code",
        "colab": {}
      },
      "source": [
        "lemmatized_words = set()\n",
        "for i in range(df.shape[0]):\n",
        "    lemmatized_words.update(set(df.iloc[i][\"lemmatized_words\"]))"
      ],
      "execution_count": 0,
      "outputs": []
    },
    {
      "cell_type": "code",
      "metadata": {
        "id": "X2uS79dvXAag",
        "colab_type": "code",
        "outputId": "9e5db610-215b-4706-aa24-581f07eaef82",
        "colab": {
          "base_uri": "https://localhost:8080/",
          "height": 54
        }
      },
      "source": [
        "# количество слов с лемматизацией в коллекции\n",
        "print(\"Количество слов с лемматизацией:\", len(lemmatized_words))"
      ],
      "execution_count": 602,
      "outputs": [
        {
          "output_type": "stream",
          "text": [
            "Количество слов с лемматизацией: 37955\n"
          ],
          "name": "stdout"
        }
      ]
    },
    {
      "cell_type": "markdown",
      "metadata": {
        "id": "1qZ0e5nfXgP3",
        "colab_type": "text"
      },
      "source": [
        "Т.е. больше в среднем в корпусе по две (даже чуть больше) словоформы на каждую лексему."
      ]
    },
    {
      "cell_type": "code",
      "metadata": {
        "id": "hSF7_CxdX4P6",
        "colab_type": "code",
        "colab": {}
      },
      "source": [
        "df['symbols_length'] = df['text'].apply(lambda x: len(x))\n",
        "df['words_length'] = df['lowered_words'].apply(lambda x: len(x))"
      ],
      "execution_count": 0,
      "outputs": []
    },
    {
      "cell_type": "code",
      "metadata": {
        "id": "FGqVXUYaYE6Y",
        "colab_type": "code",
        "outputId": "d42cd191-75ac-4495-f57d-0d5f63ea0462",
        "colab": {
          "base_uri": "https://localhost:8080/",
          "height": 54
        }
      },
      "source": [
        "# средние длины текстов в словах и символах\n",
        "print(\"Средняя длина текста в символах:\", df['symbols_length'].mean())"
      ],
      "execution_count": 604,
      "outputs": [
        {
          "output_type": "stream",
          "text": [
            "Средняя длина текста в символах: 1938.88325\n"
          ],
          "name": "stdout"
        }
      ]
    },
    {
      "cell_type": "code",
      "metadata": {
        "id": "GP2KiNluabwe",
        "colab_type": "code",
        "outputId": "af147faf-2fec-423d-a468-34f1911d8554",
        "colab": {
          "base_uri": "https://localhost:8080/",
          "height": 54
        }
      },
      "source": [
        "print(\"Средняя длина текста в словах:\", df['words_length'].mean())"
      ],
      "execution_count": 605,
      "outputs": [
        {
          "output_type": "stream",
          "text": [
            "Средняя длина текста в словах: 194.314\n"
          ],
          "name": "stdout"
        }
      ]
    },
    {
      "cell_type": "code",
      "metadata": {
        "id": "5m9jmOoijv4K",
        "colab_type": "code",
        "colab": {}
      },
      "source": [
        "# сохраним также части речи слов документа в отдельном столбце\n",
        "df['POS'] = df['Parse'].apply(lambda parse_words: [parse_word.tag.POS for parse_word in parse_words])"
      ],
      "execution_count": 0,
      "outputs": []
    },
    {
      "cell_type": "code",
      "metadata": {
        "id": "N4jrOtN2kLqZ",
        "colab_type": "code",
        "outputId": "df4b7bcd-c7b2-47ec-95d5-0424c85780ed",
        "colab": {
          "base_uri": "https://localhost:8080/",
          "height": 819
        }
      },
      "source": [
        "df.head()"
      ],
      "execution_count": 607,
      "outputs": [
        {
          "output_type": "execute_result",
          "data": {
            "text/html": [
              "<div>\n",
              "<style scoped>\n",
              "    .dataframe tbody tr th:only-of-type {\n",
              "        vertical-align: middle;\n",
              "    }\n",
              "\n",
              "    .dataframe tbody tr th {\n",
              "        vertical-align: top;\n",
              "    }\n",
              "\n",
              "    .dataframe thead th {\n",
              "        text-align: right;\n",
              "    }\n",
              "</style>\n",
              "<table border=\"1\" class=\"dataframe\">\n",
              "  <thead>\n",
              "    <tr style=\"text-align: right;\">\n",
              "      <th></th>\n",
              "      <th>text</th>\n",
              "      <th>source</th>\n",
              "      <th>lowered_words</th>\n",
              "      <th>Parse</th>\n",
              "      <th>lemmatized_words</th>\n",
              "      <th>symbols_length</th>\n",
              "      <th>words_length</th>\n",
              "      <th>POS</th>\n",
              "    </tr>\n",
              "  </thead>\n",
              "  <tbody>\n",
              "    <tr>\n",
              "      <th>0</th>\n",
              "      <td>Депутатами Собрания представителей внесены изм...</td>\n",
              "      <td>Социальная сфера</td>\n",
              "      <td>[депутатами, собрания, представителей, внесены...</td>\n",
              "      <td>[(депутатами, NOUN,anim,masc plur,ablt, депута...</td>\n",
              "      <td>[депутат, собрание, представитель, внести, изм...</td>\n",
              "      <td>694</td>\n",
              "      <td>74</td>\n",
              "      <td>[NOUN, NOUN, NOUN, PRTS, NOUN, NOUN, ADJF, NOU...</td>\n",
              "    </tr>\n",
              "    <tr>\n",
              "      <th>1</th>\n",
              "      <td>Торжественное мероприятие, посвященное 70-лети...</td>\n",
              "      <td>Социальная сфера</td>\n",
              "      <td>[торжественное, мероприятие, посвященное, 70-л...</td>\n",
              "      <td>[(торжественное, ADJF,Qual neut,sing,nomn, тор...</td>\n",
              "      <td>[торжественный, мероприятие, посвятить, 70-лет...</td>\n",
              "      <td>953</td>\n",
              "      <td>98</td>\n",
              "      <td>[ADJF, NOUN, PRTF, NOUN, NOUN, ADJF, ADJF, NOU...</td>\n",
              "    </tr>\n",
              "    <tr>\n",
              "      <th>2</th>\n",
              "      <td>В 2015 году 23 семьи улучшили свои жилищные ус...</td>\n",
              "      <td>Социальная сфера</td>\n",
              "      <td>[2015, году, 23, семьи, улучшили, свои, жилищн...</td>\n",
              "      <td>[(2015, NUMB,intg, 2015, 1.0, ((&lt;NumberAnalyze...</td>\n",
              "      <td>[2015, год, 23, семья, улучшить, свой, жилищны...</td>\n",
              "      <td>470</td>\n",
              "      <td>53</td>\n",
              "      <td>[None, NOUN, None, NOUN, VERB, ADJF, ADJF, NOU...</td>\n",
              "    </tr>\n",
              "    <tr>\n",
              "      <th>3</th>\n",
              "      <td>Этого человека знают все жители района старшег...</td>\n",
              "      <td>Социальная сфера</td>\n",
              "      <td>[человека, знают, жители, района, старшего, по...</td>\n",
              "      <td>[(человека, NOUN,anim,masc sing,gent, человек,...</td>\n",
              "      <td>[человек, знать, житель, район, старший, покол...</td>\n",
              "      <td>1989</td>\n",
              "      <td>199</td>\n",
              "      <td>[NOUN, VERB, NOUN, NOUN, NOUN, NOUN, None, NOU...</td>\n",
              "    </tr>\n",
              "    <tr>\n",
              "      <th>4</th>\n",
              "      <td>По сравнению с предыдущим годом в Мокшанском р...</td>\n",
              "      <td>Социальная сфера</td>\n",
              "      <td>[сравнению, предыдущим, годом, мокшанском, рай...</td>\n",
              "      <td>[(сравнению, NOUN,inan,neut sing,datv, сравнен...</td>\n",
              "      <td>[сравнение, предыдущий, год, мокшанский, район...</td>\n",
              "      <td>621</td>\n",
              "      <td>64</td>\n",
              "      <td>[NOUN, ADJF, NOUN, ADJF, NOUN, NOUN, ADJF, NOU...</td>\n",
              "    </tr>\n",
              "  </tbody>\n",
              "</table>\n",
              "</div>"
            ],
            "text/plain": [
              "                                                text  ...                                                POS\n",
              "0  Депутатами Собрания представителей внесены изм...  ...  [NOUN, NOUN, NOUN, PRTS, NOUN, NOUN, ADJF, NOU...\n",
              "1  Торжественное мероприятие, посвященное 70-лети...  ...  [ADJF, NOUN, PRTF, NOUN, NOUN, ADJF, ADJF, NOU...\n",
              "2  В 2015 году 23 семьи улучшили свои жилищные ус...  ...  [None, NOUN, None, NOUN, VERB, ADJF, ADJF, NOU...\n",
              "3  Этого человека знают все жители района старшег...  ...  [NOUN, VERB, NOUN, NOUN, NOUN, NOUN, None, NOU...\n",
              "4  По сравнению с предыдущим годом в Мокшанском р...  ...  [NOUN, ADJF, NOUN, ADJF, NOUN, NOUN, ADJF, NOU...\n",
              "\n",
              "[5 rows x 8 columns]"
            ]
          },
          "metadata": {
            "tags": []
          },
          "execution_count": 607
        }
      ]
    },
    {
      "cell_type": "code",
      "metadata": {
        "id": "qObeL3hebLRt",
        "colab_type": "code",
        "outputId": "6d7517e9-dcb6-40b2-8143-035e8961f4e7",
        "colab": {
          "base_uri": "https://localhost:8080/",
          "height": 173
        }
      },
      "source": [
        "# найдём 10 самых частых существительных в текстах каждого паблика\n",
        "from collections import Counter\n",
        "\n",
        "dct = dict()\n",
        "for public in pd.unique(df[:][\"source\"]):\n",
        "    words = []\n",
        "    for text, poses in zip(df[df['source'] == public]['lemmatized_words'], df[df['source'] == public]['POS']):\n",
        "        words.extend([word for i, word in enumerate(text) if poses[i] == 'NOUN'])\n",
        "    print('topic:', public)\n",
        "    print(*Counter(words).most_common(10))\n",
        "    dct[public] = {pair[0] for pair in Counter(words).most_common(10)}"
      ],
      "execution_count": 608,
      "outputs": [
        {
          "output_type": "stream",
          "text": [
            "topic: Социальная сфера\n",
            "('год', 2053) ('ребёнок', 1451) ('район', 1157) ('человек', 991) ('работа', 839) ('семья', 805) ('день', 611) ('дом', 608) ('жизнь', 607) ('время', 578)\n",
            "topic: Общество\n",
            "('год', 2267) ('район', 1669) ('человек', 1066) ('ребёнок', 1035) ('гражданин', 981) ('средство', 930) ('работа', 767) ('рф', 734) ('движение', 726) ('время', 714)\n",
            "topic: Спорт\n",
            "('команда', 1785) ('год', 1741) ('место', 1551) ('соревнование', 1399) ('район', 1395) ('школа', 925) ('спорт', 862) ('область', 811) ('участие', 699) ('ребёнок', 680)\n",
            "topic: Политика\n",
            "('год', 2402) ('район', 2113) ('область', 1894) ('вопрос', 1519) ('работа', 1403) ('рубль', 1163) ('администрация', 1112) ('глава', 948) ('человек', 916) ('развитие', 893)\n"
          ],
          "name": "stdout"
        }
      ]
    },
    {
      "cell_type": "code",
      "metadata": {
        "id": "di5rR4XS1OdF",
        "colab_type": "code",
        "outputId": "44b9cce3-eb75-4923-9133-84a33dc8af06",
        "colab": {
          "base_uri": "https://localhost:8080/",
          "height": 637
        }
      },
      "source": [
        "from IPython.display import Image\n",
        "Image('/content/drive/My Drive/vienn_diagram.png', width=600, height=600)"
      ],
      "execution_count": 609,
      "outputs": [
        {
          "output_type": "execute_result",
          "data": {
            "image/png": "[encoded data removed]",
            "text/plain": [
              "<IPython.core.display.Image object>"
            ]
          },
          "metadata": {
            "tags": [],
            "image/png": {
              "width": 600,
              "height": 600
            }
          },
          "execution_count": 609
        }
      ]
    },
    {
      "cell_type": "code",
      "metadata": {
        "id": "XRsbIS_x7WgP",
        "colab_type": "code",
        "outputId": "fd1bffb8-0146-4e8d-fe2c-baa515cd37e4",
        "colab": {
          "base_uri": "https://localhost:8080/",
          "height": 54
        }
      },
      "source": [
        "# общие слова для всех топиков\n",
        "common = dct['Социальная сфера'] & dct['Общество'] & dct['Спорт'] & dct['Политика']\n",
        "print(common)"
      ],
      "execution_count": 610,
      "outputs": [
        {
          "output_type": "stream",
          "text": [
            "{'год', 'район'}\n"
          ],
          "name": "stdout"
        }
      ]
    },
    {
      "cell_type": "code",
      "metadata": {
        "id": "J7b8l2E97Wj8",
        "colab_type": "code",
        "outputId": "e47356b0-63bc-46be-b52c-bc7c2e9176f7",
        "colab": {
          "base_uri": "https://localhost:8080/",
          "height": 54
        }
      },
      "source": [
        "# общие слова для социальной сферы, общества и спорта\n",
        "dct['Социальная сфера'] & dct['Общество'] & dct['Спорт'] - common"
      ],
      "execution_count": 611,
      "outputs": [
        {
          "output_type": "execute_result",
          "data": {
            "text/plain": [
              "{'ребёнок'}"
            ]
          },
          "metadata": {
            "tags": []
          },
          "execution_count": 611
        }
      ]
    },
    {
      "cell_type": "code",
      "metadata": {
        "id": "XKXHCM2j8w6H",
        "colab_type": "code",
        "outputId": "8b66ab23-5531-4a01-b9ba-01efb609da93",
        "colab": {
          "base_uri": "https://localhost:8080/",
          "height": 54
        }
      },
      "source": [
        "# общие слова для социальной сферы, общества и политики\n",
        "dct['Социальная сфера'] & dct['Общество'] & dct['Политика'] - common"
      ],
      "execution_count": 612,
      "outputs": [
        {
          "output_type": "execute_result",
          "data": {
            "text/plain": [
              "{'работа', 'человек'}"
            ]
          },
          "metadata": {
            "tags": []
          },
          "execution_count": 612
        }
      ]
    },
    {
      "cell_type": "code",
      "metadata": {
        "id": "pTYTLlKH8w-W",
        "colab_type": "code",
        "outputId": "00418e52-588f-4dae-e8e1-9083d3d912ab",
        "colab": {
          "base_uri": "https://localhost:8080/",
          "height": 54
        }
      },
      "source": [
        "# общие слова для социальной сферы, политики и спорта\n",
        "dct['Социальная сфера'] & dct['Политика'] & dct['Спорт'] - common"
      ],
      "execution_count": 613,
      "outputs": [
        {
          "output_type": "execute_result",
          "data": {
            "text/plain": [
              "set()"
            ]
          },
          "metadata": {
            "tags": []
          },
          "execution_count": 613
        }
      ]
    },
    {
      "cell_type": "code",
      "metadata": {
        "id": "KxnNLMDH9KZP",
        "colab_type": "code",
        "outputId": "87bd50f9-769c-427f-94e3-604a79498c7c",
        "colab": {
          "base_uri": "https://localhost:8080/",
          "height": 54
        }
      },
      "source": [
        "# общие слова для общества, политики и спорта\n",
        "dct['Общество'] & dct['Политика'] & dct['Спорт'] - common"
      ],
      "execution_count": 614,
      "outputs": [
        {
          "output_type": "execute_result",
          "data": {
            "text/plain": [
              "set()"
            ]
          },
          "metadata": {
            "tags": []
          },
          "execution_count": 614
        }
      ]
    },
    {
      "cell_type": "code",
      "metadata": {
        "id": "Ir6wFZlP9PtH",
        "colab_type": "code",
        "outputId": "e426d3cc-637c-4f8e-d312-d193b82ca2d8",
        "colab": {
          "base_uri": "https://localhost:8080/",
          "height": 139
        }
      },
      "source": [
        "print(dct['Политика'] & dct['Спорт'] - common,\n",
        "      dct['Политика'] & dct['Общество'] - common,\n",
        "      dct['Политика'] & dct['Социальная сфера'] - common,\n",
        "      dct['Спорт'] & dct['Общество'] - common,\n",
        "      dct['Спорт'] & dct['Социальная сфера'] - common,\n",
        "      dct['Социальная сфера'] & dct['Общество'] - common,\n",
        "      sep = '\\n')"
      ],
      "execution_count": 615,
      "outputs": [
        {
          "output_type": "stream",
          "text": [
            "{'область'}\n",
            "{'работа', 'человек'}\n",
            "{'работа', 'человек'}\n",
            "{'ребёнок'}\n",
            "{'ребёнок'}\n",
            "{'время', 'работа', 'человек', 'ребёнок'}\n"
          ],
          "name": "stdout"
        }
      ]
    },
    {
      "cell_type": "code",
      "metadata": {
        "id": "6nQvyBRZbLUn",
        "colab_type": "code",
        "colab": {}
      },
      "source": [
        "# if we want to delete some columns\n",
        "# df = df.drop(['symbols_length', 'words_length', 'lowered_words', 'Parse', 'lemmatized_words', 'POS'], axis=1)"
      ],
      "execution_count": 0,
      "outputs": []
    },
    {
      "cell_type": "markdown",
      "metadata": {
        "id": "_3_99brCpKpj",
        "colab_type": "text"
      },
      "source": [
        "Добавим также лемматизированный текст (т.е. с-join-им поле lemmatized_words)."
      ]
    },
    {
      "cell_type": "code",
      "metadata": {
        "id": "1VoxmLFipK4z",
        "colab_type": "code",
        "colab": {}
      },
      "source": [
        "df['lemmatized_text'] = df['lemmatized_words'].apply(lambda x: ' '.join(x))"
      ],
      "execution_count": 0,
      "outputs": []
    },
    {
      "cell_type": "markdown",
      "metadata": {
        "colab_type": "text",
        "id": "fTJPlulvQSqQ"
      },
      "source": [
        "Разделите коллекцию текстов на обучающую и тестовую части в соотношение 80% на 20%. "
      ]
    },
    {
      "cell_type": "code",
      "metadata": {
        "id": "pnpT0Z8jmUvQ",
        "colab_type": "code",
        "colab": {}
      },
      "source": [
        "from sklearn.model_selection import train_test_split"
      ],
      "execution_count": 0,
      "outputs": []
    },
    {
      "cell_type": "code",
      "metadata": {
        "id": "IGhm78vpmbjv",
        "colab_type": "code",
        "colab": {}
      },
      "source": [
        "X_train_full, X_test_full, y_train, y_test = train_test_split(df.loc[:, df.columns != 'source'], df['source'], test_size=0.2, random_state=21)"
      ],
      "execution_count": 0,
      "outputs": []
    },
    {
      "cell_type": "code",
      "metadata": {
        "id": "zMNud_IKm6oY",
        "colab_type": "code",
        "outputId": "14647dcb-54fc-4e08-8b87-fd2eec73148b",
        "colab": {
          "base_uri": "https://localhost:8080/",
          "height": 54
        }
      },
      "source": [
        "X_train_full.shape, X_test_full.shape, y_train.shape, y_test.shape"
      ],
      "execution_count": 620,
      "outputs": [
        {
          "output_type": "execute_result",
          "data": {
            "text/plain": [
              "((3200, 8), (800, 8), (3200,), (800,))"
            ]
          },
          "metadata": {
            "tags": []
          },
          "execution_count": 620
        }
      ]
    },
    {
      "cell_type": "code",
      "metadata": {
        "id": "sp9COjBg-pmO",
        "colab_type": "code",
        "outputId": "9f7bc319-826d-4932-b3ea-7804ea1b219f",
        "colab": {
          "base_uri": "https://localhost:8080/",
          "height": 122
        }
      },
      "source": [
        "# темы распределены равномерно\n",
        "print(y_train.value_counts())"
      ],
      "execution_count": 621,
      "outputs": [
        {
          "output_type": "stream",
          "text": [
            "Политика            811\n",
            "Спорт               803\n",
            "Общество            797\n",
            "Социальная сфера    789\n",
            "Name: source, dtype: int64\n"
          ],
          "name": "stdout"
        }
      ]
    },
    {
      "cell_type": "markdown",
      "metadata": {
        "colab_type": "text",
        "id": "9yCVYfbpNhXd"
      },
      "source": [
        "## Классификация по правилам\n",
        "\n",
        "Оценим с помощью классификации по правилам минимальный baseline, который должны превосходить более сложные модели (например, нейросети)\n",
        " \n",
        " * Разработаем несколько правил вида \"Если встречается слово $w$, то текст имеет тему $c$\". Для этого определим, какие слова среди топ-10 уникальны для темы.\n",
        " * Посчитаем метрики для классификации по правилам (точность, полноту, $f$-меру и $accuracy$)\n",
        " * Убедимся в том, что наши правила ошибаются."
      ]
    },
    {
      "cell_type": "code",
      "metadata": {
        "id": "Cjt5PhvlIXcS",
        "colab_type": "code",
        "outputId": "6e05d197-424a-4812-c894-02b1e41e3414",
        "colab": {
          "base_uri": "https://localhost:8080/",
          "height": 54
        }
      },
      "source": [
        "dct['Социальная сфера'] - (dct['Политика'] | dct['Спорт'] | dct['Общество'])"
      ],
      "execution_count": 622,
      "outputs": [
        {
          "output_type": "execute_result",
          "data": {
            "text/plain": [
              "{'день', 'дом', 'жизнь', 'семья'}"
            ]
          },
          "metadata": {
            "tags": []
          },
          "execution_count": 622
        }
      ]
    },
    {
      "cell_type": "code",
      "metadata": {
        "id": "DE6K0kOhIvgV",
        "colab_type": "code",
        "outputId": "73c3d862-e606-4f04-bbc0-11b686836d23",
        "colab": {
          "base_uri": "https://localhost:8080/",
          "height": 54
        }
      },
      "source": [
        "dct['Политика'] - (dct['Социальная сфера'] | dct['Спорт'] | dct['Общество'])"
      ],
      "execution_count": 623,
      "outputs": [
        {
          "output_type": "execute_result",
          "data": {
            "text/plain": [
              "{'администрация', 'вопрос', 'глава', 'развитие', 'рубль'}"
            ]
          },
          "metadata": {
            "tags": []
          },
          "execution_count": 623
        }
      ]
    },
    {
      "cell_type": "code",
      "metadata": {
        "id": "ZjAajIJPIzRt",
        "colab_type": "code",
        "outputId": "0c6a75d2-5cc2-4579-cffe-379d82acdf64",
        "colab": {
          "base_uri": "https://localhost:8080/",
          "height": 54
        }
      },
      "source": [
        "dct['Спорт'] - (dct['Социальная сфера'] | dct['Политика'] | dct['Общество'])"
      ],
      "execution_count": 624,
      "outputs": [
        {
          "output_type": "execute_result",
          "data": {
            "text/plain": [
              "{'команда', 'место', 'соревнование', 'спорт', 'участие', 'школа'}"
            ]
          },
          "metadata": {
            "tags": []
          },
          "execution_count": 624
        }
      ]
    },
    {
      "cell_type": "code",
      "metadata": {
        "id": "p8V7YP48IzV5",
        "colab_type": "code",
        "outputId": "04a5dd72-7912-4303-f29b-2b4278617fa6",
        "colab": {
          "base_uri": "https://localhost:8080/",
          "height": 54
        }
      },
      "source": [
        "dct['Общество'] - (dct['Социальная сфера'] | dct['Политика'] | dct['Спорт'])"
      ],
      "execution_count": 625,
      "outputs": [
        {
          "output_type": "execute_result",
          "data": {
            "text/plain": [
              "{'гражданин', 'движение', 'рф', 'средство'}"
            ]
          },
          "metadata": {
            "tags": []
          },
          "execution_count": 625
        }
      ]
    },
    {
      "cell_type": "code",
      "metadata": {
        "id": "Ox2LbuQqnpsW",
        "colab_type": "code",
        "colab": {}
      },
      "source": [
        "import random\n",
        "\n",
        "# задаём правила\n",
        "def rules(text):\n",
        "    if text & {'дом', 'семья', 'жизнь', 'день'}:\n",
        "        return 'Социальная сфера'\n",
        "    elif text & {'администрация', 'глава', 'развитие', 'вопрос', 'рубль'}:\n",
        "        return 'Политика'\n",
        "    elif text & {'команда', 'соревнование', 'спорт', 'школа', 'участие', 'место'}:\n",
        "        return 'Спорт'\n",
        "    elif text & {'гражданин', 'рф', 'движение', 'средство'}:\n",
        "        return 'Общество'\n",
        "    else: # случайный выбор\n",
        "        return random.choice(['Социальная сфера', 'Политика', 'Спорт', 'Общество'])"
      ],
      "execution_count": 0,
      "outputs": []
    },
    {
      "cell_type": "code",
      "metadata": {
        "id": "MneBxuCqnp9O",
        "colab_type": "code",
        "colab": {}
      },
      "source": [
        "import numpy as np\n",
        "from sklearn.metrics import confusion_matrix\n",
        "import seaborn as sn\n",
        "import pandas as pd\n",
        "import matplotlib.pyplot as plt\n",
        "\n",
        "labels=['Социальная сфера', 'Политика', 'Спорт', 'Общество']\n",
        "\n",
        "# определяем функции для визуализации работы алгоритма и подсчёта метрик\n",
        "def get_cm(X, y):\n",
        "    predictions = []\n",
        "    for index, row in X.iterrows():\n",
        "        predictions.append(rules(set(row['lowered_words'])))\n",
        "    cm = confusion_matrix(y, predictions, labels)\n",
        "    return cm\n",
        "\n",
        "def plot_cm(cm):\n",
        "    df_cm = pd.DataFrame(cm, index=labels, columns=labels)\n",
        "    plt.figure(figsize = (10,7))\n",
        "    sn.heatmap(df_cm, annot=True);\n",
        "\n",
        "def print_metrics_from_cm(cm):\n",
        "    precisions = np.diag(cm) / np.sum(cm, axis=0)\n",
        "    recalls = np.diag(cm) / np.sum(cm, axis=1)\n",
        "    mean_precision = np.mean(precisions)\n",
        "    print(\"Mean Precision:\", mean_precision)\n",
        "    mean_recall = np.mean(recalls)\n",
        "    print(\"Mean Recall\", mean_recall)\n",
        "    print(\"Accuracy:\", np.sum(np.diag(cm)) / np.sum(cm))\n",
        "    print(\"F1 score:\", 2 * mean_precision * mean_recall / (mean_precision + mean_recall))"
      ],
      "execution_count": 0,
      "outputs": []
    },
    {
      "cell_type": "code",
      "metadata": {
        "id": "1TPUSUxlnqJF",
        "colab_type": "code",
        "outputId": "312cef2f-17c7-4928-a13d-cebf407a68e2",
        "colab": {
          "base_uri": "https://localhost:8080/",
          "height": 520
        }
      },
      "source": [
        "# На обучающей выборке\n",
        "\n",
        "cm = get_cm(X_train_full, y_train)\n",
        "plot_cm(cm)\n",
        "print_metrics_from_cm(cm)"
      ],
      "execution_count": 628,
      "outputs": [
        {
          "output_type": "stream",
          "text": [
            "Mean Precision: 0.45136540660367985\n",
            "Mean Recall 0.4322754861424537\n",
            "Accuracy: 0.4321875\n",
            "F1 score: 0.44161423983248704\n"
          ],
          "name": "stdout"
        },
        {
          "output_type": "display_data",
          "data": {
            "image/png": "[encoded data removed]",
            "text/plain": [
              "<Figure size 720x504 with 2 Axes>"
            ]
          },
          "metadata": {
            "tags": []
          }
        }
      ]
    },
    {
      "cell_type": "code",
      "metadata": {
        "id": "uPS4ReT5pMm7",
        "colab_type": "code",
        "outputId": "563e0a0d-f2a1-437f-fff1-16eae6efcca7",
        "colab": {
          "base_uri": "https://localhost:8080/",
          "height": 520
        }
      },
      "source": [
        "# На тестовой выборке\n",
        "\n",
        "cm = get_cm(X_test_full, y_test)\n",
        "plot_cm(cm)\n",
        "print_metrics_from_cm(cm)"
      ],
      "execution_count": 629,
      "outputs": [
        {
          "output_type": "stream",
          "text": [
            "Mean Precision: 0.44635202489591275\n",
            "Mean Recall 0.43712485827127495\n",
            "Accuracy: 0.4375\n",
            "F1 score: 0.44169025661942496\n"
          ],
          "name": "stdout"
        },
        {
          "output_type": "display_data",
          "data": {
            "image/png": "[encoded data removed]",
            "text/plain": [
              "<Figure size 720x504 with 2 Axes>"
            ]
          },
          "metadata": {
            "tags": []
          }
        }
      ]
    },
    {
      "cell_type": "code",
      "metadata": {
        "id": "-_NMcfYW34fO",
        "colab_type": "code",
        "outputId": "27663e86-c9ef-481b-ad83-cb6fae3a4772",
        "colab": {
          "base_uri": "https://localhost:8080/",
          "height": 520
        }
      },
      "source": [
        "# На всей выборке\n",
        "\n",
        "X = df.loc[:, df.columns != 'source']\n",
        "y = df['source']\n",
        "\n",
        "cm = get_cm(X, y)\n",
        "plot_cm(cm)\n",
        "print_metrics_from_cm(cm)"
      ],
      "execution_count": 630,
      "outputs": [
        {
          "output_type": "stream",
          "text": [
            "Mean Precision: 0.4511672681262149\n",
            "Mean Recall 0.434\n",
            "Accuracy: 0.434\n",
            "F1 score: 0.44241715982398355\n"
          ],
          "name": "stdout"
        },
        {
          "output_type": "display_data",
          "data": {
            "image/png": "[encoded data removed]",
            "text/plain": [
              "<Figure size 720x504 with 2 Axes>"
            ]
          },
          "metadata": {
            "tags": []
          }
        }
      ]
    },
    {
      "cell_type": "markdown",
      "metadata": {
        "id": "Qo9rBttX4Fqc",
        "colab_type": "text"
      },
      "source": [
        "Т.е. качество довольно плохое, несмотря на то, что определённую долю (~ 25%) правильных ответов привносит случайный выбор, потому что мы используем не самые изощрённые правила."
      ]
    },
    {
      "cell_type": "markdown",
      "metadata": {
        "id": "DzpCfU164YWG",
        "colab_type": "text"
      },
      "source": [
        "Проверим, есть ли среди наших правил те, которые никогда не ошибаются."
      ]
    },
    {
      "cell_type": "code",
      "metadata": {
        "id": "_0eW4zqw4QHX",
        "colab_type": "code",
        "outputId": "a3ddbecf-31ba-48db-b24f-e9c28d0300ed",
        "colab": {
          "base_uri": "https://localhost:8080/",
          "height": 105
        }
      },
      "source": [
        "fl_soc_is_not_ideal = 0\n",
        "fl_politics_is_not_ideal = 0\n",
        "fl_sport_is_not_ideal = 0\n",
        "fl_society_is_not_ideal = 0\n",
        "\n",
        "for index, row in X.iterrows():\n",
        "    # labels=['Социальная сфера', 'Политика', 'Спорт', 'Общество']\n",
        "    if y[index] == 'Социальная сфера' and not fl_soc_is_not_ideal:\n",
        "        if not (set(row['lowered_words']) & {'дом', 'семья', 'жизнь', 'день'}):\n",
        "            fl_soc_is_not_ideal = 1\n",
        "            print('rule for social sphere is not ideal')\n",
        "    elif y[index] == 'Политика' and not fl_politics_is_not_ideal:\n",
        "        if not (set(row['lowered_words']) & {'администрация', 'глава', 'развитие', 'вопрос', 'рубль'}):\n",
        "            fl_politics_is_not_ideal = 1\n",
        "            print('rule for politics is not ideal')\n",
        "    elif y[index] == 'Спорт' and not fl_sport_is_not_ideal:\n",
        "        if not (set(row['lowered_words']) & {'почта', 'отделение', 'письмо'}):\n",
        "            fl_sport_is_not_ideal = 1\n",
        "            print('rule for sport is not ideal')\n",
        "    elif not fl_society_is_not_ideal: # y[index] == 'Общество'\n",
        "        if not (set(row['lowered_words']) & {'полиция', 'мвд', 'москва'}):\n",
        "            fl_society_is_not_ideal = 1\n",
        "            print('rule for society is not ideal')"
      ],
      "execution_count": 631,
      "outputs": [
        {
          "output_type": "stream",
          "text": [
            "rule for social sphere is not ideal\n",
            "rule for society is not ideal\n",
            "rule for sport is not ideal\n",
            "rule for politics is not ideal\n"
          ],
          "name": "stdout"
        }
      ]
    },
    {
      "cell_type": "markdown",
      "metadata": {
        "id": "_HfVvBBL7LsG",
        "colab_type": "text"
      },
      "source": [
        "Естественно, ни одно из правил не является идеальным. Можно взять уникальное слово (встречающееся только один раз в данном корпусе или несколько раз, но только в одном корпусе) и создать правило типа \"если встретилось это слово, то это категория c (категория, в которой встретилось это слово)\", но и оно получено \"переобучением\" (т.е. мы знали ответы заранее), т.е. не будет универсальным для новых тестовых данных."
      ]
    },
    {
      "cell_type": "markdown",
      "metadata": {
        "id": "xswPLHrc78oq",
        "colab_type": "text"
      },
      "source": [
        "Для никогда не ошибающихся правил (но только для данного датасета) можно взять, к примеру, следующие слова:"
      ]
    },
    {
      "cell_type": "code",
      "metadata": {
        "id": "jjdHT1yo8JOq",
        "colab_type": "code",
        "colab": {}
      },
      "source": [
        "words = []\n",
        "for i in range(df.shape[0]):\n",
        "    words.extend(df.iloc[i][\"lowered_words\"])"
      ],
      "execution_count": 0,
      "outputs": []
    },
    {
      "cell_type": "code",
      "metadata": {
        "id": "fxKQpB3q8S75",
        "colab_type": "code",
        "outputId": "ab54faf5-b733-44ee-8396-0fe4190fc589",
        "colab": {
          "base_uri": "https://localhost:8080/",
          "height": 292
        }
      },
      "source": [
        "[(key, value) for key, value in Counter(words).items() if value == 1][:15]"
      ],
      "execution_count": 633,
      "outputs": [
        {
          "output_type": "execute_result",
          "data": {
            "text/plain": [
              "[('этики', 1),\n",
              " ('списание', 1),\n",
              " ('триумфа', 1),\n",
              " ('ратной', 1),\n",
              " ('10400', 1),\n",
              " ('фотокорреспондентом', 1),\n",
              " ('бригадиры', 1),\n",
              " ('скотники', 1),\n",
              " ('пастухи', 1),\n",
              " ('удочка', 1),\n",
              " ('признаю', 1),\n",
              " ('заводит', 1),\n",
              " ('иж', 1),\n",
              " ('исколесил', 1),\n",
              " ('поклевку', 1)]"
            ]
          },
          "metadata": {
            "tags": []
          },
          "execution_count": 633
        }
      ]
    },
    {
      "cell_type": "markdown",
      "metadata": {
        "colab_type": "text",
        "id": "22tJKQnaOjie"
      },
      "source": [
        "## Baseline с Pipeline-ом\n",
        "Используем стандартный ```sklearn.pipeline``` для классификации текстов, который состоит из:\n",
        "* векторизации (с помощью CountVectorizer)\n",
        "* $tf-idf$ взвешивания (с помощью TfidfTransformer)\n",
        "* метода классификации (MultinomialNB и SGDClassifier)\n",
        "\n",
        "Далее оценим результаты классификации по метрикам, визуализируем ошибки (с помощью confusion matrix) и проведите их анализ."
      ]
    },
    {
      "cell_type": "code",
      "metadata": {
        "id": "aX3HvUvb9OsA",
        "colab_type": "code",
        "colab": {}
      },
      "source": [
        "from sklearn.metrics import classification_report\n",
        "from sklearn.pipeline import Pipeline\n",
        "from sklearn.feature_extraction.text import CountVectorizer\n",
        "from sklearn.feature_extraction.text import TfidfTransformer\n",
        "from sklearn.naive_bayes import MultinomialNB\n",
        "from sklearn.linear_model import SGDClassifier"
      ],
      "execution_count": 0,
      "outputs": []
    },
    {
      "cell_type": "markdown",
      "metadata": {
        "id": "VNbFc5HcHlhC",
        "colab_type": "text"
      },
      "source": [
        "Мультиномиальный наивный Байес даёт хороший baseline, поэтому будем использовать именно этот классификатор. В качестве векторайзера используем BOW (частотности) с tf-idf взвешиванием."
      ]
    },
    {
      "cell_type": "code",
      "metadata": {
        "id": "CdYW0wheCpmA",
        "colab_type": "code",
        "colab": {}
      },
      "source": [
        "pipeline = Pipeline([('vectorizer', CountVectorizer()), ('tf_idf', TfidfTransformer()), ('classifier', MultinomialNB())], verbose=True)"
      ],
      "execution_count": 0,
      "outputs": []
    },
    {
      "cell_type": "code",
      "metadata": {
        "id": "JWswCesnIzXK",
        "colab_type": "code",
        "colab": {}
      },
      "source": [
        "X_train = X_train_full['text']\n",
        "X_test = X_test_full['text']"
      ],
      "execution_count": 0,
      "outputs": []
    },
    {
      "cell_type": "code",
      "metadata": {
        "id": "NSApV69zCpo9",
        "colab_type": "code",
        "outputId": "41b02144-b8dd-4e22-e619-059a9bd388a2",
        "colab": {
          "base_uri": "https://localhost:8080/",
          "height": 377
        }
      },
      "source": [
        "pipeline.fit(X_train, y_train)"
      ],
      "execution_count": 637,
      "outputs": [
        {
          "output_type": "stream",
          "text": [
            "[Pipeline] ........ (step 1 of 3) Processing vectorizer, total=   0.7s\n",
            "[Pipeline] ............ (step 2 of 3) Processing tf_idf, total=   0.1s\n",
            "[Pipeline] ........ (step 3 of 3) Processing classifier, total=   0.0s\n"
          ],
          "name": "stdout"
        },
        {
          "output_type": "execute_result",
          "data": {
            "text/plain": [
              "Pipeline(memory=None,\n",
              "         steps=[('vectorizer',\n",
              "                 CountVectorizer(analyzer='word', binary=False,\n",
              "                                 decode_error='strict',\n",
              "                                 dtype=<class 'numpy.int64'>, encoding='utf-8',\n",
              "                                 input='content', lowercase=True, max_df=1.0,\n",
              "                                 max_features=None, min_df=1,\n",
              "                                 ngram_range=(1, 1), preprocessor=None,\n",
              "                                 stop_words=None, strip_accents=None,\n",
              "                                 token_pattern='(?u)\\\\b\\\\w\\\\w+\\\\b',\n",
              "                                 tokenizer=None, vocabulary=None)),\n",
              "                ('tf_idf',\n",
              "                 TfidfTransformer(norm='l2', smooth_idf=True,\n",
              "                                  sublinear_tf=False, use_idf=True)),\n",
              "                ('classifier',\n",
              "                 MultinomialNB(alpha=1.0, class_prior=None, fit_prior=True))],\n",
              "         verbose=True)"
            ]
          },
          "metadata": {
            "tags": []
          },
          "execution_count": 637
        }
      ]
    },
    {
      "cell_type": "code",
      "metadata": {
        "id": "Y1hIaqPNJLgr",
        "colab_type": "code",
        "colab": {}
      },
      "source": [
        "predictions = pipeline.predict(X_test)"
      ],
      "execution_count": 0,
      "outputs": []
    },
    {
      "cell_type": "code",
      "metadata": {
        "id": "dsq0gO0vJLlW",
        "colab_type": "code",
        "colab": {}
      },
      "source": [
        "cm = confusion_matrix(y_test, predictions, labels)"
      ],
      "execution_count": 0,
      "outputs": []
    },
    {
      "cell_type": "code",
      "metadata": {
        "id": "F_Ta6EZMCprx",
        "colab_type": "code",
        "outputId": "2f8595ff-c09a-4f26-c704-38067296b441",
        "colab": {
          "base_uri": "https://localhost:8080/",
          "height": 452
        }
      },
      "source": [
        "plot_cm(cm)"
      ],
      "execution_count": 640,
      "outputs": [
        {
          "output_type": "display_data",
          "data": {
            "image/png": "[encoded data removed]",
            "text/plain": [
              "<Figure size 720x504 with 2 Axes>"
            ]
          },
          "metadata": {
            "tags": []
          }
        }
      ]
    },
    {
      "cell_type": "code",
      "metadata": {
        "id": "rlpFWODfKtNx",
        "colab_type": "code",
        "outputId": "6311b5be-5b3c-4c83-837d-db5e54e40a56",
        "colab": {
          "base_uri": "https://localhost:8080/",
          "height": 105
        }
      },
      "source": [
        "print_metrics_from_cm(cm)"
      ],
      "execution_count": 641,
      "outputs": [
        {
          "output_type": "stream",
          "text": [
            "Mean Precision: 0.742607021146347\n",
            "Mean Recall 0.7468778904251174\n",
            "Accuracy: 0.74\n",
            "F1 score: 0.7447363327547922\n"
          ],
          "name": "stdout"
        }
      ]
    },
    {
      "cell_type": "code",
      "metadata": {
        "id": "kqk758ckPrz1",
        "colab_type": "code",
        "outputId": "fca28396-ca83-4455-a66f-4547ad1338c4",
        "colab": {
          "base_uri": "https://localhost:8080/",
          "height": 224
        }
      },
      "source": [
        "print(classification_report(y_test, predictions, labels))"
      ],
      "execution_count": 642,
      "outputs": [
        {
          "output_type": "stream",
          "text": [
            "                  precision    recall  f1-score   support\n",
            "\n",
            "Социальная сфера       0.67      0.44      0.53       211\n",
            "        Политика       0.66      0.90      0.76       189\n",
            "           Спорт       0.78      0.89      0.83       197\n",
            "        Общество       0.87      0.76      0.81       203\n",
            "\n",
            "        accuracy                           0.74       800\n",
            "       macro avg       0.74      0.75      0.73       800\n",
            "    weighted avg       0.74      0.74      0.73       800\n",
            "\n"
          ],
          "name": "stdout"
        }
      ]
    },
    {
      "cell_type": "markdown",
      "metadata": {
        "id": "WhM8QD_UNnBQ",
        "colab_type": "text"
      },
      "source": [
        "Качество немного значительно.\n",
        "\n",
        "Как видно из матрицы ошибок чаще всего (69) классификатор ошибочно приписывает лейбл \"Социальная сфера\" к текстам, в действительности имеющим лейбл \"Политика\" , но не наоборот. Следующей по частотности ошибкой (21) является приписывание лейбла \"Социальная сфера\" к текстам, имеющим лейбл \"Общество\" и наоборот (19). Общество и политика такэе часто путаются. Вероятно, так происходит из-за плохой семантической разграниченности этих тем. Также часто путаются \"Спорт\" и \"Социальная сфера\"."
      ]
    },
    {
      "cell_type": "markdown",
      "metadata": {
        "id": "-b8fWx8nMTk7",
        "colab_type": "text"
      },
      "source": [
        "Попробуем также считающийся лучшим линейный классификатор с обучением с помощью стохастического градиентного спуска (SGD классификатор на дефолтных параметрах)."
      ]
    },
    {
      "cell_type": "code",
      "metadata": {
        "id": "wJwm3hqHMRoA",
        "colab_type": "code",
        "colab": {}
      },
      "source": [
        "pipeline = Pipeline([('vectorizer', CountVectorizer()), ('tf_idf', TfidfTransformer()), ('classifier', SGDClassifier())], verbose=True)"
      ],
      "execution_count": 0,
      "outputs": []
    },
    {
      "cell_type": "code",
      "metadata": {
        "id": "ZtYDSdCjMpGv",
        "colab_type": "code",
        "outputId": "d8eab3fb-2863-41bf-e9e2-b5bbb1a4055a",
        "colab": {
          "base_uri": "https://localhost:8080/",
          "height": 445
        }
      },
      "source": [
        "pipeline.fit(X_train, y_train)"
      ],
      "execution_count": 644,
      "outputs": [
        {
          "output_type": "stream",
          "text": [
            "[Pipeline] ........ (step 1 of 3) Processing vectorizer, total=   0.7s\n",
            "[Pipeline] ............ (step 2 of 3) Processing tf_idf, total=   0.1s\n",
            "[Pipeline] ........ (step 3 of 3) Processing classifier, total=   0.1s\n"
          ],
          "name": "stdout"
        },
        {
          "output_type": "execute_result",
          "data": {
            "text/plain": [
              "Pipeline(memory=None,\n",
              "         steps=[('vectorizer',\n",
              "                 CountVectorizer(analyzer='word', binary=False,\n",
              "                                 decode_error='strict',\n",
              "                                 dtype=<class 'numpy.int64'>, encoding='utf-8',\n",
              "                                 input='content', lowercase=True, max_df=1.0,\n",
              "                                 max_features=None, min_df=1,\n",
              "                                 ngram_range=(1, 1), preprocessor=None,\n",
              "                                 stop_words=None, strip_accents=None,\n",
              "                                 token_pattern='(?u)\\\\b\\\\w\\\\w+\\\\b',\n",
              "                                 tokenizer=None, vocabula...\n",
              "                ('classifier',\n",
              "                 SGDClassifier(alpha=0.0001, average=False, class_weight=None,\n",
              "                               early_stopping=False, epsilon=0.1, eta0=0.0,\n",
              "                               fit_intercept=True, l1_ratio=0.15,\n",
              "                               learning_rate='optimal', loss='hinge',\n",
              "                               max_iter=1000, n_iter_no_change=5, n_jobs=None,\n",
              "                               penalty='l2', power_t=0.5, random_state=None,\n",
              "                               shuffle=True, tol=0.001, validation_fraction=0.1,\n",
              "                               verbose=0, warm_start=False))],\n",
              "         verbose=True)"
            ]
          },
          "metadata": {
            "tags": []
          },
          "execution_count": 644
        }
      ]
    },
    {
      "cell_type": "code",
      "metadata": {
        "id": "ttq3J9jKMqtj",
        "colab_type": "code",
        "colab": {}
      },
      "source": [
        "predictions = pipeline.predict(X_test)"
      ],
      "execution_count": 0,
      "outputs": []
    },
    {
      "cell_type": "code",
      "metadata": {
        "id": "nUMgYlxOMqw6",
        "colab_type": "code",
        "colab": {}
      },
      "source": [
        "cm = confusion_matrix(y_test, predictions, labels)"
      ],
      "execution_count": 0,
      "outputs": []
    },
    {
      "cell_type": "code",
      "metadata": {
        "id": "KgiztRc9Mtec",
        "colab_type": "code",
        "outputId": "d330e2d5-c435-4cb4-c827-c67cbc07ed96",
        "colab": {
          "base_uri": "https://localhost:8080/",
          "height": 452
        }
      },
      "source": [
        "plot_cm(cm)"
      ],
      "execution_count": 647,
      "outputs": [
        {
          "output_type": "display_data",
          "data": {
            "image/png": "[encoded data removed]",
            "text/plain": [
              "<Figure size 720x504 with 2 Axes>"
            ]
          },
          "metadata": {
            "tags": []
          }
        }
      ]
    },
    {
      "cell_type": "code",
      "metadata": {
        "id": "dDtbpnl-Mtk-",
        "colab_type": "code",
        "outputId": "3eceff34-df88-4992-8f08-957c61902817",
        "colab": {
          "base_uri": "https://localhost:8080/",
          "height": 105
        }
      },
      "source": [
        "print_metrics_from_cm(cm)"
      ],
      "execution_count": 648,
      "outputs": [
        {
          "output_type": "stream",
          "text": [
            "Mean Precision: 0.7728580362726705\n",
            "Mean Recall 0.7748056855007578\n",
            "Accuracy: 0.7725\n",
            "F1 score: 0.7738306353822773\n"
          ],
          "name": "stdout"
        }
      ]
    },
    {
      "cell_type": "code",
      "metadata": {
        "id": "31ZsiYZSK1yT",
        "colab_type": "code",
        "outputId": "fb579bb3-ec99-4310-9740-2a86515b9b7d",
        "colab": {
          "base_uri": "https://localhost:8080/",
          "height": 224
        }
      },
      "source": [
        "print(classification_report(y_test, predictions, labels))"
      ],
      "execution_count": 649,
      "outputs": [
        {
          "output_type": "stream",
          "text": [
            "                  precision    recall  f1-score   support\n",
            "\n",
            "Социальная сфера       0.67      0.65      0.66       211\n",
            "        Политика       0.76      0.79      0.78       189\n",
            "           Спорт       0.85      0.88      0.87       197\n",
            "        Общество       0.81      0.78      0.79       203\n",
            "\n",
            "        accuracy                           0.77       800\n",
            "       macro avg       0.77      0.77      0.77       800\n",
            "    weighted avg       0.77      0.77      0.77       800\n",
            "\n"
          ],
          "name": "stdout"
        }
      ]
    },
    {
      "cell_type": "markdown",
      "metadata": {
        "id": "_48F3OztREP1",
        "colab_type": "text"
      },
      "source": [
        "Качество стало на пару процентов лучше, чем у MultinomialNB.\n",
        "\n",
        "Аналогично MultinomialNB SGDClassifier также путает \"Социальную сферу\" с \"Политикой\" (35 и 13), \"Общество\" с \"Социальной сферой\" и \"Спорт\" с \"Социальной сферой\". Вероятно, \"Социальная сфера\" отчасти включает в себя все эти темы (\"Политика\", \"Общество\", \"Спорт\")."
      ]
    },
    {
      "cell_type": "markdown",
      "metadata": {
        "colab_type": "text",
        "id": "I4m1rDQ3PAqO"
      },
      "source": [
        "## Pipeline со снижением размерности\n",
        "Добавим в наш ```sklearn.pipeline```  метод снижения размерности: LSA (латентно-семантический анализ). После методов снижения размерности разумно использовать классификаторы, которые ожидают получить Dense, а не Sparse матрицу на вход."
      ]
    },
    {
      "cell_type": "code",
      "metadata": {
        "id": "pkKVnVS1UfqD",
        "colab_type": "code",
        "colab": {}
      },
      "source": [
        "# Используем LSA (латентно-семантический анализ): применяем TruncatedSVD после tf-idf трансформатора.\n",
        "from sklearn.decomposition import TruncatedSVD"
      ],
      "execution_count": 0,
      "outputs": []
    },
    {
      "cell_type": "code",
      "metadata": {
        "id": "IJ2nFfmTTkg0",
        "colab_type": "code",
        "outputId": "a96c5b37-d0df-47dc-ead7-9048618589e8",
        "colab": {
          "base_uri": "https://localhost:8080/",
          "height": 105
        }
      },
      "source": [
        "pipeline = Pipeline(steps=[('vectorizer', CountVectorizer()), ('tf_idf', TfidfTransformer()), ('lsa', TruncatedSVD()), ('classifier', SGDClassifier())], verbose=True)\n",
        "pipeline.fit(X_train, y_train)\n",
        "predictions = pipeline.predict(X_test)"
      ],
      "execution_count": 651,
      "outputs": [
        {
          "output_type": "stream",
          "text": [
            "[Pipeline] ........ (step 1 of 4) Processing vectorizer, total=   0.7s\n",
            "[Pipeline] ............ (step 2 of 4) Processing tf_idf, total=   0.1s\n",
            "[Pipeline] ............... (step 3 of 4) Processing lsa, total=   0.2s\n",
            "[Pipeline] ........ (step 4 of 4) Processing classifier, total=   0.0s\n"
          ],
          "name": "stdout"
        }
      ]
    },
    {
      "cell_type": "code",
      "metadata": {
        "id": "reBKDI1XTlMU",
        "colab_type": "code",
        "outputId": "52cccef4-40a9-4efd-9384-8e8d01fb7fd0",
        "colab": {
          "base_uri": "https://localhost:8080/",
          "height": 537
        }
      },
      "source": [
        "cm = confusion_matrix(y_test, predictions, labels)\n",
        "plot_cm(cm)\n",
        "print_metrics_from_cm(cm)"
      ],
      "execution_count": 652,
      "outputs": [
        {
          "output_type": "stream",
          "text": [
            "/usr/local/lib/python3.6/dist-packages/ipykernel_launcher.py:23: RuntimeWarning: invalid value encountered in true_divide\n"
          ],
          "name": "stderr"
        },
        {
          "output_type": "stream",
          "text": [
            "Mean Precision: nan\n",
            "Mean Recall 0.5040147922171377\n",
            "Accuracy: 0.5\n",
            "F1 score: nan\n"
          ],
          "name": "stdout"
        },
        {
          "output_type": "display_data",
          "data": {
            "image/png": "[encoded data removed]",
            "text/plain": [
              "<Figure size 720x504 with 2 Axes>"
            ]
          },
          "metadata": {
            "tags": []
          }
        }
      ]
    },
    {
      "cell_type": "markdown",
      "metadata": {
        "id": "i3sQd48SbPGh",
        "colab_type": "text"
      },
      "source": [
        "После tf-idf у нас есть sparce матрица, после понижения размерности с помощью, например, LSA, получаем dense матрицу.\n",
        "\n",
        "SGD классификатор (как и, например, LinearSVC классификатор) явно не подходит для использования после LSA, поскольку он ожидает именно sparce матрицу (это видно и по сильно упавшему (на 30%) качеству выше), а мы сознательно уменьшаем её размерность. MultinomialNB в принципе выдаёт ошибку из-за несовместимости.\n",
        "\n",
        "Поэтому разумно использовать классификаторы, которые ожидают на вход именно dense матрицу. Среди таковых, например, случайный лес (RandomForestClassifier()), "
      ]
    },
    {
      "cell_type": "code",
      "metadata": {
        "id": "YYnXdWeuU6tV",
        "colab_type": "code",
        "colab": {}
      },
      "source": [
        "from sklearn.ensemble import RandomForestClassifier\n",
        "\n",
        "pipeline = Pipeline(steps=[('vectorizer', CountVectorizer()), ('tf_idf', TfidfTransformer()), ('lsa', TruncatedSVD()), ('classifier', RandomForestClassifier())], verbose=True)"
      ],
      "execution_count": 0,
      "outputs": []
    },
    {
      "cell_type": "code",
      "metadata": {
        "id": "xkjw6D-aU6w0",
        "colab_type": "code",
        "outputId": "2bb11a67-e2d8-4db8-eb20-c67e28d684fc",
        "colab": {
          "base_uri": "https://localhost:8080/",
          "height": 139
        }
      },
      "source": [
        "pipeline.fit(X_train, y_train)\n",
        "predictions = pipeline.predict(X_test)"
      ],
      "execution_count": 654,
      "outputs": [
        {
          "output_type": "stream",
          "text": [
            "[Pipeline] ........ (step 1 of 4) Processing vectorizer, total=   0.7s\n",
            "[Pipeline] ............ (step 2 of 4) Processing tf_idf, total=   0.1s\n",
            "[Pipeline] ............... (step 3 of 4) Processing lsa, total=   0.2s\n",
            "[Pipeline] ........ (step 4 of 4) Processing classifier, total=   0.1s\n"
          ],
          "name": "stdout"
        },
        {
          "output_type": "stream",
          "text": [
            "/usr/local/lib/python3.6/dist-packages/sklearn/ensemble/forest.py:245: FutureWarning: The default value of n_estimators will change from 10 in version 0.20 to 100 in 0.22.\n",
            "  \"10 in version 0.20 to 100 in 0.22.\", FutureWarning)\n"
          ],
          "name": "stderr"
        }
      ]
    },
    {
      "cell_type": "code",
      "metadata": {
        "id": "nmdZEE5ZXab6",
        "colab_type": "code",
        "outputId": "1c3a4823-260b-44f5-904d-61411082b843",
        "colab": {
          "base_uri": "https://localhost:8080/",
          "height": 520
        }
      },
      "source": [
        "cm = confusion_matrix(y_test, predictions, labels)\n",
        "plot_cm(cm)\n",
        "print_metrics_from_cm(cm)"
      ],
      "execution_count": 655,
      "outputs": [
        {
          "output_type": "stream",
          "text": [
            "Mean Precision: 0.5645070912450592\n",
            "Mean Recall 0.5565779803966512\n",
            "Accuracy: 0.55375\n",
            "F1 score: 0.5605144956656356\n"
          ],
          "name": "stdout"
        },
        {
          "output_type": "display_data",
          "data": {
            "image/png": "[encoded data removed]",
            "text/plain": [
              "<Figure size 720x504 with 2 Axes>"
            ]
          },
          "metadata": {
            "tags": []
          }
        }
      ]
    },
    {
      "cell_type": "code",
      "metadata": {
        "id": "WIJ1fXNfjIV8",
        "colab_type": "code",
        "colab": {}
      },
      "source": [
        "# или логистическую регрессию\n",
        "from sklearn.linear_model import LogisticRegression"
      ],
      "execution_count": 0,
      "outputs": []
    },
    {
      "cell_type": "code",
      "metadata": {
        "id": "dLTVDvDtjJja",
        "colab_type": "code",
        "outputId": "b4ec4965-170e-456f-fc2a-c0c677258bb9",
        "colab": {
          "base_uri": "https://localhost:8080/",
          "height": 173
        }
      },
      "source": [
        "pipeline = Pipeline(steps=[('vectorizer', CountVectorizer()), ('tf_idf', TfidfTransformer()), ('lsa', TruncatedSVD()), ('classifier', LogisticRegression())], verbose=True)\n",
        "pipeline.fit(X_train, y_train)\n",
        "predictions = pipeline.predict(X_test)"
      ],
      "execution_count": 657,
      "outputs": [
        {
          "output_type": "stream",
          "text": [
            "[Pipeline] ........ (step 1 of 4) Processing vectorizer, total=   0.7s\n",
            "[Pipeline] ............ (step 2 of 4) Processing tf_idf, total=   0.1s\n",
            "[Pipeline] ............... (step 3 of 4) Processing lsa, total=   0.2s\n",
            "[Pipeline] ........ (step 4 of 4) Processing classifier, total=   0.0s\n"
          ],
          "name": "stdout"
        },
        {
          "output_type": "stream",
          "text": [
            "/usr/local/lib/python3.6/dist-packages/sklearn/linear_model/logistic.py:432: FutureWarning: Default solver will be changed to 'lbfgs' in 0.22. Specify a solver to silence this warning.\n",
            "  FutureWarning)\n",
            "/usr/local/lib/python3.6/dist-packages/sklearn/linear_model/logistic.py:469: FutureWarning: Default multi_class will be changed to 'auto' in 0.22. Specify the multi_class option to silence this warning.\n",
            "  \"this warning.\", FutureWarning)\n"
          ],
          "name": "stderr"
        }
      ]
    },
    {
      "cell_type": "code",
      "metadata": {
        "id": "tL4dYuScjJdy",
        "colab_type": "code",
        "outputId": "9fe8bb28-8215-4b43-8c3e-0d2434554c67",
        "colab": {
          "base_uri": "https://localhost:8080/",
          "height": 520
        }
      },
      "source": [
        "cm = confusion_matrix(y_test, predictions, labels)\n",
        "plot_cm(cm)\n",
        "print_metrics_from_cm(cm)"
      ],
      "execution_count": 658,
      "outputs": [
        {
          "output_type": "stream",
          "text": [
            "Mean Precision: 0.5330910688621827\n",
            "Mean Recall 0.5529058688459423\n",
            "Accuracy: 0.54875\n",
            "F1 score: 0.5428177011719615\n"
          ],
          "name": "stdout"
        },
        {
          "output_type": "display_data",
          "data": {
            "image/png": "[encoded data removed]",
            "text/plain": [
              "<Figure size 720x504 with 2 Axes>"
            ]
          },
          "metadata": {
            "tags": []
          }
        }
      ]
    },
    {
      "cell_type": "code",
      "metadata": {
        "id": "p5y8Bx8xjJbA",
        "colab_type": "code",
        "outputId": "a49b9805-0520-493f-d037-e4523672d488",
        "colab": {
          "base_uri": "https://localhost:8080/",
          "height": 224
        }
      },
      "source": [
        "print(classification_report(y_test, predictions, labels))"
      ],
      "execution_count": 659,
      "outputs": [
        {
          "output_type": "stream",
          "text": [
            "                  precision    recall  f1-score   support\n",
            "\n",
            "Социальная сфера       0.41      0.21      0.28       211\n",
            "        Политика       0.44      0.47      0.45       189\n",
            "           Спорт       0.56      0.86      0.68       197\n",
            "        Общество       0.72      0.67      0.70       203\n",
            "\n",
            "        accuracy                           0.55       800\n",
            "       macro avg       0.53      0.55      0.53       800\n",
            "    weighted avg       0.53      0.55      0.53       800\n",
            "\n"
          ],
          "name": "stdout"
        }
      ]
    },
    {
      "cell_type": "code",
      "metadata": {
        "id": "jvxkFUAVnQMO",
        "colab_type": "code",
        "colab": {}
      },
      "source": [
        "# или AdaBoostClassifier\n",
        "from sklearn.ensemble import AdaBoostClassifier"
      ],
      "execution_count": 0,
      "outputs": []
    },
    {
      "cell_type": "code",
      "metadata": {
        "id": "DAKaw820nQQC",
        "colab_type": "code",
        "outputId": "82b5b16c-b033-4604-b03c-38ef3852cebc",
        "colab": {
          "base_uri": "https://localhost:8080/",
          "height": 105
        }
      },
      "source": [
        "pipeline = Pipeline(steps=[('vectorizer', CountVectorizer()), ('tf_idf', TfidfTransformer()), ('lsa', TruncatedSVD()), ('classifier', AdaBoostClassifier())], verbose=True)\n",
        "pipeline.fit(X_train, y_train)\n",
        "predictions = pipeline.predict(X_test)"
      ],
      "execution_count": 661,
      "outputs": [
        {
          "output_type": "stream",
          "text": [
            "[Pipeline] ........ (step 1 of 4) Processing vectorizer, total=   0.7s\n",
            "[Pipeline] ............ (step 2 of 4) Processing tf_idf, total=   0.1s\n",
            "[Pipeline] ............... (step 3 of 4) Processing lsa, total=   0.2s\n",
            "[Pipeline] ........ (step 4 of 4) Processing classifier, total=   0.3s\n"
          ],
          "name": "stdout"
        }
      ]
    },
    {
      "cell_type": "code",
      "metadata": {
        "id": "dfsXkZUQnU1L",
        "colab_type": "code",
        "outputId": "50d3d11f-310e-4873-c83c-f77b6c6a92c7",
        "colab": {
          "base_uri": "https://localhost:8080/",
          "height": 520
        }
      },
      "source": [
        "cm = confusion_matrix(y_test, predictions, labels)\n",
        "plot_cm(cm)\n",
        "print_metrics_from_cm(cm)"
      ],
      "execution_count": 662,
      "outputs": [
        {
          "output_type": "stream",
          "text": [
            "Mean Precision: 0.5800510420736522\n",
            "Mean Recall 0.5641154747794381\n",
            "Accuracy: 0.5625\n",
            "F1 score: 0.5719722858096892\n"
          ],
          "name": "stdout"
        },
        {
          "output_type": "display_data",
          "data": {
            "image/png": "[encoded data removed]",
            "text/plain": [
              "<Figure size 720x504 with 2 Axes>"
            ]
          },
          "metadata": {
            "tags": []
          }
        }
      ]
    },
    {
      "cell_type": "markdown",
      "metadata": {
        "id": "LKT2-la7gZf8",
        "colab_type": "text"
      },
      "source": [
        "Качестве лучше, чем у SGDClassifier-а, но по-прежнему оставляет желать лучшего (впрочем, случайный лес и другие выше используемые алгоритмы в принципе обчно хуже, чем SGD классификатор на sparce матрицах). Т.е. результаты ухудшились после добавления нового шага. Нет смысла терять информацию, понижая размерность, если в данной задаче хватает памяти, чтобы хранить sparse матрицы."
      ]
    },
    {
      "cell_type": "markdown",
      "metadata": {
        "colab_type": "text",
        "id": "7vVPaaVwPVwg"
      },
      "source": [
        "## Влияние лемматизации на качество работы алгоритмов\n",
        "Посмотрим, как влияет лемматизация на качество классификации, а также посмотрим, как изменится качество, если мы будем обучаться на n-граммах, где n > 1."
      ]
    },
    {
      "cell_type": "code",
      "metadata": {
        "id": "hULBHNKVqDdw",
        "colab_type": "code",
        "colab": {}
      },
      "source": [
        "# берём в качестве обучающей и тестовой выборок лемматизированные тексты\n",
        "X_train = X_train_full['lemmatized_text']\n",
        "X_test = X_test_full['lemmatized_text']"
      ],
      "execution_count": 0,
      "outputs": []
    },
    {
      "cell_type": "code",
      "metadata": {
        "id": "Qd-q086poC2h",
        "colab_type": "code",
        "outputId": "0c3a0244-9d50-4b3e-ffd6-cea8579f50ca",
        "colab": {
          "base_uri": "https://localhost:8080/",
          "height": 88
        }
      },
      "source": [
        "pipeline = Pipeline([('vectorizer', CountVectorizer()), ('tf_idf', TfidfTransformer()), ('classifier', SGDClassifier())], verbose=True)\n",
        "pipeline.fit(X_train, y_train)\n",
        "predictions = pipeline.predict(X_test)"
      ],
      "execution_count": 664,
      "outputs": [
        {
          "output_type": "stream",
          "text": [
            "[Pipeline] ........ (step 1 of 3) Processing vectorizer, total=   0.5s\n",
            "[Pipeline] ............ (step 2 of 3) Processing tf_idf, total=   0.0s\n",
            "[Pipeline] ........ (step 3 of 3) Processing classifier, total=   0.1s\n"
          ],
          "name": "stdout"
        }
      ]
    },
    {
      "cell_type": "code",
      "metadata": {
        "id": "_nmUbuQpoY8u",
        "colab_type": "code",
        "outputId": "ae39bb91-c5a9-4be9-9a16-cfbb76104ffb",
        "colab": {
          "base_uri": "https://localhost:8080/",
          "height": 520
        }
      },
      "source": [
        "cm = confusion_matrix(y_test, predictions, labels)\n",
        "plot_cm(cm)\n",
        "print_metrics_from_cm(cm)"
      ],
      "execution_count": 665,
      "outputs": [
        {
          "output_type": "stream",
          "text": [
            "Mean Precision: 0.7592933780177356\n",
            "Mean Recall 0.7593979753044926\n",
            "Accuracy: 0.7575\n",
            "F1 score: 0.7593456730591338\n"
          ],
          "name": "stdout"
        },
        {
          "output_type": "display_data",
          "data": {
            "image/png": "[encoded data removed]",
            "text/plain": [
              "<Figure size 720x504 with 2 Axes>"
            ]
          },
          "metadata": {
            "tags": []
          }
        }
      ]
    },
    {
      "cell_type": "code",
      "metadata": {
        "id": "UGpXE6taoZGP",
        "colab_type": "code",
        "outputId": "783e458b-450e-4745-f92d-c70869b53d3f",
        "colab": {
          "base_uri": "https://localhost:8080/",
          "height": 224
        }
      },
      "source": [
        "print(classification_report(y_test, predictions, labels))"
      ],
      "execution_count": 666,
      "outputs": [
        {
          "output_type": "stream",
          "text": [
            "                  precision    recall  f1-score   support\n",
            "\n",
            "Социальная сфера       0.64      0.64      0.64       211\n",
            "        Политика       0.75      0.75      0.75       189\n",
            "           Спорт       0.86      0.88      0.87       197\n",
            "        Общество       0.79      0.76      0.78       203\n",
            "\n",
            "        accuracy                           0.76       800\n",
            "       macro avg       0.76      0.76      0.76       800\n",
            "    weighted avg       0.76      0.76      0.76       800\n",
            "\n"
          ],
          "name": "stdout"
        }
      ]
    },
    {
      "cell_type": "markdown",
      "metadata": {
        "id": "gi6TXkGVovyS",
        "colab_type": "text"
      },
      "source": [
        "На лемматизированных текстах качество чуть просело (в среднем на 0.5%), хотя, возможно, это в пределах погрешности, т.е. на деле нет никакой разницы. Либо словоформы (, а не леммы) помогают в различении топиков. По цифрам в матрице ошибок всё не так однозначно, кое-где стало немного больше ошибок, кое-где наоборот немного меньше."
      ]
    },
    {
      "cell_type": "markdown",
      "metadata": {
        "id": "Oc_P5qLNptB-",
        "colab_type": "text"
      },
      "source": [
        "Попробуем использовать n-граммы с n<=5 и посмотрим на качество."
      ]
    },
    {
      "cell_type": "code",
      "metadata": {
        "id": "8I8Uj6XBpyvK",
        "colab_type": "code",
        "outputId": "c609e574-ea6a-4da5-8086-b7d97c1cb699",
        "colab": {
          "base_uri": "https://localhost:8080/",
          "height": 88
        }
      },
      "source": [
        "n = 5\n",
        "pipeline = Pipeline([('vectorizer', CountVectorizer(ngram_range=(1, n))), ('tf_idf', TfidfTransformer()), ('classifier', SGDClassifier())], verbose=True)\n",
        "pipeline.fit(X_train, y_train)\n",
        "predictions = pipeline.predict(X_test)"
      ],
      "execution_count": 667,
      "outputs": [
        {
          "output_type": "stream",
          "text": [
            "[Pipeline] ........ (step 1 of 3) Processing vectorizer, total=  10.4s\n",
            "[Pipeline] ............ (step 2 of 3) Processing tf_idf, total=   0.5s\n",
            "[Pipeline] ........ (step 3 of 3) Processing classifier, total=   1.1s\n"
          ],
          "name": "stdout"
        }
      ]
    },
    {
      "cell_type": "code",
      "metadata": {
        "id": "n-9yXZTtqUDI",
        "colab_type": "code",
        "outputId": "a1c4cfad-b251-43ef-be3b-fb9834e3dd0d",
        "colab": {
          "base_uri": "https://localhost:8080/",
          "height": 520
        }
      },
      "source": [
        "cm = confusion_matrix(y_test, predictions, labels)\n",
        "plot_cm(cm)\n",
        "print_metrics_from_cm(cm)"
      ],
      "execution_count": 668,
      "outputs": [
        {
          "output_type": "stream",
          "text": [
            "Mean Precision: 0.7764929599636311\n",
            "Mean Recall 0.7807028511817125\n",
            "Accuracy: 0.77625\n",
            "F1 score: 0.7785922148355335\n"
          ],
          "name": "stdout"
        },
        {
          "output_type": "display_data",
          "data": {
            "image/png": "[encoded data removed]",
            "text/plain": [
              "<Figure size 720x504 with 2 Axes>"
            ]
          },
          "metadata": {
            "tags": []
          }
        }
      ]
    },
    {
      "cell_type": "code",
      "metadata": {
        "id": "EkE-CJqtqUHQ",
        "colab_type": "code",
        "outputId": "645e38c1-eab1-442d-853f-c7e62bcf9c27",
        "colab": {
          "base_uri": "https://localhost:8080/",
          "height": 224
        }
      },
      "source": [
        "print(classification_report(y_test, predictions, labels))"
      ],
      "execution_count": 669,
      "outputs": [
        {
          "output_type": "stream",
          "text": [
            "                  precision    recall  f1-score   support\n",
            "\n",
            "Социальная сфера       0.72      0.58      0.64       211\n",
            "        Политика       0.72      0.86      0.79       189\n",
            "           Спорт       0.81      0.91      0.86       197\n",
            "        Общество       0.85      0.77      0.81       203\n",
            "\n",
            "        accuracy                           0.78       800\n",
            "       macro avg       0.78      0.78      0.77       800\n",
            "    weighted avg       0.78      0.78      0.77       800\n",
            "\n"
          ],
          "name": "stdout"
        }
      ]
    },
    {
      "cell_type": "markdown",
      "metadata": {
        "id": "Si3vPx19raEA",
        "colab_type": "text"
      },
      "source": [
        "Качество естественным образом улучшилось, хоть и незначительно (в среднем на 1.5%)"
      ]
    },
    {
      "cell_type": "markdown",
      "metadata": {
        "colab_type": "text",
        "id": "cdakRHahQp-l"
      },
      "source": [
        "## CBOW (Continuous bag of words)\n",
        "\n",
        "В Pipeline-е с baseline-ом мы использовали обычное представление текста в виде мешка слов (BOW). Попробуем использовать другие модели представления текста: СBOW (непрерывноый мешок слов (набора эмбеддингов)).\n",
        "\n",
        "Попробуем разные подходы к представлению документа:\n",
        "* усредняем все эмбеддинги слов, входящих в этот текст (довольно неточное представление)\n",
        "* усредняем все эмбеддинги слов, входящих в этот текст с $tf-idf$ весами (чуть точнее)\n",
        "* используем Doc2Vec из библиотеку gensim\n",
        "\n",
        "Качество оценим по тем же метрикам и аналогичным образом визуализируем."
      ]
    },
    {
      "cell_type": "markdown",
      "metadata": {
        "id": "ykUv9Dn3axb5",
        "colab_type": "text"
      },
      "source": [
        "Используем тексты без лемматизации, т.к. на них SGDClassifier показал себя лучше"
      ]
    },
    {
      "cell_type": "code",
      "metadata": {
        "id": "IzaIK0KzzC5h",
        "colab_type": "code",
        "colab": {}
      },
      "source": [
        "# training word2vec model\n",
        "from gensim.models import Word2Vec"
      ],
      "execution_count": 0,
      "outputs": []
    },
    {
      "cell_type": "code",
      "metadata": {
        "id": "DtfnVr8X0gW6",
        "colab_type": "code",
        "colab": {}
      },
      "source": [
        "size_of_embedding = 300\n",
        "corpus = df['lemmatized_words']"
      ],
      "execution_count": 0,
      "outputs": []
    },
    {
      "cell_type": "code",
      "metadata": {
        "id": "B9mcUoN10gZo",
        "colab_type": "code",
        "outputId": "310ed742-e55d-4c3a-f85f-709e94c645a1",
        "colab": {
          "base_uri": "https://localhost:8080/",
          "height": 76
        }
      },
      "source": [
        "# set parameters and seed\n",
        "model = Word2Vec(corpus, size=size_of_embedding, window=7, min_count=0, iter=10, workers=4, seed=21)\n",
        "model.wv.init_sims(replace=True) # save only normalized vectors\n",
        "model.save(\"word2vec.model\")"
      ],
      "execution_count": 740,
      "outputs": [
        {
          "output_type": "stream",
          "text": [
            "/usr/local/lib/python3.6/dist-packages/smart_open/smart_open_lib.py:398: UserWarning: This function is deprecated, use smart_open.open instead. See the migration notes for details: https://github.com/RaRe-Technologies/smart_open/blob/master/README.rst#migrating-to-the-new-open-function\n",
            "  'See the migration notes for details: %s' % _MIGRATION_NOTES_URL\n"
          ],
          "name": "stderr"
        }
      ]
    },
    {
      "cell_type": "code",
      "metadata": {
        "id": "x9ddb3yH0gcU",
        "colab_type": "code",
        "colab": {}
      },
      "source": [
        "word_vectors = model.wv"
      ],
      "execution_count": 0,
      "outputs": []
    },
    {
      "cell_type": "code",
      "metadata": {
        "id": "BwAq5yEbUIXV",
        "colab_type": "code",
        "colab": {}
      },
      "source": [
        "corpus_vectors = []\n",
        "for num_text, text in enumerate(corpus):\n",
        "    corpus_vectors.append([])\n",
        "    for word in text:\n",
        "        corpus_vectors[num_text].append(word_vectors[word])"
      ],
      "execution_count": 0,
      "outputs": []
    },
    {
      "cell_type": "code",
      "metadata": {
        "id": "HHkSNngbUIcu",
        "colab_type": "code",
        "colab": {}
      },
      "source": [
        "# усредним эмбеддинги всех слов, входящих в этот текст\n",
        "\n",
        "docs_vectors = np.zeros(shape=(len(corpus), size_of_embedding))\n",
        "for num_text in range(len(corpus)):\n",
        "    docs_vectors[num_text] = np.sum(corpus_vectors[num_text], axis=0) / len(corpus_vectors[num_text])"
      ],
      "execution_count": 0,
      "outputs": []
    },
    {
      "cell_type": "code",
      "metadata": {
        "id": "YDXsBPv9W7M_",
        "colab_type": "code",
        "outputId": "01fb6d69-4d1c-408c-9821-f13d9e0a3cb7",
        "colab": {
          "base_uri": "https://localhost:8080/",
          "height": 34
        }
      },
      "source": [
        "docs_vectors.shape"
      ],
      "execution_count": 744,
      "outputs": [
        {
          "output_type": "execute_result",
          "data": {
            "text/plain": [
              "(4000, 300)"
            ]
          },
          "metadata": {
            "tags": []
          },
          "execution_count": 744
        }
      ]
    },
    {
      "cell_type": "code",
      "metadata": {
        "id": "tLRUmfnEZkFV",
        "colab_type": "code",
        "colab": {}
      },
      "source": [
        "X_train, X_test, y_train, y_test = train_test_split(docs_vectors, df['source'], test_size=0.2, random_state=21)"
      ],
      "execution_count": 0,
      "outputs": []
    },
    {
      "cell_type": "code",
      "metadata": {
        "id": "BNx0UjEKW7PY",
        "colab_type": "code",
        "colab": {}
      },
      "source": [
        "clf = SGDClassifier().fit(X_train, y_train)"
      ],
      "execution_count": 0,
      "outputs": []
    },
    {
      "cell_type": "code",
      "metadata": {
        "id": "KMBdwhs9ZKOL",
        "colab_type": "code",
        "colab": {}
      },
      "source": [
        "predictions = clf.predict(X_test)"
      ],
      "execution_count": 0,
      "outputs": []
    },
    {
      "cell_type": "code",
      "metadata": {
        "id": "KWs9jF8uZKQt",
        "colab_type": "code",
        "outputId": "38bf545f-5f8f-4aa9-af8d-ef58514c5b37",
        "colab": {
          "base_uri": "https://localhost:8080/",
          "height": 500
        }
      },
      "source": [
        "cm = confusion_matrix(y_test, predictions, labels)\n",
        "plot_cm(cm)\n",
        "print_metrics_from_cm(cm)"
      ],
      "execution_count": 748,
      "outputs": [
        {
          "output_type": "stream",
          "text": [
            "Mean Precision: 0.7306596007858468\n",
            "Mean Recall 0.7277994337386611\n",
            "Accuracy: 0.725\n",
            "F1 score: 0.7292267127420912\n"
          ],
          "name": "stdout"
        },
        {
          "output_type": "display_data",
          "data": {
            "image/png": "[encoded data removed]",
            "text/plain": [
              "<Figure size 720x504 with 2 Axes>"
            ]
          },
          "metadata": {
            "tags": []
          }
        }
      ]
    },
    {
      "cell_type": "code",
      "metadata": {
        "id": "p91ZhJrTgtrx",
        "colab_type": "code",
        "outputId": "a6ffed38-b991-4018-d847-ec0ccce00239",
        "colab": {
          "base_uri": "https://localhost:8080/",
          "height": 204
        }
      },
      "source": [
        "print(classification_report(y_test, predictions, labels))"
      ],
      "execution_count": 751,
      "outputs": [
        {
          "output_type": "stream",
          "text": [
            "                  precision    recall  f1-score   support\n",
            "\n",
            "Социальная сфера       0.58      0.60      0.59       211\n",
            "        Политика       0.75      0.79      0.77       189\n",
            "           Спорт       0.79      0.79      0.79       197\n",
            "        Общество       0.81      0.73      0.77       203\n",
            "\n",
            "        accuracy                           0.73       800\n",
            "       macro avg       0.73      0.73      0.73       800\n",
            "    weighted avg       0.73      0.72      0.73       800\n",
            "\n"
          ],
          "name": "stdout"
        }
      ]
    },
    {
      "cell_type": "markdown",
      "metadata": {
        "id": "y-pfCPlrhDrL",
        "colab_type": "text"
      },
      "source": [
        "Качество хуже, чем у baseline в задании 3-м (на 5-10% от лучшего), поскольку среднее векторов документа (без весов, вернее, с одинаковыми весами == 1 / n, где n -- количество слов в документе) не является очень хорошим представлением документа. Ошибки по большей части те же."
      ]
    },
    {
      "cell_type": "code",
      "metadata": {
        "id": "TvT4bTVThumg",
        "colab_type": "code",
        "colab": {}
      },
      "source": [
        "# функция для подсчёта tf слов в документе\n",
        "def tfs(words):\n",
        "    tf = Counter(words)\n",
        "    return [tf[word] / len(words) for word in words]"
      ],
      "execution_count": 0,
      "outputs": []
    },
    {
      "cell_type": "code",
      "metadata": {
        "id": "4IbdWDIPhupA",
        "colab_type": "code",
        "colab": {}
      },
      "source": [
        "import math\n",
        "\n",
        "# функция для подсчёта idf слова в документе\n",
        "def idf(word, corpus):\n",
        "    return math.log10(len(corpus) / (1 + len([1 for text in corpus if word in text]))) # added 1 so that we don't divide by zero"
      ],
      "execution_count": 0,
      "outputs": []
    },
    {
      "cell_type": "code",
      "metadata": {
        "id": "3SNrz2gNgtvD",
        "colab_type": "code",
        "colab": {}
      },
      "source": [
        "# усредним все эмбеддинги слов, входящих в этот текст, с 𝑡𝑓−𝑖𝑑𝑓 весами\n",
        "\n",
        "# считает очень долго, поэтому отказываемся от \"ручного\" подсчёта tf-idf\n",
        "# docs_vectors = np.zeros(shape=(len(corpus), size_of_embedding))\n",
        "# for num_text, text in enumerate(corpus):\n",
        "#     print(num_text)\n",
        "#     term_frequencies = tfs(text)\n",
        "#     for num_word in range(len(term_frequencies)):\n",
        "#         tf_word = term_frequencies[num_word]\n",
        "#         idf_word = idf(corpus[num_text][num_word], corpus)\n",
        "#         docs_vectors[num_text] += tf_word * idf_word * corpus_vectors[num_text][num_word]"
      ],
      "execution_count": 0,
      "outputs": []
    },
    {
      "cell_type": "code",
      "metadata": {
        "id": "H-vra9TqjxRr",
        "colab_type": "code",
        "colab": {}
      },
      "source": [
        "# вместо этого используем TfidfVectorizer\n",
        "from sklearn.feature_extraction.text import TfidfVectorizer"
      ],
      "execution_count": 0,
      "outputs": []
    },
    {
      "cell_type": "code",
      "metadata": {
        "id": "HVbaZsYcvECD",
        "colab_type": "code",
        "colab": {}
      },
      "source": [
        "# используем тот же токенизатор, что и при подсчёте уникальных слов выше\n",
        "vectorizer = TfidfVectorizer(analyzer='word', tokenizer=word_tokenize)\n",
        "tfidf_matrix = vectorizer.fit_transform(df['lemmatized_text'])"
      ],
      "execution_count": 0,
      "outputs": []
    },
    {
      "cell_type": "code",
      "metadata": {
        "id": "L7sSVpxpvEKE",
        "colab_type": "code",
        "outputId": "ee86df8f-c74a-474b-99f2-99121bbf0bdf",
        "colab": {
          "base_uri": "https://localhost:8080/",
          "height": 34
        }
      },
      "source": [
        "tfidf_matrix.shape"
      ],
      "execution_count": 758,
      "outputs": [
        {
          "output_type": "execute_result",
          "data": {
            "text/plain": [
              "(4000, 37934)"
            ]
          },
          "metadata": {
            "tags": []
          },
          "execution_count": 758
        }
      ]
    },
    {
      "cell_type": "code",
      "metadata": {
        "id": "eu0Q70MZuaHT",
        "colab_type": "code",
        "colab": {}
      },
      "source": [
        "feature_names = vectorizer.get_feature_names()"
      ],
      "execution_count": 0,
      "outputs": []
    },
    {
      "cell_type": "code",
      "metadata": {
        "id": "CmBSoDbHucoT",
        "colab_type": "code",
        "outputId": "9394d380-399b-4239-e3ae-6a4d3e28b48b",
        "colab": {
          "base_uri": "https://localhost:8080/",
          "height": 34
        }
      },
      "source": [
        "# все слова сохранились, т.е. ошибок быть не должно\n",
        "'в' in feature_names"
      ],
      "execution_count": 760,
      "outputs": [
        {
          "output_type": "execute_result",
          "data": {
            "text/plain": [
              "True"
            ]
          },
          "metadata": {
            "tags": []
          },
          "execution_count": 760
        }
      ]
    },
    {
      "cell_type": "code",
      "metadata": {
        "id": "DXKNe4e-vvKx",
        "colab_type": "code",
        "colab": {}
      },
      "source": [
        "docs_vectors = np.zeros(shape=(len(corpus), size_of_embedding))\n",
        "for num_text in range(len(corpus)):\n",
        "    print(num_text)\n",
        "\n",
        "    # get not-null word indices (columns)\n",
        "    word_indices = tfidf_matrix[num_text, :].nonzero()[1]\n",
        "\n",
        "    for word_index, word in enumerate(corpus[num_text]):\n",
        "        try:\n",
        "            index = feature_names.index(word)\n",
        "        except ValueError: # some words like \"речь.\"\n",
        "            print(word)\n",
        "            continue\n",
        "        tf_idf = tfidf_matrix[num_text, index]\n",
        "        # считаем tf-idf взвешенное векторов слов в документе\n",
        "        docs_vectors[num_text] += corpus_vectors[num_text][word_index] * tf_idf\n",
        "\n",
        "# print(len([tfidf_matrix[doc, word_index] for word_index in word_indices]))"
      ],
      "execution_count": 0,
      "outputs": []
    },
    {
      "cell_type": "code",
      "metadata": {
        "id": "sdbVZt0faM-H",
        "colab_type": "code",
        "outputId": "a0105dda-fb33-4f87-a554-8464fa2a2d0b",
        "colab": {
          "base_uri": "https://localhost:8080/",
          "height": 34
        }
      },
      "source": [
        "docs_vectors.shape"
      ],
      "execution_count": 769,
      "outputs": [
        {
          "output_type": "execute_result",
          "data": {
            "text/plain": [
              "(4000, 300)"
            ]
          },
          "metadata": {
            "tags": []
          },
          "execution_count": 769
        }
      ]
    },
    {
      "cell_type": "code",
      "metadata": {
        "id": "24zaBgRKf4Sl",
        "colab_type": "code",
        "colab": {}
      },
      "source": [
        "X_train, X_test, y_train, y_test = train_test_split(docs_vectors, df['source'], test_size=0.2, random_state=21)"
      ],
      "execution_count": 0,
      "outputs": []
    },
    {
      "cell_type": "code",
      "metadata": {
        "id": "DIXMvTs6f4qG",
        "colab_type": "code",
        "colab": {}
      },
      "source": [
        "clf = SGDClassifier().fit(X_train, y_train)"
      ],
      "execution_count": 0,
      "outputs": []
    },
    {
      "cell_type": "code",
      "metadata": {
        "id": "xnj_zlGZf72L",
        "colab_type": "code",
        "colab": {}
      },
      "source": [
        "predictions = clf.predict(X_test)"
      ],
      "execution_count": 0,
      "outputs": []
    },
    {
      "cell_type": "code",
      "metadata": {
        "id": "b5-fzIfvf740",
        "colab_type": "code",
        "outputId": "a0a77080-1a8a-4092-ccd2-e4df99b71135",
        "colab": {
          "base_uri": "https://localhost:8080/",
          "height": 500
        }
      },
      "source": [
        "cm = confusion_matrix(y_test, predictions, labels)\n",
        "plot_cm(cm)\n",
        "print_metrics_from_cm(cm)"
      ],
      "execution_count": 773,
      "outputs": [
        {
          "output_type": "stream",
          "text": [
            "Mean Precision: 0.655066674874345\n",
            "Mean Recall 0.6594566726872858\n",
            "Accuracy: 0.65625\n",
            "F1 score: 0.6572543433363491\n"
          ],
          "name": "stdout"
        },
        {
          "output_type": "display_data",
          "data": {
            "image/png": "[encoded data removed]",
            "text/plain": [
              "<Figure size 720x504 with 2 Axes>"
            ]
          },
          "metadata": {
            "tags": []
          }
        }
      ]
    },
    {
      "cell_type": "code",
      "metadata": {
        "id": "rqp0xxRCf4sj",
        "colab_type": "code",
        "outputId": "368a4e7f-3f83-43f9-f083-05a7844e4ff3",
        "colab": {
          "base_uri": "https://localhost:8080/",
          "height": 204
        }
      },
      "source": [
        "print(classification_report(y_test, predictions, labels))"
      ],
      "execution_count": 774,
      "outputs": [
        {
          "output_type": "stream",
          "text": [
            "                  precision    recall  f1-score   support\n",
            "\n",
            "Социальная сфера       0.54      0.50      0.52       211\n",
            "        Политика       0.67      0.72      0.69       189\n",
            "           Спорт       0.72      0.73      0.73       197\n",
            "        Общество       0.69      0.69      0.69       203\n",
            "\n",
            "        accuracy                           0.66       800\n",
            "       macro avg       0.66      0.66      0.66       800\n",
            "    weighted avg       0.65      0.66      0.65       800\n",
            "\n"
          ],
          "name": "stdout"
        }
      ]
    },
    {
      "cell_type": "markdown",
      "metadata": {
        "id": "wN3ajtAagIV9",
        "colab_type": "text"
      },
      "source": [
        "Качество оставляет желать лучшего, хотя обычно tf-idf взвешивание даёт более точное представление вектора документа, но всё же оно далеко от идеала. Здесь ошибка наблюдаются практически в каждой паре."
      ]
    },
    {
      "cell_type": "code",
      "metadata": {
        "id": "t3hkY_00gAcL",
        "colab_type": "code",
        "colab": {}
      },
      "source": [
        "# использовать любую модель эмбеддинга документа.\n",
        "\n",
        "# используем Doc2Vec из библиотеки gensim\n",
        "from gensim.models.doc2vec import Doc2Vec, TaggedDocument "
      ],
      "execution_count": 0,
      "outputs": []
    },
    {
      "cell_type": "code",
      "metadata": {
        "id": "FQoFChB_gAeu",
        "colab_type": "code",
        "colab": {}
      },
      "source": [
        "# приводим к нужному формату документы\n",
        "docs = [TaggedDocument(words=df.loc[num_text, \"lemmatized_words\"], tags=[num_text]) for num_text in range(len(corpus))]"
      ],
      "execution_count": 0,
      "outputs": []
    },
    {
      "cell_type": "code",
      "metadata": {
        "id": "_BSYd2A-ndc5",
        "colab_type": "code",
        "colab": {}
      },
      "source": [
        "# dm == 0 => используем PV-DBOW (не сохраняем порядок)\n",
        "model = Doc2Vec(vector_size=size_of_embedding, window=300, min_count=1, workers=4)"
      ],
      "execution_count": 0,
      "outputs": []
    },
    {
      "cell_type": "code",
      "metadata": {
        "id": "lTibEYGAoSRz",
        "colab_type": "code",
        "colab": {}
      },
      "source": [
        "model.build_vocab(docs)"
      ],
      "execution_count": 0,
      "outputs": []
    },
    {
      "cell_type": "code",
      "metadata": {
        "id": "-J8cnH7nroED",
        "colab_type": "code",
        "colab": {
          "base_uri": "https://localhost:8080/",
          "height": 51
        },
        "outputId": "7f2c326a-e674-4648-80a3-542774362527"
      },
      "source": [
        "# обучаем только в течение 5 эпох, т.к. обучается долго\n",
        "for epoch in range(5):\n",
        "    print(epoch)\n",
        "    model.train(docs,\n",
        "                total_examples=model.corpus_count,\n",
        "                epochs=model.iter)"
      ],
      "execution_count": 779,
      "outputs": [
        {
          "output_type": "stream",
          "text": [
            "/usr/local/lib/python3.6/dist-packages/ipykernel_launcher.py:4: DeprecationWarning: Call to deprecated `iter` (Attribute will be removed in 4.0.0, use self.epochs instead).\n",
            "  after removing the cwd from sys.path.\n"
          ],
          "name": "stderr"
        }
      ]
    },
    {
      "cell_type": "code",
      "metadata": {
        "id": "r-MOD42KrsB4",
        "colab_type": "code",
        "outputId": "2a78f115-de42-432a-db48-7821388dbbc5",
        "colab": {
          "base_uri": "https://localhost:8080/",
          "height": 34
        }
      },
      "source": [
        "len(model.docvecs)"
      ],
      "execution_count": 780,
      "outputs": [
        {
          "output_type": "execute_result",
          "data": {
            "text/plain": [
              "4000"
            ]
          },
          "metadata": {
            "tags": []
          },
          "execution_count": 780
        }
      ]
    },
    {
      "cell_type": "code",
      "metadata": {
        "id": "IIke9ksZrsEl",
        "colab_type": "code",
        "colab": {}
      },
      "source": [
        "X_train, X_test, y_train, y_test = train_test_split(model.docvecs, df['source'], test_size=0.2, random_state=21)"
      ],
      "execution_count": 0,
      "outputs": []
    },
    {
      "cell_type": "code",
      "metadata": {
        "id": "wHNEF931wpgU",
        "colab_type": "code",
        "outputId": "a3ebc156-7823-4601-f525-2a5646bf79f7",
        "colab": {
          "base_uri": "https://localhost:8080/",
          "height": 500
        }
      },
      "source": [
        "clf = SGDClassifier().fit(X_train, y_train)\n",
        "predictions = clf.predict(X_test)\n",
        "cm = confusion_matrix(y_test, predictions, labels)\n",
        "plot_cm(cm)\n",
        "print_metrics_from_cm(cm)"
      ],
      "execution_count": 782,
      "outputs": [
        {
          "output_type": "stream",
          "text": [
            "Mean Precision: 0.24530661083846056\n",
            "Mean Recall 0.2471060530483498\n",
            "Accuracy: 0.245\n",
            "F1 score: 0.24620304405856364\n"
          ],
          "name": "stdout"
        },
        {
          "output_type": "display_data",
          "data": {
            "image/png": "[encoded data removed]",
            "text/plain": [
              "<Figure size 720x504 with 2 Axes>"
            ]
          },
          "metadata": {
            "tags": []
          }
        }
      ]
    },
    {
      "cell_type": "code",
      "metadata": {
        "id": "n_AqJg2Wwxxt",
        "colab_type": "code",
        "outputId": "b02737da-a233-4ba9-f1f8-1de3911f1ea6",
        "colab": {
          "base_uri": "https://localhost:8080/",
          "height": 204
        }
      },
      "source": [
        "print(classification_report(y_test, predictions, labels))"
      ],
      "execution_count": 783,
      "outputs": [
        {
          "output_type": "stream",
          "text": [
            "                  precision    recall  f1-score   support\n",
            "\n",
            "Социальная сфера       0.27      0.11      0.16       211\n",
            "        Политика       0.23      0.19      0.21       189\n",
            "           Спорт       0.26      0.48      0.33       197\n",
            "        Общество       0.23      0.20      0.21       203\n",
            "\n",
            "        accuracy                           0.24       800\n",
            "       macro avg       0.25      0.25      0.23       800\n",
            "    weighted avg       0.25      0.24      0.23       800\n",
            "\n"
          ],
          "name": "stdout"
        }
      ]
    },
    {
      "cell_type": "markdown",
      "metadata": {
        "id": "TKypAzwos9QF",
        "colab_type": "text"
      },
      "source": [
        "Как видно, подход с эмбеддингами не смог предоставить хорошего качества. На большем количестве эпох качество было бы лучше, но векторы обучаются очень долго, поэтому для демонстрации мы ограничились 5 эпохами. На 5 эпохах ошибок очень много: качество гораздо хуже, чем классификация по правилам."
      ]
    },
    {
      "cell_type": "markdown",
      "metadata": {
        "colab_type": "text",
        "id": "uyVQ5Gm7Qzcz"
      },
      "source": [
        "## fastText\n",
        "\n",
        "Используем ```fastText``` в режиме классификации. Оценим результаты классификации по стандартным мерам качества и проведём анализ ошибок (с визуализацией confusion matrix)."
      ]
    },
    {
      "cell_type": "code",
      "metadata": {
        "id": "Hb-txQonze18",
        "colab_type": "code",
        "outputId": "dab382b0-7e15-4823-fd8f-e52fbe2515a6",
        "colab": {
          "base_uri": "https://localhost:8080/",
          "height": 97
        }
      },
      "source": [
        "!pip install fasttext\n",
        "import fasttext"
      ],
      "execution_count": 869,
      "outputs": [
        {
          "output_type": "stream",
          "text": [
            "Requirement already satisfied: fasttext in /usr/local/lib/python3.6/dist-packages (0.8.3)\n",
            "Requirement already satisfied: future in /usr/local/lib/python3.6/dist-packages (from fasttext) (0.16.0)\n",
            "Requirement already satisfied: numpy>=1 in /usr/local/lib/python3.6/dist-packages (from fasttext) (1.16.4)\n"
          ],
          "name": "stdout"
        }
      ]
    },
    {
      "cell_type": "code",
      "metadata": {
        "id": "89YvCLU_3nqn",
        "colab_type": "code",
        "colab": {}
      },
      "source": [
        "X_train, X_test, y_train, y_test = train_test_split(df['lemmatized_text'], df['source'], test_size=0.2, random_state=21)"
      ],
      "execution_count": 0,
      "outputs": []
    },
    {
      "cell_type": "code",
      "metadata": {
        "id": "VT2PsrIlmzHX",
        "colab_type": "code",
        "colab": {
          "base_uri": "https://localhost:8080/",
          "height": 425
        },
        "outputId": "5bb24d57-2704-4b23-e81b-945ca56e03dc"
      },
      "source": [
        "df.head()"
      ],
      "execution_count": 871,
      "outputs": [
        {
          "output_type": "execute_result",
          "data": {
            "text/html": [
              "<div>\n",
              "<style scoped>\n",
              "    .dataframe tbody tr th:only-of-type {\n",
              "        vertical-align: middle;\n",
              "    }\n",
              "\n",
              "    .dataframe tbody tr th {\n",
              "        vertical-align: top;\n",
              "    }\n",
              "\n",
              "    .dataframe thead th {\n",
              "        text-align: right;\n",
              "    }\n",
              "</style>\n",
              "<table border=\"1\" class=\"dataframe\">\n",
              "  <thead>\n",
              "    <tr style=\"text-align: right;\">\n",
              "      <th></th>\n",
              "      <th>text</th>\n",
              "      <th>source</th>\n",
              "      <th>lowered_words</th>\n",
              "      <th>Parse</th>\n",
              "      <th>lemmatized_words</th>\n",
              "      <th>symbols_length</th>\n",
              "      <th>words_length</th>\n",
              "      <th>POS</th>\n",
              "      <th>lemmatized_text</th>\n",
              "      <th>lowered_words_two</th>\n",
              "      <th>lowered_texts_two</th>\n",
              "    </tr>\n",
              "  </thead>\n",
              "  <tbody>\n",
              "    <tr>\n",
              "      <th>0</th>\n",
              "      <td>Депутатами Собрания представителей внесены изм...</td>\n",
              "      <td>Социальная сфера</td>\n",
              "      <td>[депутатами, собрания, представителей, внесены...</td>\n",
              "      <td>[(депутатами, NOUN,anim,masc plur,ablt, депута...</td>\n",
              "      <td>[депутат, собрание, представитель, внести, изм...</td>\n",
              "      <td>694</td>\n",
              "      <td>74</td>\n",
              "      <td>[NOUN, NOUN, NOUN, PRTS, NOUN, NOUN, ADJF, NOU...</td>\n",
              "      <td>депутат собрание представитель внести изменени...</td>\n",
              "      <td>[депутатами, собрания, представителей, внесены...</td>\n",
              "      <td>депутатами собрания представителей внесены изм...</td>\n",
              "    </tr>\n",
              "    <tr>\n",
              "      <th>1</th>\n",
              "      <td>Торжественное мероприятие, посвященное 70-лети...</td>\n",
              "      <td>Социальная сфера</td>\n",
              "      <td>[торжественное, мероприятие, посвященное, 70-л...</td>\n",
              "      <td>[(торжественное, ADJF,Qual neut,sing,nomn, тор...</td>\n",
              "      <td>[торжественный, мероприятие, посвятить, 70-лет...</td>\n",
              "      <td>953</td>\n",
              "      <td>98</td>\n",
              "      <td>[ADJF, NOUN, PRTF, NOUN, NOUN, ADJF, ADJF, NOU...</td>\n",
              "      <td>торжественный мероприятие посвятить 70-летие п...</td>\n",
              "      <td>[торжественное, мероприятие, ,, посвященное, 7...</td>\n",
              "      <td>торжественное мероприятие , посвященное 70-лет...</td>\n",
              "    </tr>\n",
              "    <tr>\n",
              "      <th>2</th>\n",
              "      <td>В 2015 году 23 семьи улучшили свои жилищные ус...</td>\n",
              "      <td>Социальная сфера</td>\n",
              "      <td>[2015, году, 23, семьи, улучшили, свои, жилищн...</td>\n",
              "      <td>[(2015, NUMB,intg, 2015, 1.0, ((&lt;NumberAnalyze...</td>\n",
              "      <td>[2015, год, 23, семья, улучшить, свой, жилищны...</td>\n",
              "      <td>470</td>\n",
              "      <td>53</td>\n",
              "      <td>[None, NOUN, None, NOUN, VERB, ADJF, ADJF, NOU...</td>\n",
              "      <td>2015 год 23 семья улучшить свой жилищный услов...</td>\n",
              "      <td>[в, 2015, году, 23, семьи, улучшили, свои, жил...</td>\n",
              "      <td>в 2015 году 23 семьи улучшили свои жилищные ус...</td>\n",
              "    </tr>\n",
              "    <tr>\n",
              "      <th>3</th>\n",
              "      <td>Этого человека знают все жители района старшег...</td>\n",
              "      <td>Социальная сфера</td>\n",
              "      <td>[человека, знают, жители, района, старшего, по...</td>\n",
              "      <td>[(человека, NOUN,anim,masc sing,gent, человек,...</td>\n",
              "      <td>[человек, знать, житель, район, старший, покол...</td>\n",
              "      <td>1989</td>\n",
              "      <td>199</td>\n",
              "      <td>[NOUN, VERB, NOUN, NOUN, NOUN, NOUN, None, NOU...</td>\n",
              "      <td>человек знать житель район старший поколение 4...</td>\n",
              "      <td>[этого, человека, знают, все, жители, района, ...</td>\n",
              "      <td>этого человека знают все жители района старшег...</td>\n",
              "    </tr>\n",
              "    <tr>\n",
              "      <th>4</th>\n",
              "      <td>По сравнению с предыдущим годом в Мокшанском р...</td>\n",
              "      <td>Социальная сфера</td>\n",
              "      <td>[сравнению, предыдущим, годом, мокшанском, рай...</td>\n",
              "      <td>[(сравнению, NOUN,inan,neut sing,datv, сравнен...</td>\n",
              "      <td>[сравнение, предыдущий, год, мокшанский, район...</td>\n",
              "      <td>621</td>\n",
              "      <td>64</td>\n",
              "      <td>[NOUN, ADJF, NOUN, ADJF, NOUN, NOUN, ADJF, NOU...</td>\n",
              "      <td>сравнение предыдущий год мокшанский район коли...</td>\n",
              "      <td>[по, сравнению, с, предыдущим, годом, в, мокша...</td>\n",
              "      <td>по сравнению с предыдущим годом в мокшанском р...</td>\n",
              "    </tr>\n",
              "  </tbody>\n",
              "</table>\n",
              "</div>"
            ],
            "text/plain": [
              "                                                text  ...                                  lowered_texts_two\n",
              "0  Депутатами Собрания представителей внесены изм...  ...  депутатами собрания представителей внесены изм...\n",
              "1  Торжественное мероприятие, посвященное 70-лети...  ...  торжественное мероприятие , посвященное 70-лет...\n",
              "2  В 2015 году 23 семьи улучшили свои жилищные ус...  ...  в 2015 году 23 семьи улучшили свои жилищные ус...\n",
              "3  Этого человека знают все жители района старшег...  ...  этого человека знают все жители района старшег...\n",
              "4  По сравнению с предыдущим годом в Мокшанском р...  ...  по сравнению с предыдущим годом в мокшанском р...\n",
              "\n",
              "[5 rows x 11 columns]"
            ]
          },
          "metadata": {
            "tags": []
          },
          "execution_count": 871
        }
      ]
    },
    {
      "cell_type": "code",
      "metadata": {
        "id": "Jdu6WQVv3Jgw",
        "colab_type": "code",
        "colab": {}
      },
      "source": [
        "with open('train.txt', 'w', encoding='utf-8') as f:\n",
        "    for text, target in zip(X_train, y_train):\n",
        "        f.write(\"__label__\" + target.split()[0] + ' ' + text + '\\n')"
      ],
      "execution_count": 0,
      "outputs": []
    },
    {
      "cell_type": "code",
      "metadata": {
        "id": "QniW0WGT5TCe",
        "colab_type": "code",
        "colab": {}
      },
      "source": [
        "with open('test.txt', 'w', encoding='utf-8') as f:\n",
        "    for text, target in zip(X_test, y_test):\n",
        "        f.write(\"__label__\" + target.split()[0] + ' ' + text + '\\n')"
      ],
      "execution_count": 0,
      "outputs": []
    },
    {
      "cell_type": "code",
      "metadata": {
        "id": "d62-APEL449w",
        "colab_type": "code",
        "colab": {}
      },
      "source": [
        "classifier = fasttext.supervised('train.txt', 'model', label_prefix='__label__')"
      ],
      "execution_count": 0,
      "outputs": []
    },
    {
      "cell_type": "code",
      "metadata": {
        "id": "K_kT6dip5OMI",
        "colab_type": "code",
        "colab": {}
      },
      "source": [
        "result = classifier.test('test.txt')"
      ],
      "execution_count": 0,
      "outputs": []
    },
    {
      "cell_type": "code",
      "metadata": {
        "id": "yfEZIJ_u5OTl",
        "colab_type": "code",
        "outputId": "e368e28b-62de-4b9c-e1d1-a695fb318bb9",
        "colab": {
          "base_uri": "https://localhost:8080/",
          "height": 68
        }
      },
      "source": [
        "print('P@1:', result.precision)\n",
        "print('R@1:', result.recall)\n",
        "print('Number of examples:', result.nexamples)"
      ],
      "execution_count": 876,
      "outputs": [
        {
          "output_type": "stream",
          "text": [
            "P@1: 0.64125\n",
            "R@1: 0.64125\n",
            "Number of examples: 800\n"
          ],
          "name": "stdout"
        }
      ]
    },
    {
      "cell_type": "code",
      "metadata": {
        "id": "OkDceT6x5uTm",
        "colab_type": "code",
        "colab": {}
      },
      "source": [
        "predictions = [label[0] for label in classifier.predict(X_test)]"
      ],
      "execution_count": 0,
      "outputs": []
    },
    {
      "cell_type": "code",
      "metadata": {
        "id": "QvwFUttA5OZ_",
        "colab_type": "code",
        "outputId": "be9f0e52-e4b1-465e-e68b-7acdd9d04815",
        "colab": {
          "base_uri": "https://localhost:8080/",
          "height": 500
        }
      },
      "source": [
        "tmp_labels = labels[:]\n",
        "tmp_labels[0] = 'Социальная'\n",
        "tmp_y_test = y_test.replace(['Социальная сфера'], ['Социальная'])\n",
        "cm = confusion_matrix(tmp_y_test, predictions, tmp_labels)\n",
        "plot_cm(cm)\n",
        "print_metrics_from_cm(cm)"
      ],
      "execution_count": 886,
      "outputs": [
        {
          "output_type": "stream",
          "text": [
            "Mean Precision: 0.6816281010723398\n",
            "Mean Recall 0.6531852357231491\n",
            "Accuracy: 0.64125\n",
            "F1 score: 0.6671036310490114\n"
          ],
          "name": "stdout"
        },
        {
          "output_type": "display_data",
          "data": {
            "image/png": "[encoded data removed]",
            "text/plain": [
              "<Figure size 720x504 with 2 Axes>"
            ]
          },
          "metadata": {
            "tags": []
          }
        }
      ]
    },
    {
      "cell_type": "code",
      "metadata": {
        "id": "ACj8T_-64PFf",
        "colab_type": "code",
        "outputId": "65bffbba-b2c9-4576-f7ec-22a66254c900",
        "colab": {
          "base_uri": "https://localhost:8080/",
          "height": 204
        }
      },
      "source": [
        "print(classification_report(list(tmp_y_test), predictions, tmp_labels))"
      ],
      "execution_count": 887,
      "outputs": [
        {
          "output_type": "stream",
          "text": [
            "              precision    recall  f1-score   support\n",
            "\n",
            "  Социальная       0.78      0.03      0.06       211\n",
            "    Политика       0.57      0.85      0.69       189\n",
            "       Спорт       0.62      0.95      0.76       197\n",
            "    Общество       0.75      0.77      0.76       203\n",
            "\n",
            "    accuracy                           0.64       800\n",
            "   macro avg       0.68      0.65      0.57       800\n",
            "weighted avg       0.68      0.64      0.56       800\n",
            "\n"
          ],
          "name": "stdout"
        }
      ]
    },
    {
      "cell_type": "markdown",
      "metadata": {
        "id": "V0vtnPZ-6Uee",
        "colab_type": "text"
      },
      "source": [
        "Качество немного меньше, чем ранее (в среднем на 0.1 по метрикам).\n",
        "\n",
        "Здесь частотнее ошибка с атрибуцией 'Социальной сферы' к текстам с лейблом 'Политика'. Самыми разграниченными классами также (как и во многих случаях выше) является пара 'Спорт' и 'Политика'."
      ]
    },
    {
      "cell_type": "markdown",
      "metadata": {
        "id": "QU3M3osxRd1l",
        "colab_type": "text"
      },
      "source": [
        "## CNN\n",
        "\n",
        "Реализуем модель Kim et al (2014) для решения задачи классификации с помощью CNN. Аналогичным образом оценим результаты."
      ]
    },
    {
      "cell_type": "code",
      "metadata": {
        "id": "GG0OeOWT7wr0",
        "colab_type": "code",
        "outputId": "da0eea19-c133-4684-dead-b2cc0b5ba1b5",
        "colab": {
          "base_uri": "https://localhost:8080/",
          "height": 34
        }
      },
      "source": [
        "from keras.preprocessing.text import Tokenizer\n",
        "from sklearn.preprocessing import LabelEncoder\n",
        "\n",
        "from keras.layers import Embedding, Conv1D, MaxPooling1D, Flatten, Dense, Dropout\n",
        "from keras.models import Model, Sequential\n",
        "from keras.utils import np_utils\n",
        "\n",
        "import numpy as np\n",
        "\n",
        "np.random.seed(21) # for reproducibility"
      ],
      "execution_count": 888,
      "outputs": [
        {
          "output_type": "stream",
          "text": [
            "Using TensorFlow backend.\n"
          ],
          "name": "stderr"
        }
      ]
    },
    {
      "cell_type": "code",
      "metadata": {
        "id": "ZNEFysXfSx0-",
        "colab_type": "code",
        "colab": {}
      },
      "source": [
        "# set hyperparameters\n",
        "TEXT_LENGTH = 1800\n",
        "VOCABULARY_SIZE = 250000\n",
        "EMBEDDING_DIM = 300\n",
        "batch_size = 32\n",
        "nb_epoch = 50"
      ],
      "execution_count": 0,
      "outputs": []
    },
    {
      "cell_type": "code",
      "metadata": {
        "id": "mnHA5wePfaGw",
        "colab_type": "code",
        "colab": {}
      },
      "source": [
        "X_train, X_test, y_train, y_test = train_test_split(df['lemmatized_text'], df['source'], test_size=0.2, random_state=21)"
      ],
      "execution_count": 0,
      "outputs": []
    },
    {
      "cell_type": "code",
      "metadata": {
        "id": "KdYFZKgcUxoq",
        "colab_type": "code",
        "colab": {}
      },
      "source": [
        "# токенизируем и фитим на обучающих текстах\n",
        "tokenizer = Tokenizer(num_words=TEXT_LENGTH)\n",
        "tokenizer.fit_on_texts(X_train.values)"
      ],
      "execution_count": 0,
      "outputs": []
    },
    {
      "cell_type": "code",
      "metadata": {
        "id": "Q-8vU_AoeCYB",
        "colab_type": "code",
        "colab": {}
      },
      "source": [
        "# sequence --> matrix\n",
        "sequences = tokenizer.texts_to_sequences(X_train.values)\n",
        "X_train = tokenizer.sequences_to_matrix(sequences, mode='count')\n",
        "sequences = tokenizer.texts_to_sequences(X_test.values)\n",
        "X_test = tokenizer.sequences_to_matrix(sequences, mode='count')"
      ],
      "execution_count": 0,
      "outputs": []
    },
    {
      "cell_type": "code",
      "metadata": {
        "id": "bTs3NVUTeMKK",
        "colab_type": "code",
        "outputId": "91ccaefa-a968-41bd-bf34-037830a2dfe5",
        "colab": {
          "base_uri": "https://localhost:8080/",
          "height": 76
        }
      },
      "source": [
        "print('First seq:', sequences[0])\n",
        "print('First doc:', X_test[0])"
      ],
      "execution_count": 893,
      "outputs": [
        {
          "output_type": "stream",
          "text": [
            "First seq: [309, 319, 209, 387, 326, 8, 338, 79, 1719, 34, 152, 91, 846, 106, 43, 98, 1482, 772, 18, 633, 343, 1681, 140, 1308, 22, 327, 171, 62, 151, 22, 106, 98, 1791, 135, 18, 22, 19, 1525, 19, 1019, 68, 330, 171, 56, 11, 68, 315, 18, 961, 156, 522, 1102, 87, 3, 307, 338, 853, 569, 175, 27, 151, 105, 201, 1766, 318, 1719, 1011, 34, 43, 16, 110, 6, 2, 13, 1525, 394, 22, 259, 771, 37, 566]\n",
            "First doc: [0. 0. 1. ... 0. 0. 0.]\n"
          ],
          "name": "stdout"
        }
      ]
    },
    {
      "cell_type": "code",
      "metadata": {
        "id": "uhtSH5rXea4r",
        "colab_type": "code",
        "outputId": "1f804d56-dde0-4cc4-ffdc-3daaa0e67b4c",
        "colab": {
          "base_uri": "https://localhost:8080/",
          "height": 34
        }
      },
      "source": [
        "# one-hot кодируем целевую переменную, создавая LabelEncoder\n",
        "le = LabelEncoder()\n",
        "classes = y_train.unique()\n",
        "le.fit(classes)\n",
        "y_formatted_train = np_utils.to_categorical(le.transform(y_train), len(classes))\n",
        "y_formatted_test = np_utils.to_categorical(le.transform(y_test), len(classes))\n",
        "y_formatted_true = le.transform(y_test)\n",
        "print(y_formatted_train[0]) # example"
      ],
      "execution_count": 894,
      "outputs": [
        {
          "output_type": "stream",
          "text": [
            "[1. 0. 0. 0.]\n"
          ],
          "name": "stdout"
        }
      ]
    },
    {
      "cell_type": "code",
      "metadata": {
        "id": "j5HeP2-aQHVm",
        "colab_type": "code",
        "colab": {
          "base_uri": "https://localhost:8080/",
          "height": 348
        },
        "outputId": "8aef6d30-b299-403d-b8e5-0f9fbf037d7d"
      },
      "source": [
        "# Пробуем архитектуру\n",
        "model = Sequential()\n",
        "model.add(Embedding(VOCABULARY_SIZE,\n",
        "                    EMBEDDING_DIM,\n",
        "                    input_length=TEXT_LENGTH,\n",
        "                    trainable=True))\n",
        "model.add(Conv1D(128, len(classes), activation='relu'))\n",
        "model.add(MaxPooling1D())\n",
        "model.add(Dropout(0.2))\n",
        "model.add(Flatten())\n",
        "model.add(Dense(len(classes), activation='softmax'))\n",
        "# специфицирует метрику, алгоритм обновления параметров и функцию потерь\n",
        "model.compile(loss='categorical_crossentropy', optimizer='adam', metrics=['acc'])"
      ],
      "execution_count": 895,
      "outputs": [
        {
          "output_type": "stream",
          "text": [
            "WARNING: Logging before flag parsing goes to stderr.\n",
            "W0614 01:45:55.489413 140416733079424 deprecation_wrapper.py:119] From /usr/local/lib/python3.6/dist-packages/keras/backend/tensorflow_backend.py:74: The name tf.get_default_graph is deprecated. Please use tf.compat.v1.get_default_graph instead.\n",
            "\n",
            "W0614 01:45:55.561288 140416733079424 deprecation_wrapper.py:119] From /usr/local/lib/python3.6/dist-packages/keras/backend/tensorflow_backend.py:517: The name tf.placeholder is deprecated. Please use tf.compat.v1.placeholder instead.\n",
            "\n",
            "W0614 01:45:55.567755 140416733079424 deprecation_wrapper.py:119] From /usr/local/lib/python3.6/dist-packages/keras/backend/tensorflow_backend.py:4138: The name tf.random_uniform is deprecated. Please use tf.random.uniform instead.\n",
            "\n",
            "W0614 01:45:55.614580 140416733079424 deprecation_wrapper.py:119] From /usr/local/lib/python3.6/dist-packages/keras/backend/tensorflow_backend.py:3976: The name tf.nn.max_pool is deprecated. Please use tf.nn.max_pool2d instead.\n",
            "\n",
            "W0614 01:45:55.619884 140416733079424 deprecation_wrapper.py:119] From /usr/local/lib/python3.6/dist-packages/keras/backend/tensorflow_backend.py:133: The name tf.placeholder_with_default is deprecated. Please use tf.compat.v1.placeholder_with_default instead.\n",
            "\n",
            "W0614 01:45:55.629663 140416733079424 deprecation.py:506] From /usr/local/lib/python3.6/dist-packages/keras/backend/tensorflow_backend.py:3445: calling dropout (from tensorflow.python.ops.nn_ops) with keep_prob is deprecated and will be removed in a future version.\n",
            "Instructions for updating:\n",
            "Please use `rate` instead of `keep_prob`. Rate should be set to `rate = 1 - keep_prob`.\n",
            "W0614 01:45:55.665056 140416733079424 deprecation_wrapper.py:119] From /usr/local/lib/python3.6/dist-packages/keras/optimizers.py:790: The name tf.train.Optimizer is deprecated. Please use tf.compat.v1.train.Optimizer instead.\n",
            "\n",
            "W0614 01:45:55.686666 140416733079424 deprecation_wrapper.py:119] From /usr/local/lib/python3.6/dist-packages/keras/backend/tensorflow_backend.py:3295: The name tf.log is deprecated. Please use tf.math.log instead.\n",
            "\n"
          ],
          "name": "stderr"
        }
      ]
    },
    {
      "cell_type": "code",
      "metadata": {
        "id": "MbSSetIlP41N",
        "colab_type": "code",
        "outputId": "880e5a11-7d29-496e-b5ef-46085bd3aad8",
        "colab": {
          "base_uri": "https://localhost:8080/",
          "height": 340
        }
      },
      "source": [
        "model.summary()"
      ],
      "execution_count": 896,
      "outputs": [
        {
          "output_type": "stream",
          "text": [
            "_________________________________________________________________\n",
            "Layer (type)                 Output Shape              Param #   \n",
            "=================================================================\n",
            "embedding_1 (Embedding)      (None, 1800, 300)         75000000  \n",
            "_________________________________________________________________\n",
            "conv1d_1 (Conv1D)            (None, 1797, 128)         153728    \n",
            "_________________________________________________________________\n",
            "max_pooling1d_1 (MaxPooling1 (None, 898, 128)          0         \n",
            "_________________________________________________________________\n",
            "dropout_1 (Dropout)          (None, 898, 128)          0         \n",
            "_________________________________________________________________\n",
            "flatten_1 (Flatten)          (None, 114944)            0         \n",
            "_________________________________________________________________\n",
            "dense_1 (Dense)              (None, 4)                 459780    \n",
            "=================================================================\n",
            "Total params: 75,613,508\n",
            "Trainable params: 75,613,508\n",
            "Non-trainable params: 0\n",
            "_________________________________________________________________\n"
          ],
          "name": "stdout"
        }
      ]
    },
    {
      "cell_type": "code",
      "metadata": {
        "id": "rSl8OtD6P44i",
        "colab_type": "code",
        "outputId": "07a5ddee-ec19-475b-852b-dc4fd297927a",
        "colab": {
          "base_uri": "https://localhost:8080/",
          "height": 1822
        }
      },
      "source": [
        "model.fit(X_train, y_formatted_train, epochs=nb_epoch, batch_size=batch_size, validation_split=0.1)"
      ],
      "execution_count": 897,
      "outputs": [
        {
          "output_type": "stream",
          "text": [
            "W0614 01:46:10.020435 140416733079424 deprecation.py:323] From /usr/local/lib/python3.6/dist-packages/tensorflow/python/ops/math_grad.py:1250: add_dispatch_support.<locals>.wrapper (from tensorflow.python.ops.array_ops) is deprecated and will be removed in a future version.\n",
            "Instructions for updating:\n",
            "Use tf.where in 2.0, which has the same broadcast rule as np.where\n"
          ],
          "name": "stderr"
        },
        {
          "output_type": "stream",
          "text": [
            "Train on 2880 samples, validate on 320 samples\n",
            "Epoch 1/50\n",
            "2880/2880 [==============================] - 15s 5ms/step - loss: 0.9054 - acc: 0.6622 - val_loss: 0.6508 - val_acc: 0.7656\n",
            "Epoch 2/50\n",
            "2880/2880 [==============================] - 7s 2ms/step - loss: 0.4809 - acc: 0.8306 - val_loss: 0.7153 - val_acc: 0.7562\n",
            "Epoch 3/50\n",
            "2880/2880 [==============================] - 7s 2ms/step - loss: 0.2609 - acc: 0.9097 - val_loss: 0.9631 - val_acc: 0.7594\n",
            "Epoch 4/50\n",
            "2880/2880 [==============================] - 7s 2ms/step - loss: 0.1455 - acc: 0.9510 - val_loss: 1.2210 - val_acc: 0.7312\n",
            "Epoch 5/50\n",
            "2880/2880 [==============================] - 7s 2ms/step - loss: 0.0795 - acc: 0.9823 - val_loss: 1.5353 - val_acc: 0.7344\n",
            "Epoch 6/50\n",
            "2880/2880 [==============================] - 7s 2ms/step - loss: 0.0599 - acc: 0.9882 - val_loss: 1.7156 - val_acc: 0.7281\n",
            "Epoch 7/50\n",
            "2880/2880 [==============================] - 7s 2ms/step - loss: 0.0605 - acc: 0.9899 - val_loss: 1.7811 - val_acc: 0.7219\n",
            "Epoch 8/50\n",
            "2880/2880 [==============================] - 7s 2ms/step - loss: 0.0479 - acc: 0.9920 - val_loss: 1.7658 - val_acc: 0.7281\n",
            "Epoch 9/50\n",
            "2880/2880 [==============================] - 7s 2ms/step - loss: 0.0407 - acc: 0.9944 - val_loss: 1.9049 - val_acc: 0.7281\n",
            "Epoch 10/50\n",
            "2880/2880 [==============================] - 7s 2ms/step - loss: 0.0348 - acc: 0.9958 - val_loss: 1.8556 - val_acc: 0.7406\n",
            "Epoch 11/50\n",
            "2880/2880 [==============================] - 7s 2ms/step - loss: 0.0396 - acc: 0.9948 - val_loss: 1.7910 - val_acc: 0.7375\n",
            "Epoch 12/50\n",
            "2880/2880 [==============================] - 7s 2ms/step - loss: 0.0377 - acc: 0.9931 - val_loss: 1.8108 - val_acc: 0.7406\n",
            "Epoch 13/50\n",
            "2880/2880 [==============================] - 7s 2ms/step - loss: 0.0304 - acc: 0.9965 - val_loss: 1.9419 - val_acc: 0.7406\n",
            "Epoch 14/50\n",
            "2880/2880 [==============================] - 7s 2ms/step - loss: 0.0206 - acc: 0.9976 - val_loss: 2.0582 - val_acc: 0.7312\n",
            "Epoch 15/50\n",
            "2880/2880 [==============================] - 7s 2ms/step - loss: 0.0299 - acc: 0.9972 - val_loss: 2.1166 - val_acc: 0.7312\n",
            "Epoch 16/50\n",
            "2880/2880 [==============================] - 7s 2ms/step - loss: 0.0347 - acc: 0.9976 - val_loss: 2.0943 - val_acc: 0.7375\n",
            "Epoch 17/50\n",
            "2880/2880 [==============================] - 7s 2ms/step - loss: 0.0317 - acc: 0.9969 - val_loss: 2.0075 - val_acc: 0.7344\n",
            "Epoch 18/50\n",
            "2880/2880 [==============================] - 7s 2ms/step - loss: 0.0179 - acc: 0.9979 - val_loss: 2.1281 - val_acc: 0.7281\n",
            "Epoch 19/50\n",
            "2880/2880 [==============================] - 7s 2ms/step - loss: 0.0239 - acc: 0.9983 - val_loss: 2.0170 - val_acc: 0.7375\n",
            "Epoch 20/50\n",
            "2880/2880 [==============================] - 7s 2ms/step - loss: 0.0208 - acc: 0.9983 - val_loss: 1.9834 - val_acc: 0.7406\n",
            "Epoch 21/50\n",
            "2880/2880 [==============================] - 7s 2ms/step - loss: 0.0209 - acc: 0.9983 - val_loss: 2.0099 - val_acc: 0.7344\n",
            "Epoch 22/50\n",
            "2880/2880 [==============================] - 7s 2ms/step - loss: 0.0187 - acc: 0.9983 - val_loss: 1.9961 - val_acc: 0.7312\n",
            "Epoch 23/50\n",
            "2880/2880 [==============================] - 7s 2ms/step - loss: 0.0207 - acc: 0.9979 - val_loss: 2.0247 - val_acc: 0.7250\n",
            "Epoch 24/50\n",
            "2880/2880 [==============================] - 7s 2ms/step - loss: 0.0169 - acc: 0.9986 - val_loss: 2.0362 - val_acc: 0.7281\n",
            "Epoch 25/50\n",
            "2880/2880 [==============================] - 7s 2ms/step - loss: 0.0203 - acc: 0.9986 - val_loss: 1.9656 - val_acc: 0.7375\n",
            "Epoch 26/50\n",
            "2880/2880 [==============================] - 7s 2ms/step - loss: 0.0243 - acc: 0.9976 - val_loss: 1.8501 - val_acc: 0.7344\n",
            "Epoch 27/50\n",
            "2880/2880 [==============================] - 7s 2ms/step - loss: 0.0183 - acc: 0.9976 - val_loss: 1.8141 - val_acc: 0.7438\n",
            "Epoch 28/50\n",
            "2880/2880 [==============================] - 7s 2ms/step - loss: 0.0244 - acc: 0.9972 - val_loss: 1.9322 - val_acc: 0.7438\n",
            "Epoch 29/50\n",
            "2880/2880 [==============================] - 7s 2ms/step - loss: 0.0280 - acc: 0.9969 - val_loss: 1.9540 - val_acc: 0.7281\n",
            "Epoch 30/50\n",
            "2880/2880 [==============================] - 7s 2ms/step - loss: 0.0419 - acc: 0.9927 - val_loss: 1.8484 - val_acc: 0.7438\n",
            "Epoch 31/50\n",
            "2880/2880 [==============================] - 7s 2ms/step - loss: 0.0744 - acc: 0.9837 - val_loss: 2.1554 - val_acc: 0.7219\n",
            "Epoch 32/50\n",
            "2880/2880 [==============================] - 7s 2ms/step - loss: 0.0666 - acc: 0.9781 - val_loss: 2.0182 - val_acc: 0.7250\n",
            "Epoch 33/50\n",
            "2880/2880 [==============================] - 7s 2ms/step - loss: 0.0703 - acc: 0.9795 - val_loss: 2.0891 - val_acc: 0.7188\n",
            "Epoch 34/50\n",
            "2880/2880 [==============================] - 7s 2ms/step - loss: 0.0481 - acc: 0.9892 - val_loss: 2.1845 - val_acc: 0.7312\n",
            "Epoch 35/50\n",
            "2880/2880 [==============================] - 7s 2ms/step - loss: 0.0198 - acc: 0.9976 - val_loss: 2.1819 - val_acc: 0.7375\n",
            "Epoch 36/50\n",
            "2880/2880 [==============================] - 7s 2ms/step - loss: 0.0196 - acc: 0.9972 - val_loss: 2.2783 - val_acc: 0.7344\n",
            "Epoch 37/50\n",
            "2880/2880 [==============================] - 7s 2ms/step - loss: 0.0138 - acc: 0.9979 - val_loss: 2.3209 - val_acc: 0.7406\n",
            "Epoch 38/50\n",
            "2880/2880 [==============================] - 7s 2ms/step - loss: 0.0234 - acc: 0.9972 - val_loss: 2.1954 - val_acc: 0.7500\n",
            "Epoch 39/50\n",
            "2880/2880 [==============================] - 7s 2ms/step - loss: 0.0160 - acc: 0.9983 - val_loss: 2.3703 - val_acc: 0.7438\n",
            "Epoch 40/50\n",
            "2880/2880 [==============================] - 7s 2ms/step - loss: 0.0170 - acc: 0.9986 - val_loss: 2.3074 - val_acc: 0.7312\n",
            "Epoch 41/50\n",
            "2880/2880 [==============================] - 7s 2ms/step - loss: 0.0210 - acc: 0.9972 - val_loss: 2.1439 - val_acc: 0.7469\n",
            "Epoch 42/50\n",
            "2880/2880 [==============================] - 7s 2ms/step - loss: 0.0135 - acc: 0.9986 - val_loss: 2.1667 - val_acc: 0.7438\n",
            "Epoch 43/50\n",
            "2880/2880 [==============================] - 7s 2ms/step - loss: 0.0131 - acc: 0.9990 - val_loss: 2.1423 - val_acc: 0.7375\n",
            "Epoch 44/50\n",
            "2880/2880 [==============================] - 7s 2ms/step - loss: 0.0150 - acc: 0.9986 - val_loss: 2.0775 - val_acc: 0.7406\n",
            "Epoch 45/50\n",
            "2880/2880 [==============================] - 7s 2ms/step - loss: 0.0112 - acc: 0.9990 - val_loss: 2.1512 - val_acc: 0.7469\n",
            "Epoch 46/50\n",
            "2880/2880 [==============================] - 7s 2ms/step - loss: 0.0135 - acc: 0.9990 - val_loss: 2.0990 - val_acc: 0.7406\n",
            "Epoch 47/50\n",
            "2880/2880 [==============================] - 7s 2ms/step - loss: 0.0149 - acc: 0.9983 - val_loss: 2.1334 - val_acc: 0.7438\n",
            "Epoch 48/50\n",
            "2880/2880 [==============================] - 7s 2ms/step - loss: 0.0091 - acc: 0.9990 - val_loss: 2.2476 - val_acc: 0.7438\n",
            "Epoch 49/50\n",
            "2880/2880 [==============================] - 7s 2ms/step - loss: 0.0150 - acc: 0.9983 - val_loss: 2.0884 - val_acc: 0.7469\n",
            "Epoch 50/50\n",
            "2880/2880 [==============================] - 7s 2ms/step - loss: 0.0137 - acc: 0.9979 - val_loss: 2.1524 - val_acc: 0.7344\n"
          ],
          "name": "stdout"
        },
        {
          "output_type": "execute_result",
          "data": {
            "text/plain": [
              "<keras.callbacks.History at 0x7fb45ca76a20>"
            ]
          },
          "metadata": {
            "tags": []
          },
          "execution_count": 897
        }
      ]
    },
    {
      "cell_type": "code",
      "metadata": {
        "id": "0eotfYSLRCub",
        "colab_type": "code",
        "colab": {}
      },
      "source": [
        "y_pred = model.predict_classes(X_test)\n",
        "predictions = le.inverse_transform(y_pred)"
      ],
      "execution_count": 0,
      "outputs": []
    },
    {
      "cell_type": "code",
      "metadata": {
        "id": "ny78yajGRCqt",
        "colab_type": "code",
        "outputId": "f99aa8fb-9d2e-47f9-8a0b-aa853935dcb0",
        "colab": {
          "base_uri": "https://localhost:8080/",
          "height": 500
        }
      },
      "source": [
        "cm = confusion_matrix(y_test, predictions, classes)\n",
        "plot_cm(cm)\n",
        "print_metrics_from_cm(cm)"
      ],
      "execution_count": 899,
      "outputs": [
        {
          "output_type": "stream",
          "text": [
            "Mean Precision: 0.7206244284516901\n",
            "Mean Recall 0.7203840310708491\n",
            "Accuracy: 0.71875\n",
            "F1 score: 0.7205042097090276\n"
          ],
          "name": "stdout"
        },
        {
          "output_type": "display_data",
          "data": {
            "image/png": "[encoded data removed]",
            "text/plain": [
              "<Figure size 720x504 with 2 Axes>"
            ]
          },
          "metadata": {
            "tags": []
          }
        }
      ]
    },
    {
      "cell_type": "code",
      "metadata": {
        "id": "j3Z8LuRElaD8",
        "colab_type": "code",
        "outputId": "5f4f6ea0-aa85-4138-9c16-90fed6d6e2ab",
        "colab": {
          "base_uri": "https://localhost:8080/",
          "height": 204
        }
      },
      "source": [
        "print(classification_report(y_test, predictions, classes))"
      ],
      "execution_count": 900,
      "outputs": [
        {
          "output_type": "stream",
          "text": [
            "                  precision    recall  f1-score   support\n",
            "\n",
            "        Общество       0.75      0.75      0.75       203\n",
            "        Политика       0.71      0.69      0.70       189\n",
            "           Спорт       0.83      0.84      0.83       197\n",
            "Социальная сфера       0.59      0.60      0.59       211\n",
            "\n",
            "        accuracy                           0.72       800\n",
            "       macro avg       0.72      0.72      0.72       800\n",
            "    weighted avg       0.72      0.72      0.72       800\n",
            "\n"
          ],
          "name": "stdout"
        }
      ]
    },
    {
      "cell_type": "markdown",
      "metadata": {
        "id": "WPoHrPydpqvO",
        "colab_type": "text"
      },
      "source": [
        "Судя по метрикам на валидирующей выборке, качество не увеличивается (нестабильно, скачет туда-сюда) на протяжении многих эпох, поэтому достаточно было меньшего количества эпох. Также, по-видимому, архитектура подобрана не самым удачным образом, поэтому попробуем её поменять, обучить на 10 эпохах и посмотреть на качество."
      ]
    },
    {
      "cell_type": "code",
      "metadata": {
        "id": "2ORnSFH1pp0Y",
        "colab_type": "code",
        "colab": {}
      },
      "source": [
        "nb_epoch = 10"
      ],
      "execution_count": 0,
      "outputs": []
    },
    {
      "cell_type": "code",
      "metadata": {
        "id": "ZNx9jgY8pp4n",
        "colab_type": "code",
        "colab": {}
      },
      "source": [
        "# удалил dropout, поскольку, на мой взгляд, нет смысла выбрасывать ценную информацию в данной задаче\n",
        "model = Sequential()\n",
        "model.add(Embedding(VOCABULARY_SIZE,\n",
        "                    EMBEDDING_DIM,\n",
        "                    input_length=TEXT_LENGTH,\n",
        "                    trainable=True))\n",
        "model.add(Conv1D(512, len(classes), activation='relu'))\n",
        "model.add(MaxPooling1D())\n",
        "model.add(Conv1D(256, len(classes), activation='relu'))\n",
        "model.add(Flatten())\n",
        "model.add(Dense(len(classes), activation='softmax'))\n",
        "model.compile(loss='categorical_crossentropy', optimizer='adam', metrics=['acc'])"
      ],
      "execution_count": 0,
      "outputs": []
    },
    {
      "cell_type": "code",
      "metadata": {
        "id": "vr2lHKxQqMFh",
        "colab_type": "code",
        "outputId": "08008d96-b954-4857-9e35-af41e7ee642e",
        "colab": {
          "base_uri": "https://localhost:8080/",
          "height": 340
        }
      },
      "source": [
        "model.summary()"
      ],
      "execution_count": 903,
      "outputs": [
        {
          "output_type": "stream",
          "text": [
            "_________________________________________________________________\n",
            "Layer (type)                 Output Shape              Param #   \n",
            "=================================================================\n",
            "embedding_2 (Embedding)      (None, 1800, 300)         75000000  \n",
            "_________________________________________________________________\n",
            "conv1d_2 (Conv1D)            (None, 1797, 512)         614912    \n",
            "_________________________________________________________________\n",
            "max_pooling1d_2 (MaxPooling1 (None, 898, 512)          0         \n",
            "_________________________________________________________________\n",
            "conv1d_3 (Conv1D)            (None, 895, 256)          524544    \n",
            "_________________________________________________________________\n",
            "flatten_2 (Flatten)          (None, 229120)            0         \n",
            "_________________________________________________________________\n",
            "dense_2 (Dense)              (None, 4)                 916484    \n",
            "=================================================================\n",
            "Total params: 77,055,940\n",
            "Trainable params: 77,055,940\n",
            "Non-trainable params: 0\n",
            "_________________________________________________________________\n"
          ],
          "name": "stdout"
        }
      ]
    },
    {
      "cell_type": "code",
      "metadata": {
        "id": "W3FncK-tqMCG",
        "colab_type": "code",
        "outputId": "108977e1-1058-47a3-803c-d330b14638f3",
        "colab": {
          "base_uri": "https://localhost:8080/",
          "height": 391
        }
      },
      "source": [
        "model.fit(X_train, y_formatted_train, epochs=nb_epoch, batch_size=batch_size, validation_split=0.1)"
      ],
      "execution_count": 904,
      "outputs": [
        {
          "output_type": "stream",
          "text": [
            "Train on 2880 samples, validate on 320 samples\n",
            "Epoch 1/10\n",
            "2880/2880 [==============================] - 16s 6ms/step - loss: 1.0032 - acc: 0.5872 - val_loss: 0.6802 - val_acc: 0.7625\n",
            "Epoch 2/10\n",
            "2880/2880 [==============================] - 14s 5ms/step - loss: 0.5383 - acc: 0.8090 - val_loss: 0.6883 - val_acc: 0.7531\n",
            "Epoch 3/10\n",
            "2880/2880 [==============================] - 14s 5ms/step - loss: 0.3048 - acc: 0.8986 - val_loss: 0.8134 - val_acc: 0.7312\n",
            "Epoch 4/10\n",
            "2880/2880 [==============================] - 14s 5ms/step - loss: 0.1421 - acc: 0.9559 - val_loss: 1.2884 - val_acc: 0.7219\n",
            "Epoch 5/10\n",
            "2880/2880 [==============================] - 14s 5ms/step - loss: 0.0754 - acc: 0.9837 - val_loss: 1.8197 - val_acc: 0.7375\n",
            "Epoch 6/10\n",
            "2880/2880 [==============================] - 14s 5ms/step - loss: 0.0527 - acc: 0.9906 - val_loss: 1.4647 - val_acc: 0.7406\n",
            "Epoch 7/10\n",
            "2880/2880 [==============================] - 14s 5ms/step - loss: 0.0412 - acc: 0.9951 - val_loss: 2.0253 - val_acc: 0.7312\n",
            "Epoch 8/10\n",
            "2880/2880 [==============================] - 14s 5ms/step - loss: 0.0407 - acc: 0.9955 - val_loss: 1.8206 - val_acc: 0.7438\n",
            "Epoch 9/10\n",
            "2880/2880 [==============================] - 14s 5ms/step - loss: 0.0359 - acc: 0.9972 - val_loss: 1.7450 - val_acc: 0.7469\n",
            "Epoch 10/10\n",
            "2880/2880 [==============================] - 14s 5ms/step - loss: 0.0330 - acc: 0.9958 - val_loss: 1.8333 - val_acc: 0.7406\n"
          ],
          "name": "stdout"
        },
        {
          "output_type": "execute_result",
          "data": {
            "text/plain": [
              "<keras.callbacks.History at 0x7fb47e702da0>"
            ]
          },
          "metadata": {
            "tags": []
          },
          "execution_count": 904
        }
      ]
    },
    {
      "cell_type": "code",
      "metadata": {
        "id": "2FoHaH0-qUqG",
        "colab_type": "code",
        "colab": {}
      },
      "source": [
        "y_pred = model.predict_classes(X_test)\n",
        "predictions = le.inverse_transform(y_pred)"
      ],
      "execution_count": 0,
      "outputs": []
    },
    {
      "cell_type": "code",
      "metadata": {
        "id": "06OsTKqNqVk6",
        "colab_type": "code",
        "outputId": "a837b560-9a58-4b02-a1dc-799b48db1d67",
        "colab": {
          "base_uri": "https://localhost:8080/",
          "height": 500
        }
      },
      "source": [
        "cm = confusion_matrix(y_test, predictions, classes)\n",
        "plot_cm(cm)\n",
        "print_metrics_from_cm(cm)"
      ],
      "execution_count": 906,
      "outputs": [
        {
          "output_type": "stream",
          "text": [
            "Mean Precision: 0.734291206465203\n",
            "Mean Recall 0.7312759092930367\n",
            "Accuracy: 0.73\n",
            "F1 score: 0.7327804560023996\n"
          ],
          "name": "stdout"
        },
        {
          "output_type": "display_data",
          "data": {
            "image/png": "[encoded data removed]",
            "text/plain": [
              "<Figure size 720x504 with 2 Axes>"
            ]
          },
          "metadata": {
            "tags": []
          }
        }
      ]
    },
    {
      "cell_type": "markdown",
      "metadata": {
        "id": "_UdmX8ujteW3",
        "colab_type": "text"
      },
      "source": [
        "Качество чуть получше, чем на предыдущей архитектуре, но всё равно далеко от baseline-а. Возможно, на лучше подобранной архитектуре и на большем количестве эпох качество было бы получше."
      ]
    },
    {
      "cell_type": "markdown",
      "metadata": {
        "id": "Ska_dOzcFv5f",
        "colab_type": "text"
      },
      "source": [
        "Попобуем ещё следующую архитектуру:"
      ]
    },
    {
      "cell_type": "code",
      "metadata": {
        "id": "QHNZ6BV6vcl6",
        "colab_type": "code",
        "colab": {}
      },
      "source": [
        "model = Sequential()\n",
        "model.add(Embedding(VOCABULARY_SIZE,\n",
        "                    EMBEDDING_DIM,\n",
        "                    input_length=TEXT_LENGTH,\n",
        "                    trainable=True))\n",
        "\n",
        "model.add(Conv1D(512, len(classes), activation='relu'))\n",
        "model.add(Conv1D(256, len(classes), activation='relu'))\n",
        "model.add(MaxPooling1D())\n",
        "model.add(Dense(128, activation='relu'))\n",
        "model.add(Dense(64, activation='relu'))\n",
        "model.add(Flatten())\n",
        "model.add(Dense(len(classes), activation='softmax'))\n",
        "\n",
        "model.compile(optimizer='adam', loss='binary_crossentropy', metrics=['acc'])\n",
        "model.compile(loss='categorical_crossentropy', optimizer='adam', metrics=['accuracy'])"
      ],
      "execution_count": 0,
      "outputs": []
    },
    {
      "cell_type": "code",
      "metadata": {
        "id": "fbFA8ZT6vdch",
        "colab_type": "code",
        "outputId": "75102024-646a-4d32-fe12-a5ac51a02bd7",
        "colab": {
          "base_uri": "https://localhost:8080/",
          "height": 408
        }
      },
      "source": [
        "model.summary()"
      ],
      "execution_count": 908,
      "outputs": [
        {
          "output_type": "stream",
          "text": [
            "_________________________________________________________________\n",
            "Layer (type)                 Output Shape              Param #   \n",
            "=================================================================\n",
            "embedding_3 (Embedding)      (None, 1800, 300)         75000000  \n",
            "_________________________________________________________________\n",
            "conv1d_4 (Conv1D)            (None, 1797, 512)         614912    \n",
            "_________________________________________________________________\n",
            "conv1d_5 (Conv1D)            (None, 1794, 256)         524544    \n",
            "_________________________________________________________________\n",
            "max_pooling1d_3 (MaxPooling1 (None, 897, 256)          0         \n",
            "_________________________________________________________________\n",
            "dense_3 (Dense)              (None, 897, 128)          32896     \n",
            "_________________________________________________________________\n",
            "dense_4 (Dense)              (None, 897, 64)           8256      \n",
            "_________________________________________________________________\n",
            "flatten_3 (Flatten)          (None, 57408)             0         \n",
            "_________________________________________________________________\n",
            "dense_5 (Dense)              (None, 4)                 229636    \n",
            "=================================================================\n",
            "Total params: 76,410,244\n",
            "Trainable params: 76,410,244\n",
            "Non-trainable params: 0\n",
            "_________________________________________________________________\n"
          ],
          "name": "stdout"
        }
      ]
    },
    {
      "cell_type": "code",
      "metadata": {
        "id": "oJMPBe8Lvlxf",
        "colab_type": "code",
        "outputId": "62ddef27-2897-49fc-f88d-ee0211c07eea",
        "colab": {
          "base_uri": "https://localhost:8080/",
          "height": 391
        }
      },
      "source": [
        "model.fit(X_train, y_formatted_train, epochs=nb_epoch, batch_size=batch_size, validation_split=0.1)"
      ],
      "execution_count": 909,
      "outputs": [
        {
          "output_type": "stream",
          "text": [
            "Train on 2880 samples, validate on 320 samples\n",
            "Epoch 1/10\n",
            "2880/2880 [==============================] - 18s 6ms/step - loss: 1.1227 - acc: 0.4899 - val_loss: 0.7494 - val_acc: 0.7344\n",
            "Epoch 2/10\n",
            "2880/2880 [==============================] - 16s 5ms/step - loss: 0.5822 - acc: 0.7993 - val_loss: 0.6883 - val_acc: 0.7781\n",
            "Epoch 3/10\n",
            "2880/2880 [==============================] - 16s 6ms/step - loss: 0.3295 - acc: 0.8934 - val_loss: 0.7682 - val_acc: 0.7500\n",
            "Epoch 4/10\n",
            "2880/2880 [==============================] - 16s 5ms/step - loss: 0.1398 - acc: 0.9542 - val_loss: 1.4773 - val_acc: 0.7219\n",
            "Epoch 5/10\n",
            "2880/2880 [==============================] - 16s 5ms/step - loss: 0.0910 - acc: 0.9767 - val_loss: 1.6440 - val_acc: 0.7406\n",
            "Epoch 6/10\n",
            "2880/2880 [==============================] - 16s 5ms/step - loss: 0.0612 - acc: 0.9878 - val_loss: 1.4847 - val_acc: 0.7406\n",
            "Epoch 7/10\n",
            "2880/2880 [==============================] - 15s 5ms/step - loss: 0.0641 - acc: 0.9896 - val_loss: 1.7203 - val_acc: 0.7375\n",
            "Epoch 8/10\n",
            "2880/2880 [==============================] - 16s 5ms/step - loss: 0.0360 - acc: 0.9941 - val_loss: 1.6634 - val_acc: 0.7406\n",
            "Epoch 9/10\n",
            "2880/2880 [==============================] - 16s 5ms/step - loss: 0.0259 - acc: 0.9965 - val_loss: 1.4369 - val_acc: 0.7312\n",
            "Epoch 10/10\n",
            "2880/2880 [==============================] - 16s 5ms/step - loss: 0.0294 - acc: 0.9969 - val_loss: 1.4948 - val_acc: 0.7406\n"
          ],
          "name": "stdout"
        },
        {
          "output_type": "execute_result",
          "data": {
            "text/plain": [
              "<keras.callbacks.History at 0x7fb45c6bff60>"
            ]
          },
          "metadata": {
            "tags": []
          },
          "execution_count": 909
        }
      ]
    },
    {
      "cell_type": "code",
      "metadata": {
        "id": "1W0gOnDsvl1T",
        "colab_type": "code",
        "colab": {}
      },
      "source": [
        "y_pred = model.predict_classes(X_test)\n",
        "predictions = le.inverse_transform(y_pred)"
      ],
      "execution_count": 0,
      "outputs": []
    },
    {
      "cell_type": "code",
      "metadata": {
        "id": "_xQqtF6_vl7a",
        "colab_type": "code",
        "outputId": "3c6da198-e2ef-40ab-db65-b48b41f17937",
        "colab": {
          "base_uri": "https://localhost:8080/",
          "height": 500
        }
      },
      "source": [
        "cm = confusion_matrix(y_test, predictions, classes)\n",
        "plot_cm(cm)\n",
        "print_metrics_from_cm(cm)"
      ],
      "execution_count": 911,
      "outputs": [
        {
          "output_type": "stream",
          "text": [
            "Mean Precision: 0.7291582559965918\n",
            "Mean Recall 0.7280822130476988\n",
            "Accuracy: 0.72625\n",
            "F1 score: 0.7286198372409647\n"
          ],
          "name": "stdout"
        },
        {
          "output_type": "display_data",
          "data": {
            "image/png": "[encoded data removed]",
            "text/plain": [
              "<Figure size 720x504 with 2 Axes>"
            ]
          },
          "metadata": {
            "tags": []
          }
        }
      ]
    },
    {
      "cell_type": "markdown",
      "metadata": {
        "id": "srAPqF_LxTnM",
        "colab_type": "text"
      },
      "source": [
        "Здесь качество упало. Самой частотной парой является, как ни странно, пара \"mospolice\" - \"mil\", хотя на методах без использования нейросетей именно в ней реже всего ошибались модели, т.е. это в очередной раз свидетельствует о сильно отличающихся подходах к решению задачи классификации.\n",
        "\n",
        "В случае с CNN, много ошибок так же в парах \"Социальная сфера\" - \"Политика\", \"Спорт\" - \"Общество\", \"Общество\" - \"Социальная сфера\" и \"\"Политика - \"Общество\"."
      ]
    },
    {
      "cell_type": "markdown",
      "metadata": {
        "id": "FE9Cc9WDRd1l",
        "colab_type": "text"
      },
      "source": [
        "## RNN\n",
        "\n",
        "Используем ```RNN``` (BLSTM + макс. пулинг поверх) для решения задачи текстовой классификации. Аналогичным образом оцениваем результаты."
      ]
    },
    {
      "cell_type": "code",
      "metadata": {
        "id": "zRrx8Goay_Ri",
        "colab_type": "code",
        "colab": {}
      },
      "source": [
        "from keras.layers import LSTM, Bidirectional, GlobalMaxPooling1D\n",
        "from keras.preprocessing import sequence"
      ],
      "execution_count": 0,
      "outputs": []
    },
    {
      "cell_type": "code",
      "metadata": {
        "id": "VJCfR9WOzlPS",
        "colab_type": "code",
        "colab": {}
      },
      "source": [
        "X_train, X_test, y_train, y_test = train_test_split(df['lemmatized_text'], df['source'], test_size=0.2, random_state=21)"
      ],
      "execution_count": 0,
      "outputs": []
    },
    {
      "cell_type": "code",
      "metadata": {
        "id": "I2VaceXA68VT",
        "colab_type": "code",
        "colab": {}
      },
      "source": [
        "tokenizer = Tokenizer(num_words=TEXT_LENGTH)\n",
        "tokenizer.fit_on_texts(X_train.values)"
      ],
      "execution_count": 0,
      "outputs": []
    },
    {
      "cell_type": "code",
      "metadata": {
        "id": "PbPVbCsxzlhX",
        "colab_type": "code",
        "colab": {}
      },
      "source": [
        "# падим последовательности для одинаковой длины (не больше TEXT_LENGTH=1800) всех входных последовательностей\n",
        "sequences = tokenizer.texts_to_sequences(X_train)\n",
        "X_train = sequence.pad_sequences(sequences, maxlen=TEXT_LENGTH, padding='post')\n",
        "sequences = tokenizer.texts_to_sequences(X_test)\n",
        "X_test = sequence.pad_sequences(sequences, maxlen=TEXT_LENGTH, padding='post')"
      ],
      "execution_count": 0,
      "outputs": []
    },
    {
      "cell_type": "code",
      "metadata": {
        "id": "eAKe3bJW34JK",
        "colab_type": "code",
        "outputId": "0c5490b6-8bd7-4468-f71c-4931c860dd15",
        "colab": {
          "base_uri": "https://localhost:8080/",
          "height": 34
        }
      },
      "source": [
        "le = LabelEncoder()\n",
        "classes = y_train.unique()\n",
        "le.fit(classes)\n",
        "y_formatted_train = np_utils.to_categorical(le.transform(y_train), len(classes))\n",
        "y_formatted_test = np_utils.to_categorical(le.transform(y_test), len(classes))\n",
        "y_formatted_true = le.transform(y_test)\n",
        "print(y_formatted_train[0])"
      ],
      "execution_count": 917,
      "outputs": [
        {
          "output_type": "stream",
          "text": [
            "[1. 0. 0. 0.]\n"
          ],
          "name": "stdout"
        }
      ]
    },
    {
      "cell_type": "code",
      "metadata": {
        "id": "4orWXhL9z98D",
        "colab_type": "code",
        "colab": {}
      },
      "source": [
        "# архитектура с BiLSTM и maxpooling-ом после\n",
        "model = Sequential()\n",
        "model.add(Embedding(VOCABULARY_SIZE,\n",
        "                    EMBEDDING_DIM,\n",
        "                    input_length=TEXT_LENGTH,\n",
        "                    trainable=True))\n",
        "# конктенируем вывод из LStM по левому и правому контекстам\n",
        "model.add(Bidirectional(LSTM(10, return_sequences=True), merge_mode='concat', weights=None))\n",
        "model.add(GlobalMaxPooling1D())\n",
        "model.add(Dense(len(classes), activation='softmax'))\n",
        "model.compile(loss='categorical_crossentropy', optimizer='adam', metrics=['acc'])"
      ],
      "execution_count": 0,
      "outputs": []
    },
    {
      "cell_type": "code",
      "metadata": {
        "id": "s6jBtZp522OQ",
        "colab_type": "code",
        "outputId": "2a4c23d9-0ee4-475b-f237-918da6e06053",
        "colab": {
          "base_uri": "https://localhost:8080/",
          "height": 272
        }
      },
      "source": [
        "model.summary()"
      ],
      "execution_count": 919,
      "outputs": [
        {
          "output_type": "stream",
          "text": [
            "_________________________________________________________________\n",
            "Layer (type)                 Output Shape              Param #   \n",
            "=================================================================\n",
            "embedding_4 (Embedding)      (None, 1800, 300)         75000000  \n",
            "_________________________________________________________________\n",
            "bidirectional_1 (Bidirection (None, 1800, 20)          24880     \n",
            "_________________________________________________________________\n",
            "global_max_pooling1d_1 (Glob (None, 20)                0         \n",
            "_________________________________________________________________\n",
            "dense_6 (Dense)              (None, 4)                 84        \n",
            "=================================================================\n",
            "Total params: 75,024,964\n",
            "Trainable params: 75,024,964\n",
            "Non-trainable params: 0\n",
            "_________________________________________________________________\n"
          ],
          "name": "stdout"
        }
      ]
    },
    {
      "cell_type": "code",
      "metadata": {
        "id": "KvvPdKuvz94y",
        "colab_type": "code",
        "outputId": "51d09ed6-84f7-4a4c-cfbd-5d1d52e32cdb",
        "colab": {
          "base_uri": "https://localhost:8080/",
          "height": 85
        }
      },
      "source": [
        "model.fit(X_train, y_formatted_train, validation_data=(X_test, y_formatted_test), epochs=1, batch_size=batch_size)"
      ],
      "execution_count": 920,
      "outputs": [
        {
          "output_type": "stream",
          "text": [
            "Train on 3200 samples, validate on 800 samples\n",
            "Epoch 1/1\n",
            "3200/3200 [==============================] - 585s 183ms/step - loss: 1.1434 - acc: 0.6069 - val_loss: 0.8258 - val_acc: 0.7312\n"
          ],
          "name": "stdout"
        },
        {
          "output_type": "execute_result",
          "data": {
            "text/plain": [
              "<keras.callbacks.History at 0x7fb45cbcab00>"
            ]
          },
          "metadata": {
            "tags": []
          },
          "execution_count": 920
        }
      ]
    },
    {
      "cell_type": "code",
      "metadata": {
        "id": "ZHmHpk0a2siD",
        "colab_type": "code",
        "colab": {}
      },
      "source": [
        "y_pred = model.predict_classes(X_test)\n",
        "predictions = le.inverse_transform(y_pred)"
      ],
      "execution_count": 0,
      "outputs": []
    },
    {
      "cell_type": "code",
      "metadata": {
        "id": "nZmI71Wv2set",
        "colab_type": "code",
        "outputId": "66f999d1-8a0f-4c12-c600-8e443fd15cc4",
        "colab": {
          "base_uri": "https://localhost:8080/",
          "height": 500
        }
      },
      "source": [
        "cm = confusion_matrix(y_test, predictions, classes)\n",
        "plot_cm(cm)\n",
        "print_metrics_from_cm(cm)"
      ],
      "execution_count": 922,
      "outputs": [
        {
          "output_type": "stream",
          "text": [
            "Mean Precision: 0.74658200668039\n",
            "Mean Recall 0.7378703816836935\n",
            "Accuracy: 0.73125\n",
            "F1 score: 0.7422006317555611\n"
          ],
          "name": "stdout"
        },
        {
          "output_type": "display_data",
          "data": {
            "image/png": "[encoded data removed]",
            "text/plain": [
              "<Figure size 720x504 with 2 Axes>"
            ]
          },
          "metadata": {
            "tags": []
          }
        }
      ]
    },
    {
      "cell_type": "markdown",
      "metadata": {
        "id": "hUapY7T_CcNI",
        "colab_type": "text"
      },
      "source": [
        "Примерно на 0.05 хуже, чем у SGDClassifier-а, но мы обучали только на одной эпохе (т.к. обучение очень долгое), поэтому результат скорее всего мог быть и лучше при большем количестве эпох.\n",
        "\n",
        "Ошибки те же, что и в CNN, но с немного другими пропорциями. Меньше всего ошибок в паре \"Политика\" -- \"спорт\""
      ]
    },
    {
      "cell_type": "markdown",
      "metadata": {
        "id": "yyGUuiJuRd1m",
        "colab_type": "text"
      },
      "source": [
        "## ULMFit\n",
        "\n",
        "Используем ```ULMFit``` для решения задачи классификации. Аналогичным образом оцениваем результаты."
      ]
    },
    {
      "cell_type": "code",
      "metadata": {
        "id": "NRkOAXVHpAiQ",
        "colab_type": "code",
        "colab": {
          "base_uri": "https://localhost:8080/",
          "height": 845
        },
        "outputId": "e307a29b-7cf0-4dfd-d4e9-c980234ee15a"
      },
      "source": [
        "!pip install torch_nightly -f https://download.pytorch.org/whl/nightly/cu92/torch_nightly.html\n",
        "!pip install fastai"
      ],
      "execution_count": 923,
      "outputs": [
        {
          "output_type": "stream",
          "text": [
            "Looking in links: https://download.pytorch.org/whl/nightly/cu92/torch_nightly.html\n",
            "Collecting torch_nightly\n",
            "\u001b[?25l  Downloading https://download.pytorch.org/whl/nightly/cu92/torch_nightly-1.0.0.dev20181206-cp36-cp36m-linux_x86_64.whl (576.2MB)\n",
            "\u001b[K     |████████████████████████████████| 576.2MB 23kB/s \n",
            "\u001b[?25hInstalling collected packages: torch-nightly\n",
            "Successfully installed torch-nightly-1.0.0.dev20181206\n",
            "Requirement already satisfied: fastai in /usr/local/lib/python3.6/dist-packages (1.0.52)\n",
            "Requirement already satisfied: torch>=1.0.0 in /usr/local/lib/python3.6/dist-packages (from fastai) (1.1.0)\n",
            "Requirement already satisfied: matplotlib in /usr/local/lib/python3.6/dist-packages (from fastai) (3.0.3)\n",
            "Requirement already satisfied: numpy>=1.15 in /usr/local/lib/python3.6/dist-packages (from fastai) (1.16.4)\n",
            "Requirement already satisfied: pyyaml in /usr/local/lib/python3.6/dist-packages (from fastai) (3.13)\n",
            "Requirement already satisfied: Pillow in /usr/local/lib/python3.6/dist-packages (from fastai) (4.3.0)\n",
            "Requirement already satisfied: torchvision in /usr/local/lib/python3.6/dist-packages (from fastai) (0.3.0)\n",
            "Requirement already satisfied: packaging in /usr/local/lib/python3.6/dist-packages (from fastai) (19.0)\n",
            "Requirement already satisfied: requests in /usr/local/lib/python3.6/dist-packages (from fastai) (2.21.0)\n",
            "Requirement already satisfied: bottleneck in /usr/local/lib/python3.6/dist-packages (from fastai) (1.2.1)\n",
            "Requirement already satisfied: dataclasses; python_version < \"3.7\" in /usr/local/lib/python3.6/dist-packages (from fastai) (0.6)\n",
            "Requirement already satisfied: pandas in /usr/local/lib/python3.6/dist-packages (from fastai) (0.24.2)\n",
            "Requirement already satisfied: nvidia-ml-py3 in /usr/local/lib/python3.6/dist-packages (from fastai) (7.352.0)\n",
            "Requirement already satisfied: scipy in /usr/local/lib/python3.6/dist-packages (from fastai) (1.3.0)\n",
            "Requirement already satisfied: spacy>=2.0.18 in /usr/local/lib/python3.6/dist-packages (from fastai) (2.1.4)\n",
            "Requirement already satisfied: beautifulsoup4 in /usr/local/lib/python3.6/dist-packages (from fastai) (4.6.3)\n",
            "Requirement already satisfied: numexpr in /usr/local/lib/python3.6/dist-packages (from fastai) (2.6.9)\n",
            "Requirement already satisfied: typing in /usr/local/lib/python3.6/dist-packages (from fastai) (3.6.6)\n",
            "Requirement already satisfied: fastprogress>=0.1.19 in /usr/local/lib/python3.6/dist-packages (from fastai) (0.1.21)\n",
            "Requirement already satisfied: python-dateutil>=2.1 in /usr/local/lib/python3.6/dist-packages (from matplotlib->fastai) (2.5.3)\n",
            "Requirement already satisfied: pyparsing!=2.0.4,!=2.1.2,!=2.1.6,>=2.0.1 in /usr/local/lib/python3.6/dist-packages (from matplotlib->fastai) (2.4.0)\n",
            "Requirement already satisfied: kiwisolver>=1.0.1 in /usr/local/lib/python3.6/dist-packages (from matplotlib->fastai) (1.1.0)\n",
            "Requirement already satisfied: cycler>=0.10 in /usr/local/lib/python3.6/dist-packages (from matplotlib->fastai) (0.10.0)\n",
            "Requirement already satisfied: olefile in /usr/local/lib/python3.6/dist-packages (from Pillow->fastai) (0.46)\n",
            "Requirement already satisfied: six in /usr/local/lib/python3.6/dist-packages (from torchvision->fastai) (1.12.0)\n",
            "Requirement already satisfied: certifi>=2017.4.17 in /usr/local/lib/python3.6/dist-packages (from requests->fastai) (2019.3.9)\n",
            "Requirement already satisfied: urllib3<1.25,>=1.21.1 in /usr/local/lib/python3.6/dist-packages (from requests->fastai) (1.24.3)\n",
            "Requirement already satisfied: idna<2.9,>=2.5 in /usr/local/lib/python3.6/dist-packages (from requests->fastai) (2.8)\n",
            "Requirement already satisfied: chardet<3.1.0,>=3.0.2 in /usr/local/lib/python3.6/dist-packages (from requests->fastai) (3.0.4)\n",
            "Requirement already satisfied: pytz>=2011k in /usr/local/lib/python3.6/dist-packages (from pandas->fastai) (2018.9)\n",
            "Requirement already satisfied: thinc<7.1.0,>=7.0.2 in /usr/local/lib/python3.6/dist-packages (from spacy>=2.0.18->fastai) (7.0.4)\n",
            "Requirement already satisfied: srsly<1.1.0,>=0.0.5 in /usr/local/lib/python3.6/dist-packages (from spacy>=2.0.18->fastai) (0.0.6)\n",
            "Requirement already satisfied: plac<1.0.0,>=0.9.6 in /usr/local/lib/python3.6/dist-packages (from spacy>=2.0.18->fastai) (0.9.6)\n",
            "Requirement already satisfied: preshed<2.1.0,>=2.0.1 in /usr/local/lib/python3.6/dist-packages (from spacy>=2.0.18->fastai) (2.0.1)\n",
            "Requirement already satisfied: blis<0.3.0,>=0.2.2 in /usr/local/lib/python3.6/dist-packages (from spacy>=2.0.18->fastai) (0.2.4)\n",
            "Requirement already satisfied: jsonschema<3.1.0,>=2.6.0 in /usr/local/lib/python3.6/dist-packages (from spacy>=2.0.18->fastai) (2.6.0)\n",
            "Requirement already satisfied: murmurhash<1.1.0,>=0.28.0 in /usr/local/lib/python3.6/dist-packages (from spacy>=2.0.18->fastai) (1.0.2)\n",
            "Requirement already satisfied: wasabi<1.1.0,>=0.2.0 in /usr/local/lib/python3.6/dist-packages (from spacy>=2.0.18->fastai) (0.2.2)\n",
            "Requirement already satisfied: cymem<2.1.0,>=2.0.2 in /usr/local/lib/python3.6/dist-packages (from spacy>=2.0.18->fastai) (2.0.2)\n",
            "Requirement already satisfied: setuptools in /usr/local/lib/python3.6/dist-packages (from kiwisolver>=1.0.1->matplotlib->fastai) (41.0.1)\n",
            "Requirement already satisfied: tqdm<5.0.0,>=4.10.0 in /usr/local/lib/python3.6/dist-packages (from thinc<7.1.0,>=7.0.2->spacy>=2.0.18->fastai) (4.28.1)\n"
          ],
          "name": "stdout"
        }
      ]
    },
    {
      "cell_type": "code",
      "metadata": {
        "id": "TnE_rE0_fmSU",
        "colab_type": "code",
        "colab": {}
      },
      "source": [
        "# подключаем необходимые библиотеки с реализованной ULMFiT (SOTA-моделью для текстовой классификации).\n",
        "import fastai\n",
        "from fastai import *\n",
        "from fastai.text import *"
      ],
      "execution_count": 0,
      "outputs": []
    },
    {
      "cell_type": "code",
      "metadata": {
        "id": "kq8RpGkw5muT",
        "colab_type": "code",
        "colab": {}
      },
      "source": [
        "# приведём к датафрейму с нужными названиями колонок (label и text)\n",
        "tmp_df = pd.DataFrame({'label':df.source, 'text':df.lemmatized_words})"
      ],
      "execution_count": 0,
      "outputs": []
    },
    {
      "cell_type": "code",
      "metadata": {
        "id": "iL_4s9Kvnmjl",
        "colab_type": "code",
        "colab": {}
      },
      "source": [
        "# train_test_split на обучающий датафрейм и датафрейм для валидации\n",
        "df_trn, df_val = train_test_split(tmp_df, stratify=tmp_df['label'], test_size=0.3, random_state=21)"
      ],
      "execution_count": 0,
      "outputs": []
    },
    {
      "cell_type": "code",
      "metadata": {
        "id": "Rk3R_YPNnmdN",
        "colab_type": "code",
        "outputId": "86f1839a-19ab-40e6-9032-adf95b1ff90c",
        "colab": {
          "base_uri": "https://localhost:8080/",
          "height": 34
        }
      },
      "source": [
        "df_trn.shape, df_val.shape"
      ],
      "execution_count": 927,
      "outputs": [
        {
          "output_type": "execute_result",
          "data": {
            "text/plain": [
              "((2800, 2), (1200, 2))"
            ]
          },
          "metadata": {
            "tags": []
          },
          "execution_count": 927
        }
      ]
    },
    {
      "cell_type": "code",
      "metadata": {
        "id": "TTmKLjOoox9S",
        "colab_type": "code",
        "colab": {}
      },
      "source": [
        "# получаем из датасетов языковая модель из датафрейма\n",
        "data_lm = TextLMDataBunch.from_df(train_df=df_trn, valid_df=df_val, path=\"\")"
      ],
      "execution_count": 0,
      "outputs": []
    },
    {
      "cell_type": "code",
      "metadata": {
        "id": "4pAx1LZqo21z",
        "colab_type": "code",
        "colab": {}
      },
      "source": [
        "# получаем из датасетов модель для классификации\n",
        "data_clas = TextClasDataBunch.from_df(path=\"\", train_df=df_trn, valid_df=df_val, vocab=data_lm.train_ds.vocab, bs=24)"
      ],
      "execution_count": 0,
      "outputs": []
    },
    {
      "cell_type": "code",
      "metadata": {
        "id": "WY4Vrlnno3GJ",
        "colab_type": "code",
        "colab": {}
      },
      "source": [
        "# LanguageLearner\n",
        "learn = language_model_learner(data_lm, arch=AWD_LSTM, drop_mult=0.5)"
      ],
      "execution_count": 0,
      "outputs": []
    },
    {
      "cell_type": "code",
      "metadata": {
        "id": "A_gHaDsno7G3",
        "colab_type": "code",
        "outputId": "2ed3c5df-5561-4bdf-b9e3-369535cef76e",
        "colab": {
          "base_uri": "https://localhost:8080/",
          "height": 95
        }
      },
      "source": [
        "# своего рода регуляризация для улучшений качества (скорость обучения = 0.01)\n",
        "learn.fit_one_cycle(cyc_len=1, max_lr=0.01)"
      ],
      "execution_count": 931,
      "outputs": [
        {
          "output_type": "display_data",
          "data": {
            "text/html": [
              "<table border=\"1\" class=\"dataframe\">\n",
              "  <thead>\n",
              "    <tr style=\"text-align: left;\">\n",
              "      <th>epoch</th>\n",
              "      <th>train_loss</th>\n",
              "      <th>valid_loss</th>\n",
              "      <th>accuracy</th>\n",
              "      <th>time</th>\n",
              "    </tr>\n",
              "  </thead>\n",
              "  <tbody>\n",
              "    <tr>\n",
              "      <td>0</td>\n",
              "      <td>1.957753</td>\n",
              "      <td>1.820137</td>\n",
              "      <td>0.765496</td>\n",
              "      <td>02:12</td>\n",
              "    </tr>\n",
              "  </tbody>\n",
              "</table>"
            ],
            "text/plain": [
              "<IPython.core.display.HTML object>"
            ]
          },
          "metadata": {
            "tags": []
          }
        }
      ]
    },
    {
      "cell_type": "code",
      "metadata": {
        "id": "QTxvm3eg1OSg",
        "colab_type": "code",
        "colab": {}
      },
      "source": [
        "# сохраняем encoder\n",
        "learn.save_encoder('encoder')"
      ],
      "execution_count": 0,
      "outputs": []
    },
    {
      "cell_type": "code",
      "metadata": {
        "id": "QQOJsrlnp78H",
        "colab_type": "code",
        "colab": {}
      },
      "source": [
        "# используем data_clas, чтобы построить классификатор с помощью сохранённого encoder-а\n",
        "learn = text_classifier_learner(data_clas, arch=AWD_LSTM, drop_mult=0.5)"
      ],
      "execution_count": 0,
      "outputs": []
    },
    {
      "cell_type": "code",
      "metadata": {
        "id": "um4MhYbEtCuo",
        "colab_type": "code",
        "colab": {}
      },
      "source": [
        "# загружаем encoder\n",
        "learn.load_encoder('encoder')"
      ],
      "execution_count": 0,
      "outputs": []
    },
    {
      "cell_type": "code",
      "metadata": {
        "id": "lqVdiUkFqLob",
        "colab_type": "code",
        "outputId": "45ccd386-d977-4d22-a618-3c260f3a7832",
        "colab": {
          "base_uri": "https://localhost:8080/",
          "height": 95
        }
      },
      "source": [
        "# как ни странно, значение функции потерь на валидирующей выборке значительно меньше, чем на обучающей выборке\n",
        "learn.fit_one_cycle(cyc_len=1, max_lr=0.01)"
      ],
      "execution_count": 935,
      "outputs": [
        {
          "output_type": "display_data",
          "data": {
            "text/html": [
              "<table border=\"1\" class=\"dataframe\">\n",
              "  <thead>\n",
              "    <tr style=\"text-align: left;\">\n",
              "      <th>epoch</th>\n",
              "      <th>train_loss</th>\n",
              "      <th>valid_loss</th>\n",
              "      <th>accuracy</th>\n",
              "      <th>time</th>\n",
              "    </tr>\n",
              "  </thead>\n",
              "  <tbody>\n",
              "    <tr>\n",
              "      <td>0</td>\n",
              "      <td>0.898299</td>\n",
              "      <td>0.827028</td>\n",
              "      <td>0.651667</td>\n",
              "      <td>02:00</td>\n",
              "    </tr>\n",
              "  </tbody>\n",
              "</table>"
            ],
            "text/plain": [
              "<IPython.core.display.HTML object>"
            ]
          },
          "metadata": {
            "tags": []
          }
        }
      ]
    },
    {
      "cell_type": "code",
      "metadata": {
        "id": "u2HhsbgmroaA",
        "colab_type": "code",
        "colab": {}
      },
      "source": [
        "# предсказания и целевая переменная\n",
        "preds, targets = learn.get_preds()"
      ],
      "execution_count": 0,
      "outputs": []
    },
    {
      "cell_type": "code",
      "metadata": {
        "id": "CK2K5vNGsVA-",
        "colab_type": "code",
        "colab": {}
      },
      "source": [
        "predictions = np.argmax(preds, axis=1)"
      ],
      "execution_count": 0,
      "outputs": []
    },
    {
      "cell_type": "code",
      "metadata": {
        "id": "CZiPKYQF9PcV",
        "colab_type": "code",
        "outputId": "468e4b22-2ed8-4817-f011-3f05311a481e",
        "colab": {
          "base_uri": "https://localhost:8080/",
          "height": 500
        }
      },
      "source": [
        "cm = confusion_matrix(targets, predictions)\n",
        "plot_cm(cm)\n",
        "print_metrics_from_cm(cm)"
      ],
      "execution_count": 938,
      "outputs": [
        {
          "output_type": "stream",
          "text": [
            "Mean Precision: 0.6610690214510491\n",
            "Mean Recall 0.6516666666666666\n",
            "Accuracy: 0.6516666666666666\n",
            "F1 score: 0.6563341722861272\n"
          ],
          "name": "stdout"
        },
        {
          "output_type": "display_data",
          "data": {
            "image/png": "[encoded data removed]",
            "text/plain": [
              "<Figure size 720x504 with 2 Axes>"
            ]
          },
          "metadata": {
            "tags": []
          }
        }
      ]
    },
    {
      "cell_type": "markdown",
      "metadata": {
        "id": "T3E69Adf94Ok",
        "colab_type": "text"
      },
      "source": [
        "Качество довольно плохое. Очень часто модель ошибочно предсказывает тему \"Спорт\" для темы \"Общество\", и в целом \"Спорт\" гораздо чаще, чем ранее, путается с другими топиками. Также сохраняются многочисленные ошибки в паре \"Социальная сфера\" -- \"Политика\"."
      ]
    },
    {
      "cell_type": "markdown",
      "metadata": {
        "colab_type": "text",
        "id": "_8fKqCD6Q5tW"
      },
      "source": [
        "## Конец"
      ]
    },
    {
      "cell_type": "markdown",
      "metadata": {
        "id": "ghQOyWzfUX2-",
        "colab_type": "text"
      },
      "source": [
        "Сравним по метрике accuracy (приводится наилучшее значение) все использованные в данной тетрадке модели:\n",
        "\n",
        "1) rules-based approach: 0.4375\n",
        "\n",
        "2) CountVectorizer + TfidfTransformer + MultinomialNB: 0.74\n",
        "\n",
        "3) CountVectorizer + TfidfTransformer + SGDClassifier: 0.7725\n",
        "\n",
        "4) CountVectorizer + TfidfTransformer + LSA + SGDClassifier: 0.5\n",
        "\n",
        "5) CountVectorizer + TfidfTransformer + LSA + RandomForestClassifier: 0.55375\n",
        "\n",
        "6) CountVectorizer + TfidfTransformer + LSA + LogisticRegression: 0.54875\n",
        "\n",
        "7) CountVectorizer + TfidfTransformer + LSA + AdaBoostClassifier: 0.5625\n",
        "\n",
        "8) CountVectorizer + TfidfTransformer + SGDClassifier (with lemmatization): 0.7575\n",
        "\n",
        "9) CountVectorizer + TfidfTransformer + SGDClassifier (with lemmatization and n-grams (n <= 5)): 0.77625\n",
        "\n",
        "10) Doc Embeddings (mean of all vectors): 0.725\n",
        "\n",
        "11) Doc Embeddings (tf-idf weighting): 0.65625\n",
        "\n",
        "12) doc2vec (gensim, 5 epochs): 0.245\n",
        "\n",
        "13) fasttext: 0.64125\n",
        "\n",
        "14) CNN: 0.73\n",
        "\n",
        "15) BiLSTM (1 epoch): 0.73125\n",
        "\n",
        "16) ULMFit: 0.6516666666666666"
      ]
    },
    {
      "cell_type": "markdown",
      "metadata": {
        "id": "ZeZaYqB3YVX3",
        "colab_type": "text"
      },
      "source": [
        "По метрике accuracy побеждает модель \"CountVectorizer + TfidfTransformer + SGDClassifier (with lemmatization and n-grams (n <= 5))\" с результатом 0.77625.\n",
        "\n",
        "Хорошо себя показывают также CountVectorizer + TfidfTransformer + MultinomialNB: 0.74, BiLSTM (0.73125), CNN (0.73), Doc Embeddings (mean of all vectors) (0.725), \n",
        "\n",
        "Чуть хуже, но также в пределах \"нормы\": Doc Embeddings (tf-idf weighting) (0.65625), fasttext (0.64125), ULMFit (0.6516666666666666), ...\n",
        "\n",
        "Все остальные варианты дают не очень хорошее качество либо по причине недообучения, либо по причине простоты самой модели (rule-based approach, например)."
      ]
    }
  ]
}