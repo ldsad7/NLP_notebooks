{
  "nbformat": 4,
  "nbformat_minor": 0,
  "metadata": {
    "colab": {
      "name": "Sem_tokenize_morph.ipynb",
      "version": "0.3.2",
      "provenance": [],
      "toc_visible": true
    },
    "language_info": {
      "codemirror_mode": {
        "name": "ipython",
        "version": 3
      },
      "file_extension": ".py",
      "mimetype": "text/x-python",
      "name": "python",
      "nbconvert_exporter": "python",
      "pygments_lexer": "ipython3",
      "version": "3.5.2"
    },
    "kernelspec": {
      "name": "python3",
      "display_name": "Python 3"
    },
    "accelerator": "GPU"
  },
  "cells": [
    {
      "cell_type": "markdown",
      "metadata": {
        "id": "AzJWvBAU_Pkx",
        "colab_type": "text"
      },
      "source": [
        "## Регулярные выражения"
      ]
    },
    {
      "cell_type": "markdown",
      "metadata": {
        "collapsed": true,
        "id": "0HYXzEZp_Pkz",
        "colab_type": "text"
      },
      "source": [
        "https://tproger.ru/translations/regular-expression-python/"
      ]
    },
    {
      "cell_type": "code",
      "metadata": {
        "id": "ah13ROAy_Pkz",
        "colab_type": "code",
        "colab": {}
      },
      "source": [
        "import re"
      ],
      "execution_count": 0,
      "outputs": []
    },
    {
      "cell_type": "markdown",
      "metadata": {
        "id": "E-cmtUGG_Pk2",
        "colab_type": "text"
      },
      "source": [
        "# match\n",
        "ищет по заданному шаблону в начале строки"
      ]
    },
    {
      "cell_type": "code",
      "metadata": {
        "id": "-1E148nd_Pk3",
        "colab_type": "code",
        "colab": {
          "base_uri": "https://localhost:8080/",
          "height": 34
        },
        "outputId": "d0832adf-3c2b-4b7f-b7d2-6787c582cf82"
      },
      "source": [
        "result = re.match('ab+c.', 'abbcdefghijkabcabc') # ищем по шаблону 'ab+c.' \n",
        "print(result) # совпадение найдено:"
      ],
      "execution_count": 4,
      "outputs": [
        {
          "output_type": "stream",
          "text": [
            "<_sre.SRE_Match object; span=(0, 5), match='abbcd'>\n"
          ],
          "name": "stdout"
        }
      ]
    },
    {
      "cell_type": "code",
      "metadata": {
        "id": "3gEIej0k_Pk5",
        "colab_type": "code",
        "colab": {
          "base_uri": "https://localhost:8080/",
          "height": 34
        },
        "outputId": "3d6038f2-b4fd-44ea-8069-3b6efb512932"
      },
      "source": [
        "print(result.group(0)) # выволмс найденное совпадение"
      ],
      "execution_count": 6,
      "outputs": [
        {
          "output_type": "stream",
          "text": [
            "abbcd\n"
          ],
          "name": "stdout"
        }
      ]
    },
    {
      "cell_type": "code",
      "metadata": {
        "id": "SZlOfR2v_Pk9",
        "colab_type": "code",
        "colab": {
          "base_uri": "https://localhost:8080/",
          "height": 34
        },
        "outputId": "d52760de-17aa-421c-909c-68c9286b4b5b"
      },
      "source": [
        "result = re.match('abc.', 'abdefghijkabcabc')\n",
        "print(result) # совпадение не найдено"
      ],
      "execution_count": 7,
      "outputs": [
        {
          "output_type": "stream",
          "text": [
            "None\n"
          ],
          "name": "stdout"
        }
      ]
    },
    {
      "cell_type": "markdown",
      "metadata": {
        "id": "8AjqrWvV_PlB",
        "colab_type": "text"
      },
      "source": [
        "## Задание 1:\n",
        "Проверьте, начинаются ли строки c заглавной буквы и если да, то вывести эту заглавную букву. Придумайте свои примеры строк для проверки."
      ]
    },
    {
      "cell_type": "code",
      "metadata": {
        "id": "XPKfKVgG_PlC",
        "colab_type": "code",
        "colab": {
          "base_uri": "https://localhost:8080/",
          "height": 34
        },
        "outputId": "8c87e9e4-0907-45bf-c840-752d262d8863"
      },
      "source": [
        "string = 'Lюда, иди спать'\n",
        "result = re.match('[A-ZА-Я]', string)\n",
        "print(result)"
      ],
      "execution_count": 11,
      "outputs": [
        {
          "output_type": "stream",
          "text": [
            "<_sre.SRE_Match object; span=(0, 1), match='L'>\n"
          ],
          "name": "stdout"
        }
      ]
    },
    {
      "cell_type": "markdown",
      "metadata": {
        "id": "CvZxlcNQ_PlE",
        "colab_type": "text"
      },
      "source": [
        "# search\n",
        "ищет по всей строке, возвращает только первое найденное совпадение"
      ]
    },
    {
      "cell_type": "code",
      "metadata": {
        "id": "ukEzQYsn_PlF",
        "colab_type": "code",
        "colab": {
          "base_uri": "https://localhost:8080/",
          "height": 34
        },
        "outputId": "fb69aa5b-7bc6-49ca-a73a-a3acb3fe8938"
      },
      "source": [
        "result = re.search('ab+c.', 'aefgabchijkabcabc') \n",
        "print(result) "
      ],
      "execution_count": 12,
      "outputs": [
        {
          "output_type": "stream",
          "text": [
            "<_sre.SRE_Match object; span=(4, 8), match='abch'>\n"
          ],
          "name": "stdout"
        }
      ]
    },
    {
      "cell_type": "markdown",
      "metadata": {
        "id": "QQ16F0D4_PlH",
        "colab_type": "text"
      },
      "source": [
        "## Задание 2\n",
        "Проверьте, есть ли в строке вопросительный знак. Придумайте свои примеры для проверки."
      ]
    },
    {
      "cell_type": "code",
      "metadata": {
        "id": "0xwjntxH_PlI",
        "colab_type": "code",
        "colab": {
          "base_uri": "https://localhost:8080/",
          "height": 34
        },
        "outputId": "a4a6fc57-682b-4670-dc2c-9af6bdb6431e"
      },
      "source": [
        "string = 'Строка со  знаком вопроса'\n",
        "result = re.search(r'\\?', string)\n",
        "print(result is not None)"
      ],
      "execution_count": 27,
      "outputs": [
        {
          "output_type": "stream",
          "text": [
            "False\n"
          ],
          "name": "stdout"
        }
      ]
    },
    {
      "cell_type": "markdown",
      "metadata": {
        "id": "B89usYEP_PlK",
        "colab_type": "text"
      },
      "source": [
        "# findall\n",
        "возвращает список всех найденных совпадений"
      ]
    },
    {
      "cell_type": "code",
      "metadata": {
        "id": "oVdQkGCv_PlM",
        "colab_type": "code",
        "colab": {
          "base_uri": "https://localhost:8080/",
          "height": 34
        },
        "outputId": "e4a50732-115f-4624-e60c-44518dda9e0b"
      },
      "source": [
        "result = re.findall('ab+c.', 'abcdefghijkabcabcxabc')\n",
        "print(result)"
      ],
      "execution_count": 28,
      "outputs": [
        {
          "output_type": "stream",
          "text": [
            "['abcd', 'abca']\n"
          ],
          "name": "stdout"
        }
      ]
    },
    {
      "cell_type": "markdown",
      "metadata": {
        "id": "J3Jp6iSs_PlS",
        "colab_type": "text"
      },
      "source": [
        "Вопросы: \n",
        "1) почему нет последнего abc?\n",
        "2) почему нет abcx?"
      ]
    },
    {
      "cell_type": "markdown",
      "metadata": {
        "id": "6qyK8eyv_PlT",
        "colab_type": "text"
      },
      "source": [
        "## Задание 3\n",
        "Вернуть список первых двух букв каждого слова в строке, состоящей из нескольких слов."
      ]
    },
    {
      "cell_type": "code",
      "metadata": {
        "id": "EgnqEiwE_PlU",
        "colab_type": "code",
        "colab": {
          "base_uri": "https://localhost:8080/",
          "height": 34
        },
        "outputId": "4836f9b0-afd5-424f-84f5-03b5ba97933f"
      },
      "source": [
        "string = 'a_s_db vErc A'\n",
        "result = re.findall(r'\\b\\w\\w', string)\n",
        "print(result)"
      ],
      "execution_count": 41,
      "outputs": [
        {
          "output_type": "stream",
          "text": [
            "['a_', 'vE']\n"
          ],
          "name": "stdout"
        }
      ]
    },
    {
      "cell_type": "markdown",
      "metadata": {
        "id": "7n11Uk1p_PlW",
        "colab_type": "text"
      },
      "source": [
        "# split\n",
        "разделяет строку по заданному шаблону\n"
      ]
    },
    {
      "cell_type": "code",
      "metadata": {
        "id": "s2LMA_7g_PlX",
        "colab_type": "code",
        "colab": {
          "base_uri": "https://localhost:8080/",
          "height": 34
        },
        "outputId": "4a1c0000-d580-4944-daa8-7f958ce28b1c"
      },
      "source": [
        "result = re.split(',', 'itsy, bitsy, teenie, weenie') \n",
        "print(result)"
      ],
      "execution_count": 42,
      "outputs": [
        {
          "output_type": "stream",
          "text": [
            "['itsy', ' bitsy', ' teenie', ' weenie']\n"
          ],
          "name": "stdout"
        }
      ]
    },
    {
      "cell_type": "markdown",
      "metadata": {
        "id": "gPw4fYUp_PlY",
        "colab_type": "text"
      },
      "source": [
        "можно указать максимальное количество разбиений"
      ]
    },
    {
      "cell_type": "code",
      "metadata": {
        "id": "OpogoVyS_PlZ",
        "colab_type": "code",
        "colab": {
          "base_uri": "https://localhost:8080/",
          "height": 34
        },
        "outputId": "c65558ba-b040-4d3b-f3b7-d38817cb152c"
      },
      "source": [
        "result = re.split(',', 'itsy, bitsy, teenie, weenie', maxsplit=2)\n",
        "print(result)"
      ],
      "execution_count": 43,
      "outputs": [
        {
          "output_type": "stream",
          "text": [
            "['itsy', ' bitsy', ' teenie, weenie']\n"
          ],
          "name": "stdout"
        }
      ]
    },
    {
      "cell_type": "markdown",
      "metadata": {
        "id": "tpuJDhL1_Pla",
        "colab_type": "text"
      },
      "source": [
        "## Задание 4\n",
        "Разбейте строку, состоящую из нескольких предложений, по точкам, но не более чем на 3 предложения."
      ]
    },
    {
      "cell_type": "code",
      "metadata": {
        "id": "kuce7u3A_Plb",
        "colab_type": "code",
        "colab": {
          "base_uri": "https://localhost:8080/",
          "height": 34
        },
        "outputId": "162678c6-e9df-4034-8222-7dee7142d716"
      },
      "source": [
        "text = 'фыв.. Фыфа'\n",
        "re.split('\\.', text, maxsplit=2)"
      ],
      "execution_count": 52,
      "outputs": [
        {
          "output_type": "execute_result",
          "data": {
            "text/plain": [
              "['фыв', '', ' Фыфа']"
            ]
          },
          "metadata": {
            "tags": []
          },
          "execution_count": 52
        }
      ]
    },
    {
      "cell_type": "markdown",
      "metadata": {
        "id": "9-O3-cMU_Pld",
        "colab_type": "text"
      },
      "source": [
        "# sub\n",
        "ищет шаблон в строке и заменяет все совпадения на указанную подстроку\n",
        "\n",
        "параметры: (pattern, repl, string)"
      ]
    },
    {
      "cell_type": "code",
      "metadata": {
        "id": "m6gQLM1S_Ple",
        "colab_type": "code",
        "colab": {
          "base_uri": "https://localhost:8080/",
          "height": 34
        },
        "outputId": "1f1e257f-2664-4cfc-c10a-5cce97fe01e6"
      },
      "source": [
        "result = re.sub('a', 'b', 'abcabc')\n",
        "print(result)"
      ],
      "execution_count": 53,
      "outputs": [
        {
          "output_type": "stream",
          "text": [
            "bbcbbc\n"
          ],
          "name": "stdout"
        }
      ]
    },
    {
      "cell_type": "markdown",
      "metadata": {
        "id": "ONGjA07M_Plg",
        "colab_type": "text"
      },
      "source": [
        "## Задание 5:\n",
        "Замените все цифры на звездочки."
      ]
    },
    {
      "cell_type": "code",
      "metadata": {
        "id": "XOT4zZ5l_Plh",
        "colab_type": "code",
        "colab": {
          "base_uri": "https://localhost:8080/",
          "height": 34
        },
        "outputId": "f8c98bd5-9474-42bc-f430-e5030be9788c"
      },
      "source": [
        "re.sub(r'\\d', '*', 'a0123b c321d')"
      ],
      "execution_count": 60,
      "outputs": [
        {
          "output_type": "execute_result",
          "data": {
            "text/plain": [
              "'a****b c***d'"
            ]
          },
          "metadata": {
            "tags": []
          },
          "execution_count": 60
        }
      ]
    },
    {
      "cell_type": "markdown",
      "metadata": {
        "id": "4SZW6ShN_Plj",
        "colab_type": "text"
      },
      "source": [
        "# compile\n",
        "компилирует регулярное выражение в отдельный объект"
      ]
    },
    {
      "cell_type": "code",
      "metadata": {
        "id": "T9eGJ82X_Plk",
        "colab_type": "code",
        "colab": {
          "base_uri": "https://localhost:8080/",
          "height": 34
        },
        "outputId": "4be5a96f-c763-47af-96bb-50820bb2c9fe"
      },
      "source": [
        "# Пример: построение списка всех слов строки:\n",
        "prog = re.compile('[А-Яа-яё-]+')\n",
        "prog.findall(\"Слова? Да, больше, ещё больше слов! Что-то ещё.\")"
      ],
      "execution_count": 68,
      "outputs": [
        {
          "output_type": "execute_result",
          "data": {
            "text/plain": [
              "['Слова', 'Да', 'больше', 'ещё', 'больше', 'слов', 'Что-то', 'ещё']"
            ]
          },
          "metadata": {
            "tags": []
          },
          "execution_count": 68
        }
      ]
    },
    {
      "cell_type": "markdown",
      "metadata": {
        "id": "lW6BUUcp_Plo",
        "colab_type": "text"
      },
      "source": [
        "## Задание 6\n",
        "Для выбранной строки постройте список слов, которые длиннее трех символов."
      ]
    },
    {
      "cell_type": "code",
      "metadata": {
        "id": "jimv317i_Plo",
        "colab_type": "code",
        "colab": {
          "base_uri": "https://localhost:8080/",
          "height": 34
        },
        "outputId": "223d4a2a-d96c-4b7a-f45d-b9f9f0aaa1dd"
      },
      "source": [
        "prog = re.compile(r'\\b[^\\W\\d]{4,}')\n",
        "prog.findall('Ну что тут скажешь ка быть?')"
      ],
      "execution_count": 74,
      "outputs": [
        {
          "output_type": "execute_result",
          "data": {
            "text/plain": [
              "['скажешь', 'быть']"
            ]
          },
          "metadata": {
            "tags": []
          },
          "execution_count": 74
        }
      ]
    },
    {
      "cell_type": "markdown",
      "metadata": {
        "id": "O9dA81li_Plq",
        "colab_type": "text"
      },
      "source": [
        "## Задание 7\n",
        "Вернуть первое слово строки"
      ]
    },
    {
      "cell_type": "code",
      "metadata": {
        "id": "ho3_8vqR_Plr",
        "colab_type": "code",
        "colab": {
          "base_uri": "https://localhost:8080/",
          "height": 34
        },
        "outputId": "6348ddeb-58e2-4086-8649-64c9ea101b9f"
      },
      "source": [
        "prog = re.compile(r'^[^\\W\\d]+\\b')\n",
        "prog.match('Ава, он нам говорит...').group(0)"
      ],
      "execution_count": 84,
      "outputs": [
        {
          "output_type": "execute_result",
          "data": {
            "text/plain": [
              "'Ава'"
            ]
          },
          "metadata": {
            "tags": []
          },
          "execution_count": 84
        }
      ]
    },
    {
      "cell_type": "markdown",
      "metadata": {
        "id": "q9VMplv__Pls",
        "colab_type": "text"
      },
      "source": [
        "## Задание 8\n",
        "Вернуть список доменов (@gmail.com) из списка адресов электронной почты:\n",
        "\n",
        "abc.test@gmail.com, xyz@test.in, test.first@analyticsvidhya.com, first.test@rest.biz"
      ]
    },
    {
      "cell_type": "code",
      "metadata": {
        "id": "INN21kiR_Plt",
        "colab_type": "code",
        "colab": {
          "base_uri": "https://localhost:8080/",
          "height": 34
        },
        "outputId": "6c6282f1-d3ed-4413-ade0-69d8e46568b4"
      },
      "source": [
        "prog = re.compile(r'@[^\\W\\d]+\\.[^\\W\\d]+\\b')\n",
        "lst = 'abc.test@gmail.com, xyz@test.in, test.first@analyticsvidhya.com, first.test@rest.biz'\n",
        "prog.findall(lst)"
      ],
      "execution_count": 86,
      "outputs": [
        {
          "output_type": "execute_result",
          "data": {
            "text/plain": [
              "['@gmail.com', '@test.in', '@analyticsvidhya.com', '@rest.biz']"
            ]
          },
          "metadata": {
            "tags": []
          },
          "execution_count": 86
        }
      ]
    },
    {
      "cell_type": "markdown",
      "metadata": {
        "id": "q7sM68hx_Plx",
        "colab_type": "text"
      },
      "source": [
        "## Токенизация\n",
        "\n",
        "\n",
        "Самый наивный способ токенизировать текст -- разделить с помощью split. Но split упускает очень много всего, например, банально не отделяет пунктуацию от слов. Кроме этого, есть ещё много менее тривиальных проблем. Поэтому лучше использовать готовые токенизаторы.\n"
      ]
    },
    {
      "cell_type": "markdown",
      "metadata": {
        "id": "08ppSzYs_Plx",
        "colab_type": "text"
      },
      "source": [
        "\n",
        "## Задание 9\n",
        "\n",
        "Откройте и запишите в одну текстовую строку файл alice.txt.\n",
        "\n",
        "Ответьте на вопросы:\n",
        "\n",
        "    Сколько всего символов в файле?\n",
        "    Какой текст написан в последней строке файла? (Подсказка: в какой переменной содержится эта строка?)\n",
        "\n"
      ]
    },
    {
      "cell_type": "code",
      "metadata": {
        "id": "4MMttWuAL4iw",
        "colab_type": "code",
        "colab": {
          "base_uri": "https://localhost:8080/",
          "height": 122
        },
        "outputId": "2080c8f8-9cf2-4504-e46c-b62c4f8de0d1"
      },
      "source": [
        "from google.colab import drive\n",
        "drive.mount('/content/drive', force_remount=True)"
      ],
      "execution_count": 88,
      "outputs": [
        {
          "output_type": "stream",
          "text": [
            "Go to this URL in a browser: https://accounts.google.com/o/oauth2/auth?client_id=947318989803-6bn6qk8qdgf4n4g3pfee6491hc0brc4i.apps.googleusercontent.com&redirect_uri=urn%3Aietf%3Awg%3Aoauth%3A2.0%3Aoob&scope=email%20https%3A%2F%2Fwww.googleapis.com%2Fauth%2Fdocs.test%20https%3A%2F%2Fwww.googleapis.com%2Fauth%2Fdrive%20https%3A%2F%2Fwww.googleapis.com%2Fauth%2Fdrive.photos.readonly%20https%3A%2F%2Fwww.googleapis.com%2Fauth%2Fpeopleapi.readonly&response_type=code\n",
            "\n",
            "Enter your authorization code:\n",
            "··········\n",
            "Mounted at /content/drive\n"
          ],
          "name": "stdout"
        }
      ]
    },
    {
      "cell_type": "code",
      "metadata": {
        "id": "aslNU63WMgmX",
        "colab_type": "code",
        "colab": {
          "base_uri": "https://localhost:8080/",
          "height": 34
        },
        "outputId": "43d0faf1-8010-4f8f-89c3-f814adb9562f"
      },
      "source": [
        "!ls"
      ],
      "execution_count": 89,
      "outputs": [
        {
          "output_type": "stream",
          "text": [
            "alice.txt  drive  sample_data\n"
          ],
          "name": "stdout"
        }
      ]
    },
    {
      "cell_type": "code",
      "metadata": {
        "id": "TZNGRHvU_Ply",
        "colab_type": "code",
        "colab": {}
      },
      "source": [
        "with open('alice.txt', 'r', encoding='utf-8') as infile:\n",
        "    s = infile.read()"
      ],
      "execution_count": 0,
      "outputs": []
    },
    {
      "cell_type": "code",
      "metadata": {
        "id": "1Liwx3N3M7Wn",
        "colab_type": "code",
        "colab": {
          "base_uri": "https://localhost:8080/",
          "height": 34
        },
        "outputId": "7fc9a08e-d93d-4850-f010-bcd33eb3d9e9"
      },
      "source": [
        "len(s)"
      ],
      "execution_count": 93,
      "outputs": [
        {
          "output_type": "execute_result",
          "data": {
            "text/plain": [
              "129384"
            ]
          },
          "metadata": {
            "tags": []
          },
          "execution_count": 93
        }
      ]
    },
    {
      "cell_type": "code",
      "metadata": {
        "id": "AqUtZV2yM80H",
        "colab_type": "code",
        "colab": {
          "base_uri": "https://localhost:8080/",
          "height": 54
        },
        "outputId": "9488d3d4-35c5-4337-c66a-bbaf1d39c1c1"
      },
      "source": [
        "s.rsplit('\\n', maxsplit=1)[-1]"
      ],
      "execution_count": 102,
      "outputs": [
        {
          "output_type": "execute_result",
          "data": {
            "text/plain": [
              "'И, наконец, она представила себе, как ее маленькая сестра вырастет и, сохранив в свои зрелые годы простое и любящее детское сердце, станет собирать вокруг себя других детей, и как их глаза заблестят от дивных сказок. Быть может, она поведает им и о Стране Чудес и, разделив с ними их нехитрые горести и нехитрые радости, вспомнит свое детство и счастливые летние дни.'"
            ]
          },
          "metadata": {
            "tags": []
          },
          "execution_count": 102
        }
      ]
    },
    {
      "cell_type": "markdown",
      "metadata": {
        "id": "R8Wtetum_Pl2",
        "colab_type": "text"
      },
      "source": [
        "\n",
        "## Задание 10\n",
        "\n",
        "Создайте и скомпилируйте регулярное выражения для разбиения полученной строки на токены. Не забудьте про дефис и букву ё.\n",
        "\n",
        "Найдите все токены с помощью этого регулярного выражения, ответьте на вопросы:\n",
        "\n",
        "    Сколько токенов получилось?\n",
        "    Какой токен первый?\n",
        "    Какой токен последний?\n",
        "\n"
      ]
    },
    {
      "cell_type": "code",
      "metadata": {
        "id": "25jh1Sw8_Pl3",
        "colab_type": "code",
        "colab": {}
      },
      "source": [
        "prog = re.compile('[а-яё-]+')\n",
        "l1 = prog.findall(s.lower())"
      ],
      "execution_count": 0,
      "outputs": []
    },
    {
      "cell_type": "code",
      "metadata": {
        "id": "LsNItTCxNkn5",
        "colab_type": "code",
        "colab": {
          "base_uri": "https://localhost:8080/",
          "height": 34
        },
        "outputId": "1eea352d-468a-4a1b-de83-20b8cc5a9286"
      },
      "source": [
        "len(l1), l1[0], l1[-1]"
      ],
      "execution_count": 106,
      "outputs": [
        {
          "output_type": "execute_result",
          "data": {
            "text/plain": [
              "(19935, 'июльский', 'дни')"
            ]
          },
          "metadata": {
            "tags": []
          },
          "execution_count": 106
        }
      ]
    },
    {
      "cell_type": "markdown",
      "metadata": {
        "id": "RYQwlh5j_Pl5",
        "colab_type": "text"
      },
      "source": [
        "## Токенизация в nltk"
      ]
    },
    {
      "cell_type": "code",
      "metadata": {
        "id": "VoXDfSOr_Pl6",
        "colab_type": "code",
        "colab": {
          "base_uri": "https://localhost:8080/",
          "height": 68
        },
        "outputId": "effcbd7d-f707-4d29-cc38-9d920fb80c2c"
      },
      "source": [
        "from nltk.tokenize import word_tokenize\n",
        "import nltk\n",
        "nltk.download('punkt')"
      ],
      "execution_count": 3,
      "outputs": [
        {
          "output_type": "stream",
          "text": [
            "[nltk_data] Downloading package punkt to /root/nltk_data...\n",
            "[nltk_data]   Unzipping tokenizers/punkt.zip.\n"
          ],
          "name": "stdout"
        },
        {
          "output_type": "execute_result",
          "data": {
            "text/plain": [
              "True"
            ]
          },
          "metadata": {
            "tags": []
          },
          "execution_count": 3
        }
      ]
    },
    {
      "cell_type": "code",
      "metadata": {
        "id": "2-Ixdguo_Pl7",
        "colab_type": "code",
        "colab": {
          "base_uri": "https://localhost:8080/",
          "height": 34
        },
        "outputId": "15c6fc3a-48d0-416d-af86-2f6b5d62e431"
      },
      "source": [
        "example = 'Но не каждый хочет что-то исправлять:('\n",
        "word_tokenize(example)"
      ],
      "execution_count": 4,
      "outputs": [
        {
          "output_type": "execute_result",
          "data": {
            "text/plain": [
              "['Но', 'не', 'каждый', 'хочет', 'что-то', 'исправлять', ':', '(']"
            ]
          },
          "metadata": {
            "tags": []
          },
          "execution_count": 4
        }
      ]
    },
    {
      "cell_type": "code",
      "metadata": {
        "id": "xFTZLChC_PmA",
        "colab_type": "code",
        "colab": {
          "base_uri": "https://localhost:8080/",
          "height": 289
        },
        "outputId": "52dc0b00-6c21-403e-ad31-5b07ad70c670"
      },
      "source": [
        "from nltk import tokenize\n",
        "dir(tokenize)[:16]"
      ],
      "execution_count": 5,
      "outputs": [
        {
          "output_type": "execute_result",
          "data": {
            "text/plain": [
              "['BlanklineTokenizer',\n",
              " 'LineTokenizer',\n",
              " 'MWETokenizer',\n",
              " 'PunktSentenceTokenizer',\n",
              " 'RegexpTokenizer',\n",
              " 'ReppTokenizer',\n",
              " 'SExprTokenizer',\n",
              " 'SpaceTokenizer',\n",
              " 'StanfordSegmenter',\n",
              " 'TabTokenizer',\n",
              " 'TextTilingTokenizer',\n",
              " 'ToktokTokenizer',\n",
              " 'TreebankWordTokenizer',\n",
              " 'TweetTokenizer',\n",
              " 'WhitespaceTokenizer',\n",
              " 'WordPunctTokenizer']"
            ]
          },
          "metadata": {
            "tags": []
          },
          "execution_count": 5
        }
      ]
    },
    {
      "cell_type": "markdown",
      "metadata": {
        "id": "ios6apAv_PmH",
        "colab_type": "text"
      },
      "source": [
        "Они умеют выдавать индексы начала и конца каждого токена:"
      ]
    },
    {
      "cell_type": "code",
      "metadata": {
        "id": "NxvAhbR__PmI",
        "colab_type": "code",
        "colab": {
          "base_uri": "https://localhost:8080/",
          "height": 34
        },
        "outputId": "fe3c149f-71f5-496e-ea28-8195576bef50"
      },
      "source": [
        "wh_tok = tokenize.WhitespaceTokenizer()\n",
        "list(wh_tok.span_tokenize(example))"
      ],
      "execution_count": 6,
      "outputs": [
        {
          "output_type": "execute_result",
          "data": {
            "text/plain": [
              "[(0, 2), (3, 5), (6, 12), (13, 18), (19, 25), (26, 38)]"
            ]
          },
          "metadata": {
            "tags": []
          },
          "execution_count": 6
        }
      ]
    },
    {
      "cell_type": "code",
      "metadata": {
        "id": "QIt--yz3PSaE",
        "colab_type": "code",
        "colab": {
          "base_uri": "https://localhost:8080/",
          "height": 34
        },
        "outputId": "c1302168-c0f4-4d51-e11e-1fa2019434a8"
      },
      "source": [
        "wh_tok.tokenize(example)"
      ],
      "execution_count": 7,
      "outputs": [
        {
          "output_type": "execute_result",
          "data": {
            "text/plain": [
              "['Но', 'не', 'каждый', 'хочет', 'что-то', 'исправлять:(']"
            ]
          },
          "metadata": {
            "tags": []
          },
          "execution_count": 7
        }
      ]
    },
    {
      "cell_type": "markdown",
      "metadata": {
        "id": "aI5AwX1K_PmL",
        "colab_type": "text"
      },
      "source": [
        "(если вам было интересно, зачем вообще включать в модуль токенизатор, который работает как .split() :))\n",
        "\n",
        "Некторые токенизаторы ведут себя специфично:"
      ]
    },
    {
      "cell_type": "code",
      "metadata": {
        "id": "_9gd5HwI_PmM",
        "colab_type": "code",
        "colab": {
          "base_uri": "https://localhost:8080/",
          "height": 34
        },
        "outputId": "7308f57d-7b7b-4c10-c8a7-b8236571b3fd"
      },
      "source": [
        "tokenize.TreebankWordTokenizer().tokenize(\"don't stop me\")"
      ],
      "execution_count": 8,
      "outputs": [
        {
          "output_type": "execute_result",
          "data": {
            "text/plain": [
              "['do', \"n't\", 'stop', 'me']"
            ]
          },
          "metadata": {
            "tags": []
          },
          "execution_count": 8
        }
      ]
    },
    {
      "cell_type": "markdown",
      "metadata": {
        "id": "cNZXMX9Q_PmP",
        "colab_type": "text"
      },
      "source": [
        "Для некоторых задач это может быть полезно.\n",
        "\n",
        "А некоторые -- вообще не для текста на естественном языке (не очень понятно, зачем это в nltk :)):"
      ]
    },
    {
      "cell_type": "code",
      "metadata": {
        "id": "ZmRY4N9c_PmP",
        "colab_type": "code",
        "colab": {
          "base_uri": "https://localhost:8080/",
          "height": 34
        },
        "outputId": "91db6c2c-f26e-4d85-a7c8-2d3ae1e965dd"
      },
      "source": [
        "tokenize.SExprTokenizer().tokenize(\"(a (b c)) d e (f)\")"
      ],
      "execution_count": 9,
      "outputs": [
        {
          "output_type": "execute_result",
          "data": {
            "text/plain": [
              "['(a (b c))', 'd', 'e', '(f)']"
            ]
          },
          "metadata": {
            "tags": []
          },
          "execution_count": 9
        }
      ]
    },
    {
      "cell_type": "markdown",
      "metadata": {
        "id": "iqru39Sm_PmW",
        "colab_type": "text"
      },
      "source": [
        "## Стоп-слова и пунктуация\n",
        "\n",
        "Стоп-слова -- это слова, которые часто встречаются практически в любом тексте и ничего интересного не говорят о конретном документе, то есть играют роль шума. Поэтому их принято убирать. По той же причине убирают и пунктуацию.\n"
      ]
    },
    {
      "cell_type": "code",
      "metadata": {
        "id": "Bwpiogee_PmX",
        "colab_type": "code",
        "colab": {
          "base_uri": "https://localhost:8080/",
          "height": 88
        },
        "outputId": "8865f1ba-6bfa-458c-de81-fe5afeaf3de3"
      },
      "source": [
        "# у вас здесь, вероятно, выскочит ошибка и надо будет загрузить стоп слова (в тексте ошибки написано, как)\n",
        "import nltk\n",
        "from nltk.corpus import stopwords\n",
        "nltk.download('stopwords')\n",
        "print(stopwords.words('russian'))"
      ],
      "execution_count": 25,
      "outputs": [
        {
          "output_type": "stream",
          "text": [
            "[nltk_data] Downloading package stopwords to /root/nltk_data...\n",
            "[nltk_data]   Package stopwords is already up-to-date!\n",
            "['и', 'в', 'во', 'не', 'что', 'он', 'на', 'я', 'с', 'со', 'как', 'а', 'то', 'все', 'она', 'так', 'его', 'но', 'да', 'ты', 'к', 'у', 'же', 'вы', 'за', 'бы', 'по', 'только', 'ее', 'мне', 'было', 'вот', 'от', 'меня', 'еще', 'нет', 'о', 'из', 'ему', 'теперь', 'когда', 'даже', 'ну', 'вдруг', 'ли', 'если', 'уже', 'или', 'ни', 'быть', 'был', 'него', 'до', 'вас', 'нибудь', 'опять', 'уж', 'вам', 'ведь', 'там', 'потом', 'себя', 'ничего', 'ей', 'может', 'они', 'тут', 'где', 'есть', 'надо', 'ней', 'для', 'мы', 'тебя', 'их', 'чем', 'была', 'сам', 'чтоб', 'без', 'будто', 'чего', 'раз', 'тоже', 'себе', 'под', 'будет', 'ж', 'тогда', 'кто', 'этот', 'того', 'потому', 'этого', 'какой', 'совсем', 'ним', 'здесь', 'этом', 'один', 'почти', 'мой', 'тем', 'чтобы', 'нее', 'сейчас', 'были', 'куда', 'зачем', 'всех', 'никогда', 'можно', 'при', 'наконец', 'два', 'об', 'другой', 'хоть', 'после', 'над', 'больше', 'тот', 'через', 'эти', 'нас', 'про', 'всего', 'них', 'какая', 'много', 'разве', 'три', 'эту', 'моя', 'впрочем', 'хорошо', 'свою', 'этой', 'перед', 'иногда', 'лучше', 'чуть', 'том', 'нельзя', 'такой', 'им', 'более', 'всегда', 'конечно', 'всю', 'между']\n"
          ],
          "name": "stdout"
        }
      ]
    },
    {
      "cell_type": "code",
      "metadata": {
        "id": "HA0g8rtP_Pma",
        "colab_type": "code",
        "colab": {
          "base_uri": "https://localhost:8080/",
          "height": 34
        },
        "outputId": "67e63d0d-d644-42bb-af3e-1f53ddda8429"
      },
      "source": [
        "from string import punctuation\n",
        "punctuation"
      ],
      "execution_count": 11,
      "outputs": [
        {
          "output_type": "execute_result",
          "data": {
            "text/plain": [
              "'!\"#$%&\\'()*+,-./:;<=>?@[\\\\]^_`{|}~'"
            ]
          },
          "metadata": {
            "tags": []
          },
          "execution_count": 11
        }
      ]
    },
    {
      "cell_type": "code",
      "metadata": {
        "id": "RDGh5JFC_Pmd",
        "colab_type": "code",
        "colab": {}
      },
      "source": [
        "noise = stopwords.words('russian') + list(punctuation)"
      ],
      "execution_count": 0,
      "outputs": []
    },
    {
      "cell_type": "markdown",
      "metadata": {
        "id": "db6NXo5Z_Pme",
        "colab_type": "text"
      },
      "source": [
        "## Лемматизация\n",
        "\n",
        "Лемматизация – это сведение разных форм одного слова к начальной форме – лемме. Почему это хорошо?\n",
        "\n",
        "    Во-первых, мы хотим рассматривать как отдельную фичу каждое слово, а не каждую его отдельную форму.\n",
        "    Во-вторых, некоторые стоп-слова стоят только в начальной форме, и без лематизации выкидываем мы только её.\n",
        "\n",
        "Для русского есть два хороших лемматизатора: mystem и pymorphy:\n",
        "Mystem\n",
        "\n",
        "Как с ним работать:\n",
        "\n",
        "    можно скачать mystem и запускать из терминала с разными параметрами\n",
        "    pymystem3 - обертка для питона, работает медленнее, но это удобно"
      ]
    },
    {
      "cell_type": "code",
      "metadata": {
        "id": "GX7_7sT4_Pme",
        "colab_type": "code",
        "colab": {}
      },
      "source": [
        "from pymystem3 import Mystem\n",
        "mystem_analyzer = Mystem()"
      ],
      "execution_count": 0,
      "outputs": []
    },
    {
      "cell_type": "markdown",
      "metadata": {
        "id": "JPmO3qGv_Pmh",
        "colab_type": "text"
      },
      "source": [
        "Мы инициализировали Mystem c дефолтными параметрами. А вообще параметры есть такие:\n",
        "\n",
        "    mystem_bin - путь к mystem, если их несколько\n",
        "    grammar_info - нужна ли грамматическая информация или только леммы (по дефолту нужна)\n",
        "    disambiguation - нужно ли снятие омонимии - дизамбигуация (по дефолту нужна)\n",
        "    entire_input - нужно ли сохранять в выводе все (пробелы всякие, например), или можно выкинуть (по дефолту оставляется все)\n",
        "\n",
        "Методы Mystem принимают строку, токенизатор вшит внутри. Можно, конечно, и пословно анализировать, но тогда он не сможет учитывать контекст.\n",
        "\n",
        "Можно просто лемматизировать текст:"
      ]
    },
    {
      "cell_type": "code",
      "metadata": {
        "id": "L5GyyjrnTI9c",
        "colab_type": "code",
        "colab": {}
      },
      "source": [
        "print(mystem_analyzer.lemmatize(example))"
      ],
      "execution_count": 0,
      "outputs": []
    },
    {
      "cell_type": "code",
      "metadata": {
        "id": "9OvlptAZSt1p",
        "colab_type": "code",
        "colab": {
          "base_uri": "https://localhost:8080/",
          "height": 34
        },
        "outputId": "85bd11c5-6252-453d-cbce-81c1f6917a10"
      },
      "source": [
        "example"
      ],
      "execution_count": 15,
      "outputs": [
        {
          "output_type": "execute_result",
          "data": {
            "text/plain": [
              "'Но не каждый хочет что-то исправлять:('"
            ]
          },
          "metadata": {
            "tags": []
          },
          "execution_count": 15
        }
      ]
    },
    {
      "cell_type": "markdown",
      "metadata": {
        "id": "l19G4SIR_Pmn",
        "colab_type": "text"
      },
      "source": [
        "А можно получить грамматическую информацию:"
      ]
    },
    {
      "cell_type": "code",
      "metadata": {
        "id": "X_qpYAB4_Pmo",
        "colab_type": "code",
        "colab": {}
      },
      "source": [
        "example = 'Но не каждый хочет что-то исправлять:('\n",
        "mystem_analyzer.analyze(example)"
      ],
      "execution_count": 0,
      "outputs": []
    },
    {
      "cell_type": "markdown",
      "metadata": {
        "id": "_TJW0ZKx_Pmq",
        "colab_type": "text"
      },
      "source": [
        "Используем лемматизатор майстема в качестве токенизатора."
      ]
    },
    {
      "cell_type": "code",
      "metadata": {
        "id": "F0YWpYN-_Pmr",
        "colab_type": "code",
        "colab": {}
      },
      "source": [
        "import re\n",
        "def my_preproc(text):\n",
        "    text = re.sub('[{}]'.format(punctuation), '', text)\n",
        "    text = mystem_analyzer.lemmatize(text)\n",
        "    return [word for word in text if word not in stopwords.words('russian') + [' ', '\\n']]"
      ],
      "execution_count": 0,
      "outputs": []
    },
    {
      "cell_type": "markdown",
      "metadata": {
        "id": "WcRccoKa_Pm1",
        "colab_type": "text"
      },
      "source": [
        "## Pymorphy\n",
        "\n",
        "Это модуль на питоне, довольно быстрый и с кучей функций."
      ]
    },
    {
      "cell_type": "code",
      "metadata": {
        "id": "SCeDicli_Pm3",
        "colab_type": "code",
        "colab": {
          "base_uri": "https://localhost:8080/",
          "height": 105
        },
        "outputId": "3d9d5457-ab26-4112-e1b2-bc1412f417f9"
      },
      "source": [
        "!pip install pymorphy2\n",
        "import pymorphy2\n",
        "from pymorphy2 import MorphAnalyzer\n",
        "pymorphy2_analyzer = MorphAnalyzer()"
      ],
      "execution_count": 68,
      "outputs": [
        {
          "output_type": "stream",
          "text": [
            "Requirement already satisfied: pymorphy2 in /usr/local/lib/python3.6/dist-packages (0.8)\n",
            "Requirement already satisfied: docopt>=0.6 in /usr/local/lib/python3.6/dist-packages (from pymorphy2) (0.6.2)\n",
            "Requirement already satisfied: dawg-python>=0.7 in /usr/local/lib/python3.6/dist-packages (from pymorphy2) (0.7.2)\n",
            "Requirement already satisfied: pymorphy2-dicts<3.0,>=2.4 in /usr/local/lib/python3.6/dist-packages (from pymorphy2) (2.4.393442.3710985)\n"
          ],
          "name": "stdout"
        }
      ]
    },
    {
      "cell_type": "markdown",
      "metadata": {
        "id": "5DtnTpwT_Pm7",
        "colab_type": "text"
      },
      "source": [
        "pymorphy2 работает с отдельными словами. Если дать ему на вход предложение - он его просто не лемматизирует, т.к. не понимает"
      ]
    },
    {
      "cell_type": "code",
      "metadata": {
        "id": "9zOOhpPP_Pm8",
        "colab_type": "code",
        "colab": {
          "base_uri": "https://localhost:8080/",
          "height": 54
        },
        "outputId": "15773124-fd2c-45fd-aa0e-a84e7792a2b9"
      },
      "source": [
        "ana = pymorphy2_analyzer.parse(example)\n",
        "ana"
      ],
      "execution_count": 9,
      "outputs": [
        {
          "output_type": "execute_result",
          "data": {
            "text/plain": [
              "[Parse(word='но не каждый хочет что-то исправлять:(', tag=OpencorporaTag('UNKN'), normal_form='но не каждый хочет что-то исправлять:(', score=1.0, methods_stack=((<UnknAnalyzer>, 'Но не каждый хочет что-то исправлять:('),))]"
            ]
          },
          "metadata": {
            "tags": []
          },
          "execution_count": 9
        }
      ]
    },
    {
      "cell_type": "code",
      "metadata": {
        "id": "qS_iNqet_Pm_",
        "colab_type": "code",
        "colab": {
          "base_uri": "https://localhost:8080/",
          "height": 34
        },
        "outputId": "14374006-68e1-4d43-e278-baf9350348bd"
      },
      "source": [
        "ana[0].normal_form"
      ],
      "execution_count": 10,
      "outputs": [
        {
          "output_type": "execute_result",
          "data": {
            "text/plain": [
              "'но не каждый хочет что-то исправлять:('"
            ]
          },
          "metadata": {
            "tags": []
          },
          "execution_count": 10
        }
      ]
    },
    {
      "cell_type": "markdown",
      "metadata": {
        "id": "fcNyST9D_PnC",
        "colab_type": "text"
      },
      "source": [
        "А теперь напишите аналогичную функцию для лемматизации с pymorphy2:"
      ]
    },
    {
      "cell_type": "code",
      "metadata": {
        "id": "wqwyA3_pTpkT",
        "colab_type": "code",
        "colab": {}
      },
      "source": [
        "from string import punctuation\n",
        "def pymorphy2_preproc(text):\n",
        "    text = re.sub('[{}]'.format(punctuation), '', text)\n",
        "    text = [pymorphy2_analyzer.parse(word) for word in text.split()]\n",
        "    return [word[0] for word in text if word[0].word not in stopwords.words('russian') + [' ', '\\n']]"
      ],
      "execution_count": 0,
      "outputs": []
    },
    {
      "cell_type": "code",
      "metadata": {
        "id": "DzyBpihWT_Sl",
        "colab_type": "code",
        "colab": {
          "base_uri": "https://localhost:8080/",
          "height": 105
        },
        "outputId": "22fc5ee8-61db-4a42-ec4f-c0bcdcb6201a"
      },
      "source": [
        "pymorphy2_preproc(example)"
      ],
      "execution_count": 39,
      "outputs": [
        {
          "output_type": "execute_result",
          "data": {
            "text/plain": [
              "[Parse(word='каждый', tag=OpencorporaTag('ADJF,Apro inan,masc,sing,accs'), normal_form='каждый', score=0.578947, methods_stack=((<DictionaryAnalyzer>, 'каждый', 1245, 3),)),\n",
              " Parse(word='хочет', tag=OpencorporaTag('VERB,impf,tran sing,3per,pres,indc'), normal_form='хотеть', score=1.0, methods_stack=((<DictionaryAnalyzer>, 'хочет', 2999, 5),)),\n",
              " Parse(word='чтото', tag=OpencorporaTag('PRTS,perf,past,pssv neut,sing'), normal_form='чтоть', score=0.5616438356164384, methods_stack=((<FakeDictionary>, 'чтото', 806, 73), (<KnownSuffixAnalyzer>, 'ото'))),\n",
              " Parse(word='исправлять', tag=OpencorporaTag('INFN,impf,tran'), normal_form='исправлять', score=1.0, methods_stack=((<DictionaryAnalyzer>, 'исправлять', 206, 0),))]"
            ]
          },
          "metadata": {
            "tags": []
          },
          "execution_count": 39
        }
      ]
    },
    {
      "cell_type": "markdown",
      "metadata": {
        "id": "LNanEjro_PnD",
        "colab_type": "text"
      },
      "source": [
        "## mystem vs. pymorphy\n",
        "\n",
        "1) Mystem работает невероятно медленно под windows на больших текстах.\n",
        "\n",
        "2) Снятие омонимии. Mystem умеет снимать омонимию по контексту (хотя не всегда преуспевает), pymorphy2 берет на вход одно слово и соответственно вообще не умеет дизамбигуировать по контексту:\n"
      ]
    },
    {
      "cell_type": "code",
      "metadata": {
        "id": "R_a0mTUS_PnF",
        "colab_type": "code",
        "colab": {}
      },
      "source": [
        "homonym1 = 'За время обучения я прослушал больше сорока курсов.'\n",
        "homonym2 = 'Сорока своровала блестящее украшение со стола.'\n",
        "mystem_analyzer = Mystem() # инициализирую объект с дефолтными параметрами\n",
        "\n",
        "print(mystem_analyzer.analyze(homonym1)[-5])\n",
        "print(mystem_analyzer.analyze(homonym2)[0])"
      ],
      "execution_count": 0,
      "outputs": []
    },
    {
      "cell_type": "markdown",
      "metadata": {
        "id": "QZ_sJ3Q8_PnH",
        "colab_type": "text"
      },
      "source": [
        "## Задание 11\n",
        "\n",
        "Используя стандартные инструменты переведите корпус alice.txt в формат CoNLL-U.\n",
        "Используйте следующие колонки: \n",
        "    1. Номер предложения в тексте\n",
        "    2. Токен в том виде, в котором он встретился в тексте\n",
        "    3. Лемма токена\n",
        "    4. POS-таг токена\n",
        "    5. Вектор грамматических значений токена\n",
        "    6. Целевая метка (сделайте метку везде OUT)"
      ]
    },
    {
      "cell_type": "code",
      "metadata": {
        "id": "pA4_uE3v_PnI",
        "colab_type": "code",
        "colab": {
          "base_uri": "https://localhost:8080/",
          "height": 105
        },
        "outputId": "4c0c43de-9cc5-43b4-fdf0-361a5c927cdb"
      },
      "source": [
        "!pip install conllu"
      ],
      "execution_count": 40,
      "outputs": [
        {
          "output_type": "stream",
          "text": [
            "Collecting conllu\n",
            "  Downloading https://files.pythonhosted.org/packages/ae/54/b0ae1199f3d01666821b028cd967f7c0ac527ab162af433d3da69242cea2/conllu-1.3.1-py2.py3-none-any.whl\n",
            "Installing collected packages: conllu\n",
            "Successfully installed conllu-1.3.1\n"
          ],
          "name": "stdout"
        }
      ]
    },
    {
      "cell_type": "code",
      "metadata": {
        "id": "D0_yI8SoWl9y",
        "colab_type": "code",
        "colab": {}
      },
      "source": [
        "from conllu import parse"
      ],
      "execution_count": 0,
      "outputs": []
    },
    {
      "cell_type": "code",
      "metadata": {
        "id": "imVW0heJXAJB",
        "colab_type": "code",
        "colab": {}
      },
      "source": [
        "with open('alice.txt', 'r', encoding='utf-8') as f:\n",
        "    text = f.read()"
      ],
      "execution_count": 0,
      "outputs": []
    },
    {
      "cell_type": "code",
      "metadata": {
        "id": "pODvzpypXlFG",
        "colab_type": "code",
        "colab": {}
      },
      "source": [
        "text = re.sub(r'[{}]'.format(punctuation), '', text)"
      ],
      "execution_count": 0,
      "outputs": []
    },
    {
      "cell_type": "code",
      "metadata": {
        "id": "0BakKHHoXFcB",
        "colab_type": "code",
        "colab": {}
      },
      "source": [
        "text = [sent for sent in text.split('\\n') if sent]"
      ],
      "execution_count": 0,
      "outputs": []
    },
    {
      "cell_type": "code",
      "metadata": {
        "id": "t0Sg3QUVazUr",
        "colab_type": "code",
        "colab": {}
      },
      "source": [
        "text"
      ],
      "execution_count": 0,
      "outputs": []
    },
    {
      "cell_type": "code",
      "metadata": {
        "id": "PxsUm601XdKC",
        "colab_type": "code",
        "colab": {
          "base_uri": "https://localhost:8080/",
          "height": 85
        },
        "outputId": "3710a458-b536-4716-c9fc-f75b17eacf29"
      },
      "source": [
        "for sent in text:\n",
        "    for word_index, word in enumerate(sent.split()):\n",
        "        parsed = pymorphy2_analyzer.parse(word)\n",
        "        norm_form = parsed[0].normal_form\n",
        "        pos = parsed[0].tag\n",
        "        print(word_index, word, norm_form, pos, 'OUT', sep='\\t')\n",
        "    break"
      ],
      "execution_count": 101,
      "outputs": [
        {
          "output_type": "stream",
          "text": [
            "0\tИюльский\tиюльский\tADJF masc,sing,nomn\tOUT\n",
            "1\tполдень\tполдень\tNOUN,inan,masc sing,accs\tOUT\n",
            "2\tзолотой\tзолотой\tADJF masc,sing,nomn\tOUT\n",
            "3\t1\t1\tNUMB,intg\tOUT\n"
          ],
          "name": "stdout"
        }
      ]
    }
  ]
}